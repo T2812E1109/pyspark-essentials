{
 "cells": [
  {
   "cell_type": "markdown",
   "metadata": {},
   "source": [
    "# Joining and Appending DataFrames in PySpark HW\n",
    "\n",
    "Now it's time to test your knowledge and further engrain the concepts we touched on in the lectures. Let's go ahead and get started.\n",
    "\n",
    "\n",
    "\n",
    "\n",
    "**As always let's start our Spark instance.**"
   ]
  },
  {
   "cell_type": "code",
   "execution_count": 14,
   "metadata": {
    "ExecuteTime": {
     "end_time": "2023-05-24T14:06:01.586834900Z",
     "start_time": "2023-05-24T14:06:01.555996200Z"
    }
   },
   "outputs": [
    {
     "data": {
      "text/plain": "<pyspark.sql.session.SparkSession at 0x218fff0e7c0>",
      "text/html": "\n            <div>\n                <p><b>SparkSession - in-memory</b></p>\n                \n        <div>\n            <p><b>SparkContext</b></p>\n\n            <p><a href=\"http://host.docker.internal:4040\">Spark UI</a></p>\n\n            <dl>\n              <dt>Version</dt>\n                <dd><code>v3.2.4</code></dd>\n              <dt>Master</dt>\n                <dd><code>local[*]</code></dd>\n              <dt>AppName</dt>\n                <dd><code>JoinHW</code></dd>\n            </dl>\n        </div>\n        \n            </div>\n        "
     },
     "execution_count": 14,
     "metadata": {},
     "output_type": "execute_result"
    }
   ],
   "source": [
    "import findspark\n",
    "\n",
    "findspark.init()\n",
    "\n",
    "from pyspark.sql import SparkSession\n",
    "from pyspark.sql import functions as F\n",
    "from pyspark.sql import types as T\n",
    "\n",
    "spark: SparkSession = SparkSession.builder.master(\"local[*]\").appName(\"JoinHW\").getOrCreate()\n",
    "\n",
    "spark"
   ]
  },
  {
   "cell_type": "markdown",
   "metadata": {},
   "source": [
    "## Read in the database\n",
    "\n",
    "Let cotinue working with our college courses dataframe to get some more insights and practice what we have learned!Let's read in the whole database using the loop function that we learned about in the lecture to automatically read in all the datasets from the uw-madision-courses folder (there are too many datasets to each one individually."
   ]
  },
  {
   "cell_type": "code",
   "execution_count": 15,
   "metadata": {
    "ExecuteTime": {
     "end_time": "2023-05-24T14:06:06.686296100Z",
     "start_time": "2023-05-24T14:06:04.314329900Z"
    }
   },
   "outputs": [],
   "source": [
    "import os\n",
    "\n",
    "dfs = {}\n",
    "\n",
    "base_path = r\"Datasets/uw-madison-courses\"\n",
    "\n",
    "for f in os.listdir(base_path):\n",
    "    f_name = f.split(\".\")[0]\n",
    "    f_type = f.split(\".\")[-1]\n",
    "\n",
    "    if f_type == \"csv\":\n",
    "        dfs[f_name] = spark.read.csv(\n",
    "            inferSchema=True,\n",
    "            header=True,\n",
    "            sep=\",\",\n",
    "            path=f\"{base_path}/{f}\"\n",
    "        )"
   ]
  },
  {
   "cell_type": "markdown",
   "metadata": {},
   "source": [
    "Now check the contents of a few of the dataframses that were read in above."
   ]
  },
  {
   "cell_type": "code",
   "execution_count": null,
   "metadata": {},
   "outputs": [],
   "source": [
    "list(dfs.keys())"
   ]
  },
  {
   "cell_type": "markdown",
   "metadata": {},
   "source": [
    "## Recap: About this database\n",
    "\n",
    "You will notice that there are several more tables in the uw-madision-courses folder than there are read in above. This so that you will have a chance to practice your own custom joins and learn about the relationships between a real database work. Sometimes we don't know how they are related and we need to figure it out! I'll save that for the HW :) \n",
    "\n",
    "Here is a look at some of the important variables we can use to join our tables:\n",
    "\n",
    " - course_offerings: uuid, course_uuid, term_code, name\n",
    " - instructors: id, name\n",
    " - schedules: uuid\n",
    " - sections: uuid, course_offering_uuid,room_uuid, schedule_uuid\n",
    " - teachings: instructor_id, section_uuid\n",
    " - courses: uuid\n",
    " - grade_distributions: course_offering_uuid,section_number\n",
    " - rooms: uuid, facility_code, room_code\n",
    " - subjects: code\n",
    " - subject_memberships: subject_code, course_offering_uuid\n",
    " \n",
    " **Source:** https://www.kaggle.com/Madgrades/uw-madison-courses\n",
    " \n",
    "So alright, let's use this information to discover some insights from this data!"
   ]
  },
  {
   "cell_type": "markdown",
   "metadata": {},
   "source": [
    "## 1a. Can you assign the room numbers to each section of each course?\n",
    "\n",
    "Show only the rooms uuid, facility code, room number, term code and the name of the course from the course_offerings table."
   ]
  },
  {
   "cell_type": "code",
   "execution_count": 16,
   "metadata": {
    "ExecuteTime": {
     "end_time": "2023-05-24T14:06:09.314358700Z",
     "start_time": "2023-05-24T14:06:09.278253400Z"
    }
   },
   "outputs": [
    {
     "name": "stdout",
     "output_type": "stream",
     "text": [
      "['uuid', 'course_uuid', 'term_code', 'name']\n",
      "['uuid', 'course_offering_uuid', 'section_type', 'number', 'room_uuid', 'schedule_uuid']\n",
      "['uuid', 'facility_code', 'room_code']\n"
     ]
    }
   ],
   "source": [
    "print(dfs.get(\"course_offerings\").columns)\n",
    "print(dfs.get(\"sections\").columns)\n",
    "print(dfs.get(\"rooms\").columns)\n",
    "\n",
    "course_offerings = dfs.get(\"course_offerings\")\n",
    "sections = dfs.get(\"sections\")\n",
    "rooms = dfs.get(\"rooms\")"
   ]
  },
  {
   "cell_type": "code",
   "execution_count": 19,
   "metadata": {
    "ExecuteTime": {
     "end_time": "2023-05-24T14:09:49.109593300Z",
     "start_time": "2023-05-24T14:09:45.521457100Z"
    }
   },
   "outputs": [
    {
     "data": {
      "text/plain": "                                 name                             room_uuid   \n0       \"\"\"Scand Modern\"\" Phenomenon\"  3215b86b-a4e4-39fe-9818-7e6e75569076  \\\n1         17th C Literature-1600-1660  b4bfb1f2-4ecd-361b-bb4f-a7f46e62602f   \n2         17th C Literature-1600-1660  165c677f-2362-3405-b219-c122ef48bfb9   \n3             17th-Century Literature  1047a29e-32b3-3a5b-8877-5cad2be098d1   \n4          18th Century British Novel  c25fbc34-2af7-3774-b306-34ebf6acfecf   \n...                               ...                                   ...   \n209639                           null  bc6e5cc5-1630-37be-aa3c-9a9ad3883a64   \n209640                           null  529e51c9-ce17-3df3-866e-836fc9694b93   \n209641                           null  4951625e-9f56-397d-8b2f-b773bf40c97a   \n209642                           null  86d1debf-3f3a-39b7-bc0d-976a4fa33862   \n209643                           null  86d1debf-3f3a-39b7-bc0d-976a4fa33862   \n\n       facility_code  section_number  term_code  \n0               0400               1       1112  \n1               0048               1       1082  \n2               0048               1       1072  \n3               0018               1       1152  \n4               0018               1       1112  \n...              ...             ...        ...  \n209639          0482               1       1084  \n209640          0482             301       1084  \n209641          0056               1       1182  \n209642        ONLINE               1       1182  \n209643        ONLINE               1       1182  \n\n[209644 rows x 5 columns]",
      "text/html": "<div>\n<style scoped>\n    .dataframe tbody tr th:only-of-type {\n        vertical-align: middle;\n    }\n\n    .dataframe tbody tr th {\n        vertical-align: top;\n    }\n\n    .dataframe thead th {\n        text-align: right;\n    }\n</style>\n<table border=\"1\" class=\"dataframe\">\n  <thead>\n    <tr style=\"text-align: right;\">\n      <th></th>\n      <th>name</th>\n      <th>room_uuid</th>\n      <th>facility_code</th>\n      <th>section_number</th>\n      <th>term_code</th>\n    </tr>\n  </thead>\n  <tbody>\n    <tr>\n      <th>0</th>\n      <td>\"\"\"Scand Modern\"\" Phenomenon\"</td>\n      <td>3215b86b-a4e4-39fe-9818-7e6e75569076</td>\n      <td>0400</td>\n      <td>1</td>\n      <td>1112</td>\n    </tr>\n    <tr>\n      <th>1</th>\n      <td>17th C Literature-1600-1660</td>\n      <td>b4bfb1f2-4ecd-361b-bb4f-a7f46e62602f</td>\n      <td>0048</td>\n      <td>1</td>\n      <td>1082</td>\n    </tr>\n    <tr>\n      <th>2</th>\n      <td>17th C Literature-1600-1660</td>\n      <td>165c677f-2362-3405-b219-c122ef48bfb9</td>\n      <td>0048</td>\n      <td>1</td>\n      <td>1072</td>\n    </tr>\n    <tr>\n      <th>3</th>\n      <td>17th-Century Literature</td>\n      <td>1047a29e-32b3-3a5b-8877-5cad2be098d1</td>\n      <td>0018</td>\n      <td>1</td>\n      <td>1152</td>\n    </tr>\n    <tr>\n      <th>4</th>\n      <td>18th Century British Novel</td>\n      <td>c25fbc34-2af7-3774-b306-34ebf6acfecf</td>\n      <td>0018</td>\n      <td>1</td>\n      <td>1112</td>\n    </tr>\n    <tr>\n      <th>...</th>\n      <td>...</td>\n      <td>...</td>\n      <td>...</td>\n      <td>...</td>\n      <td>...</td>\n    </tr>\n    <tr>\n      <th>209639</th>\n      <td>null</td>\n      <td>bc6e5cc5-1630-37be-aa3c-9a9ad3883a64</td>\n      <td>0482</td>\n      <td>1</td>\n      <td>1084</td>\n    </tr>\n    <tr>\n      <th>209640</th>\n      <td>null</td>\n      <td>529e51c9-ce17-3df3-866e-836fc9694b93</td>\n      <td>0482</td>\n      <td>301</td>\n      <td>1084</td>\n    </tr>\n    <tr>\n      <th>209641</th>\n      <td>null</td>\n      <td>4951625e-9f56-397d-8b2f-b773bf40c97a</td>\n      <td>0056</td>\n      <td>1</td>\n      <td>1182</td>\n    </tr>\n    <tr>\n      <th>209642</th>\n      <td>null</td>\n      <td>86d1debf-3f3a-39b7-bc0d-976a4fa33862</td>\n      <td>ONLINE</td>\n      <td>1</td>\n      <td>1182</td>\n    </tr>\n    <tr>\n      <th>209643</th>\n      <td>null</td>\n      <td>86d1debf-3f3a-39b7-bc0d-976a4fa33862</td>\n      <td>ONLINE</td>\n      <td>1</td>\n      <td>1182</td>\n    </tr>\n  </tbody>\n</table>\n<p>209644 rows × 5 columns</p>\n</div>"
     },
     "execution_count": 19,
     "metadata": {},
     "output_type": "execute_result"
    }
   ],
   "source": [
    "ex1 = (\n",
    "    course_offerings\n",
    "    .join(\n",
    "        other=sections,\n",
    "        on=course_offerings.uuid == sections.course_offering_uuid\n",
    "    )\n",
    "    .join(\n",
    "        other=rooms,\n",
    "        on=sections.room_uuid == rooms.uuid\n",
    "    )\n",
    "    .select(\n",
    "        course_offerings.name,\n",
    "        \"room_uuid\",\n",
    "        \"facility_code\",\n",
    "        F.col(\"number\").alias(\"section_number\"),\n",
    "        \"term_code\"\n",
    "    )\n",
    "    .orderBy(\n",
    "        \"name\"\n",
    "    )\n",
    ")\n",
    "\n",
    "ex1.toPandas()"
   ]
  },
  {
   "cell_type": "markdown",
   "metadata": {},
   "source": [
    "## 1b. Now show same output as above but for only facility number 0469 (facility_code)"
   ]
  },
  {
   "cell_type": "code",
   "execution_count": 20,
   "metadata": {
    "ExecuteTime": {
     "end_time": "2023-05-24T14:10:04.277501600Z",
     "start_time": "2023-05-24T14:10:03.106565100Z"
    }
   },
   "outputs": [
    {
     "data": {
      "text/plain": "                                 name                             room_uuid   \n0          18th-Century English Novel  9a15c09e-57d8-3658-ae72-aae5ffdef108  \\\n1           19th Century Philosophers  c731d9db-3bc4-3436-a5fd-7954098d3193   \n2            1st Yr Classical Chinese  f4ccf94a-5c59-3a6d-97e9-d44c4ca6a0fc   \n3            1st Yr Classical Chinese  f4ccf94a-5c59-3a6d-97e9-d44c4ca6a0fc   \n4      1st-Yr Seminar: Biological Sci  2b57b421-6c9f-3d88-9299-21b41c693446   \n...                               ...                                   ...   \n16328                            null  dfb7f39a-210b-380c-a162-64673d7ee85b   \n16329                            null  dfb7f39a-210b-380c-a162-64673d7ee85b   \n16330                            null  66dde0f0-c802-3a42-9f25-870dd24e55eb   \n16331                            null  880a148b-1709-336f-9345-7b18f4559b48   \n16332                            null  9a15c09e-57d8-3658-ae72-aae5ffdef108   \n\n      facility_code  section_number  term_code  \n0              0469               1       1174  \n1              0469               1       1114  \n2              0469               1       1092  \n3              0469               1       1092  \n4              0469               3       1152  \n...             ...             ...        ...  \n16328          0469               1       1144  \n16329          0469               1       1172  \n16330          0469               1       1174  \n16331          0469               1       1174  \n16332          0469               1       1142  \n\n[16333 rows x 5 columns]",
      "text/html": "<div>\n<style scoped>\n    .dataframe tbody tr th:only-of-type {\n        vertical-align: middle;\n    }\n\n    .dataframe tbody tr th {\n        vertical-align: top;\n    }\n\n    .dataframe thead th {\n        text-align: right;\n    }\n</style>\n<table border=\"1\" class=\"dataframe\">\n  <thead>\n    <tr style=\"text-align: right;\">\n      <th></th>\n      <th>name</th>\n      <th>room_uuid</th>\n      <th>facility_code</th>\n      <th>section_number</th>\n      <th>term_code</th>\n    </tr>\n  </thead>\n  <tbody>\n    <tr>\n      <th>0</th>\n      <td>18th-Century English Novel</td>\n      <td>9a15c09e-57d8-3658-ae72-aae5ffdef108</td>\n      <td>0469</td>\n      <td>1</td>\n      <td>1174</td>\n    </tr>\n    <tr>\n      <th>1</th>\n      <td>19th Century Philosophers</td>\n      <td>c731d9db-3bc4-3436-a5fd-7954098d3193</td>\n      <td>0469</td>\n      <td>1</td>\n      <td>1114</td>\n    </tr>\n    <tr>\n      <th>2</th>\n      <td>1st Yr Classical Chinese</td>\n      <td>f4ccf94a-5c59-3a6d-97e9-d44c4ca6a0fc</td>\n      <td>0469</td>\n      <td>1</td>\n      <td>1092</td>\n    </tr>\n    <tr>\n      <th>3</th>\n      <td>1st Yr Classical Chinese</td>\n      <td>f4ccf94a-5c59-3a6d-97e9-d44c4ca6a0fc</td>\n      <td>0469</td>\n      <td>1</td>\n      <td>1092</td>\n    </tr>\n    <tr>\n      <th>4</th>\n      <td>1st-Yr Seminar: Biological Sci</td>\n      <td>2b57b421-6c9f-3d88-9299-21b41c693446</td>\n      <td>0469</td>\n      <td>3</td>\n      <td>1152</td>\n    </tr>\n    <tr>\n      <th>...</th>\n      <td>...</td>\n      <td>...</td>\n      <td>...</td>\n      <td>...</td>\n      <td>...</td>\n    </tr>\n    <tr>\n      <th>16328</th>\n      <td>null</td>\n      <td>dfb7f39a-210b-380c-a162-64673d7ee85b</td>\n      <td>0469</td>\n      <td>1</td>\n      <td>1144</td>\n    </tr>\n    <tr>\n      <th>16329</th>\n      <td>null</td>\n      <td>dfb7f39a-210b-380c-a162-64673d7ee85b</td>\n      <td>0469</td>\n      <td>1</td>\n      <td>1172</td>\n    </tr>\n    <tr>\n      <th>16330</th>\n      <td>null</td>\n      <td>66dde0f0-c802-3a42-9f25-870dd24e55eb</td>\n      <td>0469</td>\n      <td>1</td>\n      <td>1174</td>\n    </tr>\n    <tr>\n      <th>16331</th>\n      <td>null</td>\n      <td>880a148b-1709-336f-9345-7b18f4559b48</td>\n      <td>0469</td>\n      <td>1</td>\n      <td>1174</td>\n    </tr>\n    <tr>\n      <th>16332</th>\n      <td>null</td>\n      <td>9a15c09e-57d8-3658-ae72-aae5ffdef108</td>\n      <td>0469</td>\n      <td>1</td>\n      <td>1142</td>\n    </tr>\n  </tbody>\n</table>\n<p>16333 rows × 5 columns</p>\n</div>"
     },
     "execution_count": 20,
     "metadata": {},
     "output_type": "execute_result"
    }
   ],
   "source": [
    "ex1b = (\n",
    "    ex1\n",
    "    .select(\n",
    "        \"*\"\n",
    "    )\n",
    "    .where(\n",
    "        F.col(\"facility_code\") == \"0469\"\n",
    "    )\n",
    ")\n",
    "\n",
    "ex1b.toPandas()"
   ]
  },
  {
   "cell_type": "markdown",
   "metadata": {},
   "source": [
    "## 2. Count how many sections are offered for each subject for each facility\n",
    "\n",
    "*Note: this will involve a groupby*\n",
    "\n",
    " - course_offerings: uuid, course_uuid, term_code, name\n",
    " - instructors: id, name\n",
    " - schedules: uuid\n",
    " - sections: uuid, course_offering_uuid,room_uuid, schedule_uuid\n",
    " - teachings: instructor_id, section_uuid\n",
    " - courses: uuid\n",
    " - grade_distributions: course_offering_uuid,section_number\n",
    " - rooms: uuid, facility_code, room_code\n",
    " - subjects: code\n",
    " - subject_memberships: subject_code, course_offering_uuid"
   ]
  },
  {
   "cell_type": "code",
   "execution_count": null,
   "metadata": {},
   "outputs": [],
   "source": [
    "rooms = dfs.get(\"rooms\")\n",
    "subjects = dfs.get(\"subjects\")\n",
    "subject_memberships = dfs.get(\"subject_memberships\")\n",
    "sections = dfs.get(\"sections\")\n",
    "\n",
    "print(rooms.columns)\n",
    "print(subjects.columns)\n",
    "print(subject_memberships.columns)\n",
    "print(sections.columns)"
   ]
  },
  {
   "cell_type": "code",
   "execution_count": 29,
   "metadata": {
    "ExecuteTime": {
     "end_time": "2023-05-24T14:22:03.662575800Z",
     "start_time": "2023-05-24T14:21:57.336286100Z"
    }
   },
   "outputs": [
    {
     "data": {
      "text/plain": "     facility_code                                             name   \n0             0000            ANIMAL HEALTH AND BIOMEDICAL SCIENCES  \\\n1             0000                 African Languages and Literature   \n2             0000                                      Agroecology   \n3             0000                                         Agronomy   \n4             0000                                  Animal Sciences   \n...            ...                                              ...   \n3961        ONLINE  Rehabilitation Psychology and Special Education   \n3962        ONLINE                                Religious Studies   \n3963        ONLINE                                      Social Work   \n3964        ONLINE                                        Sociology   \n3965        ONLINE                                     Soil Science   \n\n      n_sections  \n0              2  \n1              1  \n2              1  \n3              2  \n4              2  \n...          ...  \n3961          29  \n3962           2  \n3963          59  \n3964           4  \n3965           5  \n\n[3966 rows x 3 columns]",
      "text/html": "<div>\n<style scoped>\n    .dataframe tbody tr th:only-of-type {\n        vertical-align: middle;\n    }\n\n    .dataframe tbody tr th {\n        vertical-align: top;\n    }\n\n    .dataframe thead th {\n        text-align: right;\n    }\n</style>\n<table border=\"1\" class=\"dataframe\">\n  <thead>\n    <tr style=\"text-align: right;\">\n      <th></th>\n      <th>facility_code</th>\n      <th>name</th>\n      <th>n_sections</th>\n    </tr>\n  </thead>\n  <tbody>\n    <tr>\n      <th>0</th>\n      <td>0000</td>\n      <td>ANIMAL HEALTH AND BIOMEDICAL SCIENCES</td>\n      <td>2</td>\n    </tr>\n    <tr>\n      <th>1</th>\n      <td>0000</td>\n      <td>African Languages and Literature</td>\n      <td>1</td>\n    </tr>\n    <tr>\n      <th>2</th>\n      <td>0000</td>\n      <td>Agroecology</td>\n      <td>1</td>\n    </tr>\n    <tr>\n      <th>3</th>\n      <td>0000</td>\n      <td>Agronomy</td>\n      <td>2</td>\n    </tr>\n    <tr>\n      <th>4</th>\n      <td>0000</td>\n      <td>Animal Sciences</td>\n      <td>2</td>\n    </tr>\n    <tr>\n      <th>...</th>\n      <td>...</td>\n      <td>...</td>\n      <td>...</td>\n    </tr>\n    <tr>\n      <th>3961</th>\n      <td>ONLINE</td>\n      <td>Rehabilitation Psychology and Special Education</td>\n      <td>29</td>\n    </tr>\n    <tr>\n      <th>3962</th>\n      <td>ONLINE</td>\n      <td>Religious Studies</td>\n      <td>2</td>\n    </tr>\n    <tr>\n      <th>3963</th>\n      <td>ONLINE</td>\n      <td>Social Work</td>\n      <td>59</td>\n    </tr>\n    <tr>\n      <th>3964</th>\n      <td>ONLINE</td>\n      <td>Sociology</td>\n      <td>4</td>\n    </tr>\n    <tr>\n      <th>3965</th>\n      <td>ONLINE</td>\n      <td>Soil Science</td>\n      <td>5</td>\n    </tr>\n  </tbody>\n</table>\n<p>3966 rows × 3 columns</p>\n</div>"
     },
     "execution_count": 29,
     "metadata": {},
     "output_type": "execute_result"
    }
   ],
   "source": [
    "ex2 = (\n",
    "    sections\n",
    "    .join(\n",
    "        other=rooms,\n",
    "        on=sections.room_uuid == rooms.uuid\n",
    "    )\n",
    "    .join(\n",
    "        other=subject_memberships,\n",
    "        on=sections.course_offering_uuid == subject_memberships.course_offering_uuid\n",
    "    )\n",
    "    .join(\n",
    "        other=subjects,\n",
    "        on=subject_memberships.subject_code == subjects.code\n",
    "    )\n",
    ")\n",
    "\n",
    "ex2.toPandas()\n",
    "\n",
    "(\n",
    "    ex2\n",
    "    .groupBy(\n",
    "        F.col(\"facility_code\"),\n",
    "        F.col(\"name\"),\n",
    "    )\n",
    "    .agg(\n",
    "        F.count(\"section_type\").alias(\"n_sections\")\n",
    "    )\n",
    "    .select(\n",
    "        \"facility_code\",\n",
    "        \"name\",\n",
    "        \"n_sections\"\n",
    "    )\n",
    "    .orderBy(\n",
    "        \"facility_code\",\n",
    "        \"name\",\n",
    "    )\n",
    "    .toPandas()\n",
    ")"
   ]
  },
  {
   "cell_type": "code",
   "execution_count": null,
   "metadata": {},
   "outputs": [],
   "source": []
  },
  {
   "cell_type": "code",
   "execution_count": null,
   "metadata": {},
   "outputs": [],
   "source": []
  },
  {
   "cell_type": "markdown",
   "metadata": {},
   "source": [
    "## 3. What are the hardest classes?\n",
    "\n",
    "Let's see if we can figure out which classes are the hardest by seeing how many students failed. Note that you will first need to aggregate the grades table by the course uuid to include all sections. Show the name of the course as well that you will need to get from the course_offering table.\n",
    "\n",
    "   - course_offerings: uuid, course_uuid, term_code, name\n",
    " - instructors: id, name\n",
    " - schedules: uuid\n",
    " - sections: uuid, course_offering_uuid,room_uuid, schedule_uuid\n",
    " - teachings: instructor_id, section_uuid\n",
    " - courses: uuid\n",
    " - grade_distributions: course_offering_uuid,section_number\n",
    " - rooms: uuid, facility_code, room_code\n",
    " - subjects: code\n",
    " - subject_memberships: subject_code, course_offering_uuid"
   ]
  },
  {
   "cell_type": "code",
   "execution_count": 36,
   "metadata": {
    "ExecuteTime": {
     "end_time": "2023-05-24T14:37:02.801731600Z",
     "start_time": "2023-05-24T14:37:00.626813300Z"
    }
   },
   "outputs": [
    {
     "data": {
      "text/plain": "                                name  failed\n0      \"\"\"Scand Modern\"\" Phenomenon\"       0\n1        17th C Literature-1600-1660       0\n2        17th C Literature-1600-1660       0\n3            17th-Century Literature       0\n4         18th Century British Novel       0\n...                              ...     ...\n80166                           null       2\n80167                           null       2\n80168                           null       2\n80169                           null       2\n80170                           null       4\n\n[80171 rows x 2 columns]",
      "text/html": "<div>\n<style scoped>\n    .dataframe tbody tr th:only-of-type {\n        vertical-align: middle;\n    }\n\n    .dataframe tbody tr th {\n        vertical-align: top;\n    }\n\n    .dataframe thead th {\n        text-align: right;\n    }\n</style>\n<table border=\"1\" class=\"dataframe\">\n  <thead>\n    <tr style=\"text-align: right;\">\n      <th></th>\n      <th>name</th>\n      <th>failed</th>\n    </tr>\n  </thead>\n  <tbody>\n    <tr>\n      <th>0</th>\n      <td>\"\"\"Scand Modern\"\" Phenomenon\"</td>\n      <td>0</td>\n    </tr>\n    <tr>\n      <th>1</th>\n      <td>17th C Literature-1600-1660</td>\n      <td>0</td>\n    </tr>\n    <tr>\n      <th>2</th>\n      <td>17th C Literature-1600-1660</td>\n      <td>0</td>\n    </tr>\n    <tr>\n      <th>3</th>\n      <td>17th-Century Literature</td>\n      <td>0</td>\n    </tr>\n    <tr>\n      <th>4</th>\n      <td>18th Century British Novel</td>\n      <td>0</td>\n    </tr>\n    <tr>\n      <th>...</th>\n      <td>...</td>\n      <td>...</td>\n    </tr>\n    <tr>\n      <th>80166</th>\n      <td>null</td>\n      <td>2</td>\n    </tr>\n    <tr>\n      <th>80167</th>\n      <td>null</td>\n      <td>2</td>\n    </tr>\n    <tr>\n      <th>80168</th>\n      <td>null</td>\n      <td>2</td>\n    </tr>\n    <tr>\n      <th>80169</th>\n      <td>null</td>\n      <td>2</td>\n    </tr>\n    <tr>\n      <th>80170</th>\n      <td>null</td>\n      <td>4</td>\n    </tr>\n  </tbody>\n</table>\n<p>80171 rows × 2 columns</p>\n</div>"
     },
     "execution_count": 36,
     "metadata": {},
     "output_type": "execute_result"
    }
   ],
   "source": [
    "grade_dist = dfs.get(\"grade_distributions\")\n",
    "course_offerings = dfs.get(\"course_offerings\")\n",
    "\n",
    "(\n",
    "    grade_dist\n",
    "    .groupBy(\n",
    "        \"course_offering_uuid\"\n",
    "    )\n",
    "    .agg(\n",
    "        F.sum(\"f_count\").alias(\"failed\")\n",
    "    )\n",
    "    .join(\n",
    "        other=course_offerings,\n",
    "        on=grade_dist.course_offering_uuid == course_offerings.uuid\n",
    "    )\n",
    "    .select(\n",
    "        \"name\",\n",
    "        F.col(\"failed\")\n",
    "    ).\n",
    "    orderBy(\n",
    "        \"name\",\n",
    "        \"failed\"\n",
    "    )\n",
    "    .toPandas()\n",
    ")"
   ]
  },
  {
   "cell_type": "code",
   "execution_count": 8,
   "metadata": {},
   "outputs": [
    {
     "data": {
      "text/plain": "                         course_offering_uuid  section_number  f_count   \n0        344b3ebe-da7e-314c-83ed-9425269695fd               1        0  \\\n1        f718e6cd-33f0-3c14-a9a6-834d9c3610a8               1        0   \n2        ea3b717c-d66b-30dc-8b37-964d9688295f               1        0   \n3        ea3b717c-d66b-30dc-8b37-964d9688295f               1        0   \n4        ea3b717c-d66b-30dc-8b37-964d9688295f               1        0   \n...                                       ...             ...      ...   \n2077511  3573e335-e7be-33a6-b023-8704b3acc93b               1        0   \n2077512  3573e335-e7be-33a6-b023-8704b3acc93b               1        0   \n2077513  3573e335-e7be-33a6-b023-8704b3acc93b               1        0   \n2077514  13278922-0726-3823-abda-dc14df03d8a6               7        0   \n2077515  fd039fe4-32ec-31dd-a142-c7db54df784b               8        0   \n\n                                         uuid   \n0        45adf63c-48c9-3659-8561-07556d2d4ddf  \\\n1        c6280e23-5e43-3859-893e-540d94993529   \n2        9395dc21-15d1-3fab-8d1f-6f3fe6114c48   \n3        b99e440b-39db-350a-81eb-b6eb1bd8b0bc   \n4        ca1c841f-41d5-3298-bd25-01c65751f150   \n...                                       ...   \n2077511  83b4bb4a-a54e-328b-98eb-3f17571d278e   \n2077512  62be3a59-6ff1-39cb-b5a3-433e317b952e   \n2077513  78135ed6-31b3-3973-99d5-fd98ab9afef3   \n2077514  50f9cf79-a4e3-3975-a292-b130d3d5d97c   \n2077515  f9bad9d1-197d-3c55-8199-7f05e640ddb8   \n\n                         course_offering_uuid section_type  number   \n0        344b3ebe-da7e-314c-83ed-9425269695fd          FLD       1  \\\n1        f718e6cd-33f0-3c14-a9a6-834d9c3610a8          FLD       1   \n2        ea3b717c-d66b-30dc-8b37-964d9688295f          FLD       1   \n3        ea3b717c-d66b-30dc-8b37-964d9688295f          FLD       1   \n4        ea3b717c-d66b-30dc-8b37-964d9688295f          FLD       1   \n...                                       ...          ...     ...   \n2077511  3573e335-e7be-33a6-b023-8704b3acc93b          SEM       1   \n2077512  3573e335-e7be-33a6-b023-8704b3acc93b          SEM       1   \n2077513  3573e335-e7be-33a6-b023-8704b3acc93b          SEM       1   \n2077514  13278922-0726-3823-abda-dc14df03d8a6          LEC       7   \n2077515  fd039fe4-32ec-31dd-a142-c7db54df784b          LEC       8   \n\n                                    room_uuid   \n0                                        null  \\\n1                                        null   \n2        04368a56-c959-3e4b-8b3d-f4cc3538fea5   \n3                                        null   \n4                                        null   \n...                                       ...   \n2077511  33f69fe2-fe56-3b35-9302-7b6d1954b556   \n2077512  33f69fe2-fe56-3b35-9302-7b6d1954b556   \n2077513  409b3445-80fc-3ca2-a44e-f254ba48d5cd   \n2077514                                  null   \n2077515                                  null   \n\n                                schedule_uuid  \n0        f2d66a4d-0c08-3b48-abf6-649fffd7ae90  \n1        f2d66a4d-0c08-3b48-abf6-649fffd7ae90  \n2        f2d66a4d-0c08-3b48-abf6-649fffd7ae90  \n3        f2d66a4d-0c08-3b48-abf6-649fffd7ae90  \n4        f2d66a4d-0c08-3b48-abf6-649fffd7ae90  \n...                                       ...  \n2077511  1c706999-eedc-3cd3-8595-097051da2fa2  \n2077512  1c706999-eedc-3cd3-8595-097051da2fa2  \n2077513  eaab6f3c-0f7b-36c0-8175-56207644338e  \n2077514  739ab54a-17e8-3428-b64a-5b60640a35ff  \n2077515  739ab54a-17e8-3428-b64a-5b60640a35ff  \n\n[2077516 rows x 9 columns]",
      "text/html": "<div>\n<style scoped>\n    .dataframe tbody tr th:only-of-type {\n        vertical-align: middle;\n    }\n\n    .dataframe tbody tr th {\n        vertical-align: top;\n    }\n\n    .dataframe thead th {\n        text-align: right;\n    }\n</style>\n<table border=\"1\" class=\"dataframe\">\n  <thead>\n    <tr style=\"text-align: right;\">\n      <th></th>\n      <th>course_offering_uuid</th>\n      <th>section_number</th>\n      <th>f_count</th>\n      <th>uuid</th>\n      <th>course_offering_uuid</th>\n      <th>section_type</th>\n      <th>number</th>\n      <th>room_uuid</th>\n      <th>schedule_uuid</th>\n    </tr>\n  </thead>\n  <tbody>\n    <tr>\n      <th>0</th>\n      <td>344b3ebe-da7e-314c-83ed-9425269695fd</td>\n      <td>1</td>\n      <td>0</td>\n      <td>45adf63c-48c9-3659-8561-07556d2d4ddf</td>\n      <td>344b3ebe-da7e-314c-83ed-9425269695fd</td>\n      <td>FLD</td>\n      <td>1</td>\n      <td>null</td>\n      <td>f2d66a4d-0c08-3b48-abf6-649fffd7ae90</td>\n    </tr>\n    <tr>\n      <th>1</th>\n      <td>f718e6cd-33f0-3c14-a9a6-834d9c3610a8</td>\n      <td>1</td>\n      <td>0</td>\n      <td>c6280e23-5e43-3859-893e-540d94993529</td>\n      <td>f718e6cd-33f0-3c14-a9a6-834d9c3610a8</td>\n      <td>FLD</td>\n      <td>1</td>\n      <td>null</td>\n      <td>f2d66a4d-0c08-3b48-abf6-649fffd7ae90</td>\n    </tr>\n    <tr>\n      <th>2</th>\n      <td>ea3b717c-d66b-30dc-8b37-964d9688295f</td>\n      <td>1</td>\n      <td>0</td>\n      <td>9395dc21-15d1-3fab-8d1f-6f3fe6114c48</td>\n      <td>ea3b717c-d66b-30dc-8b37-964d9688295f</td>\n      <td>FLD</td>\n      <td>1</td>\n      <td>04368a56-c959-3e4b-8b3d-f4cc3538fea5</td>\n      <td>f2d66a4d-0c08-3b48-abf6-649fffd7ae90</td>\n    </tr>\n    <tr>\n      <th>3</th>\n      <td>ea3b717c-d66b-30dc-8b37-964d9688295f</td>\n      <td>1</td>\n      <td>0</td>\n      <td>b99e440b-39db-350a-81eb-b6eb1bd8b0bc</td>\n      <td>ea3b717c-d66b-30dc-8b37-964d9688295f</td>\n      <td>FLD</td>\n      <td>1</td>\n      <td>null</td>\n      <td>f2d66a4d-0c08-3b48-abf6-649fffd7ae90</td>\n    </tr>\n    <tr>\n      <th>4</th>\n      <td>ea3b717c-d66b-30dc-8b37-964d9688295f</td>\n      <td>1</td>\n      <td>0</td>\n      <td>ca1c841f-41d5-3298-bd25-01c65751f150</td>\n      <td>ea3b717c-d66b-30dc-8b37-964d9688295f</td>\n      <td>FLD</td>\n      <td>1</td>\n      <td>null</td>\n      <td>f2d66a4d-0c08-3b48-abf6-649fffd7ae90</td>\n    </tr>\n    <tr>\n      <th>...</th>\n      <td>...</td>\n      <td>...</td>\n      <td>...</td>\n      <td>...</td>\n      <td>...</td>\n      <td>...</td>\n      <td>...</td>\n      <td>...</td>\n      <td>...</td>\n    </tr>\n    <tr>\n      <th>2077511</th>\n      <td>3573e335-e7be-33a6-b023-8704b3acc93b</td>\n      <td>1</td>\n      <td>0</td>\n      <td>83b4bb4a-a54e-328b-98eb-3f17571d278e</td>\n      <td>3573e335-e7be-33a6-b023-8704b3acc93b</td>\n      <td>SEM</td>\n      <td>1</td>\n      <td>33f69fe2-fe56-3b35-9302-7b6d1954b556</td>\n      <td>1c706999-eedc-3cd3-8595-097051da2fa2</td>\n    </tr>\n    <tr>\n      <th>2077512</th>\n      <td>3573e335-e7be-33a6-b023-8704b3acc93b</td>\n      <td>1</td>\n      <td>0</td>\n      <td>62be3a59-6ff1-39cb-b5a3-433e317b952e</td>\n      <td>3573e335-e7be-33a6-b023-8704b3acc93b</td>\n      <td>SEM</td>\n      <td>1</td>\n      <td>33f69fe2-fe56-3b35-9302-7b6d1954b556</td>\n      <td>1c706999-eedc-3cd3-8595-097051da2fa2</td>\n    </tr>\n    <tr>\n      <th>2077513</th>\n      <td>3573e335-e7be-33a6-b023-8704b3acc93b</td>\n      <td>1</td>\n      <td>0</td>\n      <td>78135ed6-31b3-3973-99d5-fd98ab9afef3</td>\n      <td>3573e335-e7be-33a6-b023-8704b3acc93b</td>\n      <td>SEM</td>\n      <td>1</td>\n      <td>409b3445-80fc-3ca2-a44e-f254ba48d5cd</td>\n      <td>eaab6f3c-0f7b-36c0-8175-56207644338e</td>\n    </tr>\n    <tr>\n      <th>2077514</th>\n      <td>13278922-0726-3823-abda-dc14df03d8a6</td>\n      <td>7</td>\n      <td>0</td>\n      <td>50f9cf79-a4e3-3975-a292-b130d3d5d97c</td>\n      <td>13278922-0726-3823-abda-dc14df03d8a6</td>\n      <td>LEC</td>\n      <td>7</td>\n      <td>null</td>\n      <td>739ab54a-17e8-3428-b64a-5b60640a35ff</td>\n    </tr>\n    <tr>\n      <th>2077515</th>\n      <td>fd039fe4-32ec-31dd-a142-c7db54df784b</td>\n      <td>8</td>\n      <td>0</td>\n      <td>f9bad9d1-197d-3c55-8199-7f05e640ddb8</td>\n      <td>fd039fe4-32ec-31dd-a142-c7db54df784b</td>\n      <td>LEC</td>\n      <td>8</td>\n      <td>null</td>\n      <td>739ab54a-17e8-3428-b64a-5b60640a35ff</td>\n    </tr>\n  </tbody>\n</table>\n<p>2077516 rows × 9 columns</p>\n</div>"
     },
     "execution_count": 8,
     "metadata": {},
     "output_type": "execute_result"
    }
   ],
   "source": []
  },
  {
   "cell_type": "markdown",
   "metadata": {},
   "source": [
    "## Challenge Question: Automating data entry errors\n",
    "\n",
    "We see in the dataframe below that there are several typos of various animal names. If this was a large database of several millions of records, correcting these errors would be way too labor intensive. How can we automate correcting these errors?\n",
    "\n",
    "*Hint: Leven...*"
   ]
  },
  {
   "cell_type": "code",
   "execution_count": 9,
   "metadata": {
    "ExecuteTime": {
     "end_time": "2023-05-24T13:53:06.517617900Z",
     "start_time": "2023-05-24T13:52:59.965646800Z"
    }
   },
   "outputs": [
    {
     "name": "stdout",
     "output_type": "stream",
     "text": [
      "+------------+---+\n",
      "|      Animal|age|\n",
      "+------------+---+\n",
      "|      Monkey| 10|\n",
      "|      Monkay| 36|\n",
      "|        Mnky|123|\n",
      "|    Elephant| 48|\n",
      "|     Elefant| 16|\n",
      "|    Ellafant|  1|\n",
      "|Hippopotamus| 48|\n",
      "| Hipopotamus| 16|\n",
      "|       Hippo|  1|\n",
      "+------------+---+\n",
      "\n"
     ]
    }
   ],
   "source": [
    "values = [('Monkey', 10), ('Monkay', 36), ('Mnky', 123), \\\n",
    "          ('Elephant', 48), ('Elefant', 16), ('Ellafant', 1), \\\n",
    "          ('Hippopotamus', 48), ('Hipopotamus', 16), ('Hippo', 1)]\n",
    "zoo = spark.createDataFrame(values, ['Animal', 'age'])\n",
    "zoo.show()"
   ]
  },
  {
   "cell_type": "code",
   "execution_count": 37,
   "metadata": {
    "ExecuteTime": {
     "end_time": "2023-05-24T14:41:02.757170Z",
     "start_time": "2023-05-24T14:41:02.681424900Z"
    }
   },
   "outputs": [],
   "source": [
    "options = spark.createDataFrame(['Monkey', 'Elephant', 'Hippopotamus'], T.StringType())"
   ]
  },
  {
   "cell_type": "code",
   "execution_count": 39,
   "metadata": {},
   "outputs": [
    {
     "data": {
      "text/plain": "         Animal  age         value\n0        Monkey   10        Monkey\n1        Monkay   36        Monkey\n2          Mnky  123        Monkey\n3      Elephant   48      Elephant\n4       Elefant   16      Elephant\n5      Ellafant    1      Elephant\n6  Hippopotamus   48  Hippopotamus\n7   Hipopotamus   16  Hippopotamus",
      "text/html": "<div>\n<style scoped>\n    .dataframe tbody tr th:only-of-type {\n        vertical-align: middle;\n    }\n\n    .dataframe tbody tr th {\n        vertical-align: top;\n    }\n\n    .dataframe thead th {\n        text-align: right;\n    }\n</style>\n<table border=\"1\" class=\"dataframe\">\n  <thead>\n    <tr style=\"text-align: right;\">\n      <th></th>\n      <th>Animal</th>\n      <th>age</th>\n      <th>value</th>\n    </tr>\n  </thead>\n  <tbody>\n    <tr>\n      <th>0</th>\n      <td>Monkey</td>\n      <td>10</td>\n      <td>Monkey</td>\n    </tr>\n    <tr>\n      <th>1</th>\n      <td>Monkay</td>\n      <td>36</td>\n      <td>Monkey</td>\n    </tr>\n    <tr>\n      <th>2</th>\n      <td>Mnky</td>\n      <td>123</td>\n      <td>Monkey</td>\n    </tr>\n    <tr>\n      <th>3</th>\n      <td>Elephant</td>\n      <td>48</td>\n      <td>Elephant</td>\n    </tr>\n    <tr>\n      <th>4</th>\n      <td>Elefant</td>\n      <td>16</td>\n      <td>Elephant</td>\n    </tr>\n    <tr>\n      <th>5</th>\n      <td>Ellafant</td>\n      <td>1</td>\n      <td>Elephant</td>\n    </tr>\n    <tr>\n      <th>6</th>\n      <td>Hippopotamus</td>\n      <td>48</td>\n      <td>Hippopotamus</td>\n    </tr>\n    <tr>\n      <th>7</th>\n      <td>Hipopotamus</td>\n      <td>16</td>\n      <td>Hippopotamus</td>\n    </tr>\n  </tbody>\n</table>\n</div>"
     },
     "execution_count": 39,
     "metadata": {},
     "output_type": "execute_result"
    }
   ],
   "source": [
    "results = (\n",
    "    zoo\n",
    "    .join(\n",
    "        other=options,\n",
    "        on=F.levenshtein(zoo.Animal, options.value) < 5,\n",
    "    )\n",
    ")\n",
    "\n",
    "results.toPandas()"
   ]
  },
  {
   "cell_type": "code",
   "execution_count": null,
   "metadata": {},
   "outputs": [],
   "source": []
  },
  {
   "cell_type": "markdown",
   "metadata": {},
   "source": [
    "### Great job! "
   ]
  }
 ],
 "metadata": {
  "kernelspec": {
   "display_name": "Python 3",
   "language": "python",
   "name": "python3"
  },
  "language_info": {
   "codemirror_mode": {
    "name": "ipython",
    "version": 3
   },
   "file_extension": ".py",
   "mimetype": "text/x-python",
   "name": "python",
   "nbconvert_exporter": "python",
   "pygments_lexer": "ipython3",
   "version": "3.7.4"
  }
 },
 "nbformat": 4,
 "nbformat_minor": 2
}
