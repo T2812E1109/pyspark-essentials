{
 "cells": [
  {
   "cell_type": "markdown",
   "metadata": {},
   "source": [
    "# Joining and Appending DataFrames in PySpark HW Solutions\n",
    "\n",
    "Now it's time to test your knowledge and further engrain the concepts we touched on in the lectures. Let's go ahead and get started.\n",
    "\n",
    "\n",
    "\n",
    "\n",
    "**As always let's start our Spark instance.**"
   ]
  },
  {
   "cell_type": "code",
   "execution_count": 1,
   "metadata": {
    "ExecuteTime": {
     "end_time": "2023-05-24T14:00:30.242766600Z",
     "start_time": "2023-05-24T14:00:24.730877100Z"
    }
   },
   "outputs": [
    {
     "name": "stdout",
     "output_type": "stream",
     "text": [
      "You are working with 1 core(s)\n"
     ]
    },
    {
     "data": {
      "text/plain": "<pyspark.sql.session.SparkSession at 0x1d83ad87820>",
      "text/html": "\n            <div>\n                <p><b>SparkSession - in-memory</b></p>\n                \n        <div>\n            <p><b>SparkContext</b></p>\n\n            <p><a href=\"http://host.docker.internal:4041\">Spark UI</a></p>\n\n            <dl>\n              <dt>Version</dt>\n                <dd><code>v3.2.4</code></dd>\n              <dt>Master</dt>\n                <dd><code>local[*]</code></dd>\n              <dt>AppName</dt>\n                <dd><code>joins</code></dd>\n            </dl>\n        </div>\n        \n            </div>\n        "
     },
     "execution_count": 1,
     "metadata": {},
     "output_type": "execute_result"
    }
   ],
   "source": [
    "import findspark\n",
    "\n",
    "findspark.init()\n",
    "\n",
    "import pyspark  # only run after findspark.init()\n",
    "from pyspark.sql import SparkSession\n",
    "\n",
    "# May take awhile locally\n",
    "spark = SparkSession.builder.appName(\"joins\").getOrCreate()\n",
    "\n",
    "cores = spark._jsc.sc().getExecutorMemoryStatus().keySet().size()\n",
    "print(\"You are working with\", cores, \"core(s)\")\n",
    "spark"
   ]
  },
  {
   "cell_type": "markdown",
   "metadata": {},
   "source": [
    "## Read in the database\n",
    "\n",
    "Let cotinue working with our college courses dataframe to get some more insights and practice what we have learned!Let's read in the whole database using the loop function that we learned about in the lecture to automatically read in all the datasets from the uw-madision-courses folder (there are too many datasets to each one individually."
   ]
  },
  {
   "cell_type": "code",
   "execution_count": 2,
   "metadata": {
    "ExecuteTime": {
     "end_time": "2023-05-24T14:03:19.810396800Z",
     "start_time": "2023-05-24T14:03:10.634330600Z"
    }
   },
   "outputs": [],
   "source": [
    "import os\n",
    "\n",
    "dfs = {}\n",
    "\n",
    "base_path = r\"Datasets/uw-madison-courses\"\n",
    "\n",
    "for f in os.listdir(base_path):\n",
    "    f_name = f.split(\".\")[0]\n",
    "    f_type = f.split(\".\")[-1]\n",
    "\n",
    "    if f_type == \"csv\":\n",
    "        dfs[f_name] = spark.read.csv(\n",
    "            inferSchema=True,\n",
    "            header=True,\n",
    "            sep=\",\",\n",
    "            path=f\"{base_path}/{f}\"\n",
    "        )"
   ]
  },
  {
   "cell_type": "markdown",
   "metadata": {},
   "source": [
    "Now check the contents of a few of the dataframes that were read in above."
   ]
  },
  {
   "cell_type": "code",
   "execution_count": 3,
   "metadata": {
    "ExecuteTime": {
     "end_time": "2023-05-24T14:03:28.084450800Z",
     "start_time": "2023-05-24T14:03:27.156144700Z"
    }
   },
   "outputs": [
    {
     "data": {
      "text/plain": "                   course_offering_uuid  section_number  a_count  ab_count   \n0  344b3ebe-da7e-314c-83ed-9425269695fd               1      105         0  \\\n1  f718e6cd-33f0-3c14-a9a6-834d9c3610a8               1      158         0   \n2  ea3b717c-d66b-30dc-8b37-964d9688295f               1      139        12   \n3  075da420-5f49-3dd0-93df-13e3c152e1b1               1       87         0   \n\n   b_count  bc_count  c_count  d_count  f_count  s_count  u_count  cr_count   \n0        0         0        0        0        0        0        0         0  \\\n1        0         0        0        0        0        0        0         0   \n2        2         0        3        0        0        0        0         0   \n3        0         0        0        0        0        0        0         0   \n\n   n_count  p_count  i_count  nw_count  nr_count  other_count  \n0        0        0        0         0         0            0  \n1        0        0        1         0         0            0  \n2        0        0        0         0         0            0  \n3        0        0        1         0         0            0  ",
      "text/html": "<div>\n<style scoped>\n    .dataframe tbody tr th:only-of-type {\n        vertical-align: middle;\n    }\n\n    .dataframe tbody tr th {\n        vertical-align: top;\n    }\n\n    .dataframe thead th {\n        text-align: right;\n    }\n</style>\n<table border=\"1\" class=\"dataframe\">\n  <thead>\n    <tr style=\"text-align: right;\">\n      <th></th>\n      <th>course_offering_uuid</th>\n      <th>section_number</th>\n      <th>a_count</th>\n      <th>ab_count</th>\n      <th>b_count</th>\n      <th>bc_count</th>\n      <th>c_count</th>\n      <th>d_count</th>\n      <th>f_count</th>\n      <th>s_count</th>\n      <th>u_count</th>\n      <th>cr_count</th>\n      <th>n_count</th>\n      <th>p_count</th>\n      <th>i_count</th>\n      <th>nw_count</th>\n      <th>nr_count</th>\n      <th>other_count</th>\n    </tr>\n  </thead>\n  <tbody>\n    <tr>\n      <th>0</th>\n      <td>344b3ebe-da7e-314c-83ed-9425269695fd</td>\n      <td>1</td>\n      <td>105</td>\n      <td>0</td>\n      <td>0</td>\n      <td>0</td>\n      <td>0</td>\n      <td>0</td>\n      <td>0</td>\n      <td>0</td>\n      <td>0</td>\n      <td>0</td>\n      <td>0</td>\n      <td>0</td>\n      <td>0</td>\n      <td>0</td>\n      <td>0</td>\n      <td>0</td>\n    </tr>\n    <tr>\n      <th>1</th>\n      <td>f718e6cd-33f0-3c14-a9a6-834d9c3610a8</td>\n      <td>1</td>\n      <td>158</td>\n      <td>0</td>\n      <td>0</td>\n      <td>0</td>\n      <td>0</td>\n      <td>0</td>\n      <td>0</td>\n      <td>0</td>\n      <td>0</td>\n      <td>0</td>\n      <td>0</td>\n      <td>0</td>\n      <td>1</td>\n      <td>0</td>\n      <td>0</td>\n      <td>0</td>\n    </tr>\n    <tr>\n      <th>2</th>\n      <td>ea3b717c-d66b-30dc-8b37-964d9688295f</td>\n      <td>1</td>\n      <td>139</td>\n      <td>12</td>\n      <td>2</td>\n      <td>0</td>\n      <td>3</td>\n      <td>0</td>\n      <td>0</td>\n      <td>0</td>\n      <td>0</td>\n      <td>0</td>\n      <td>0</td>\n      <td>0</td>\n      <td>0</td>\n      <td>0</td>\n      <td>0</td>\n      <td>0</td>\n    </tr>\n    <tr>\n      <th>3</th>\n      <td>075da420-5f49-3dd0-93df-13e3c152e1b1</td>\n      <td>1</td>\n      <td>87</td>\n      <td>0</td>\n      <td>0</td>\n      <td>0</td>\n      <td>0</td>\n      <td>0</td>\n      <td>0</td>\n      <td>0</td>\n      <td>0</td>\n      <td>0</td>\n      <td>0</td>\n      <td>0</td>\n      <td>1</td>\n      <td>0</td>\n      <td>0</td>\n      <td>0</td>\n    </tr>\n  </tbody>\n</table>\n</div>"
     },
     "execution_count": 3,
     "metadata": {},
     "output_type": "execute_result"
    }
   ],
   "source": [
    "dfs[\"grade_distributions\"].limit(4).toPandas()"
   ]
  },
  {
   "cell_type": "markdown",
   "metadata": {},
   "source": [
    "## Recap: About this database\n",
    "\n",
    "You will notice that there are several more tables in the uw-madision-courses folder than there are read in above. This so that you will have a chance to practice your own custom joins and learn about the relationships between a real database work. Sometimes we don't know how they are related and we need to figure it out! I'll save that for the HW :) \n",
    "\n",
    "Here is a look at some of the important variables we can use to join our tables:\n",
    "\n",
    " - course_offerings: uuid, course_uuid, term_code, name\n",
    " - instructors: id, name\n",
    " - schedules: uuid\n",
    " - sections: uuid, course_offering_uuid,room_uuid, schedule_uuid\n",
    " - teachings: instructor_id, section_uuid\n",
    " - courses: uuid\n",
    " - grade_distributions: course_offering_uuid,section_number\n",
    " - rooms: uuid, facility_code, room_code\n",
    " - subjects: code\n",
    " - subject_memberships: subject_code, course_offering_uuid\n",
    " \n",
    "**Source:** https://www.kaggle.com/Madgrades/uw-madison-courses\n",
    " \n",
    "So alright, let's use this information to discover some insights from this data!"
   ]
  },
  {
   "cell_type": "markdown",
   "metadata": {},
   "source": [
    "## 1a. Can you assign the room numbers to each section of each course?\n",
    "\n",
    "Show only the rooms uuid, facility code, room number, term code and the name of the course from the course_offerings table."
   ]
  },
  {
   "cell_type": "code",
   "execution_count": 4,
   "metadata": {
    "ExecuteTime": {
     "end_time": "2023-05-24T14:05:11.645910800Z",
     "start_time": "2023-05-24T14:05:09.149099600Z"
    }
   },
   "outputs": [
    {
     "data": {
      "text/plain": "                                   uuid facility_code   \n0  ed828265-475b-31b4-b9a8-daec2a600449          0032  \\\n1  ed828265-475b-31b4-b9a8-daec2a600449          0032   \n2  ed828265-475b-31b4-b9a8-daec2a600449          0032   \n3  ed828265-475b-31b4-b9a8-daec2a600449          0032   \n\n                   course_offering_uuid  number  \n0  a71789f0-09d9-3374-bd21-04a719a62af8       3  \n1  3c59e623-7e61-343a-951a-765cb62d3304       8  \n2  dd3caaea-05bf-383a-afa4-52297c455208       7  \n3  dd3caaea-05bf-383a-afa4-52297c455208       4  ",
      "text/html": "<div>\n<style scoped>\n    .dataframe tbody tr th:only-of-type {\n        vertical-align: middle;\n    }\n\n    .dataframe tbody tr th {\n        vertical-align: top;\n    }\n\n    .dataframe thead th {\n        text-align: right;\n    }\n</style>\n<table border=\"1\" class=\"dataframe\">\n  <thead>\n    <tr style=\"text-align: right;\">\n      <th></th>\n      <th>uuid</th>\n      <th>facility_code</th>\n      <th>course_offering_uuid</th>\n      <th>number</th>\n    </tr>\n  </thead>\n  <tbody>\n    <tr>\n      <th>0</th>\n      <td>ed828265-475b-31b4-b9a8-daec2a600449</td>\n      <td>0032</td>\n      <td>a71789f0-09d9-3374-bd21-04a719a62af8</td>\n      <td>3</td>\n    </tr>\n    <tr>\n      <th>1</th>\n      <td>ed828265-475b-31b4-b9a8-daec2a600449</td>\n      <td>0032</td>\n      <td>3c59e623-7e61-343a-951a-765cb62d3304</td>\n      <td>8</td>\n    </tr>\n    <tr>\n      <th>2</th>\n      <td>ed828265-475b-31b4-b9a8-daec2a600449</td>\n      <td>0032</td>\n      <td>dd3caaea-05bf-383a-afa4-52297c455208</td>\n      <td>7</td>\n    </tr>\n    <tr>\n      <th>3</th>\n      <td>ed828265-475b-31b4-b9a8-daec2a600449</td>\n      <td>0032</td>\n      <td>dd3caaea-05bf-383a-afa4-52297c455208</td>\n      <td>4</td>\n    </tr>\n  </tbody>\n</table>\n</div>"
     },
     "execution_count": 4,
     "metadata": {},
     "output_type": "execute_result"
    }
   ],
   "source": [
    "rooms = dfs[\"rooms\"]\n",
    "sections = dfs[\"sections\"]\n",
    "\n",
    "step1 = (\n",
    "    rooms\n",
    "    .join(\n",
    "        sections,\n",
    "        rooms.uuid == sections.room_uuid,\n",
    "        how='left')\n",
    "    .select(\n",
    "        [rooms.uuid, rooms.facility_code, sections.course_offering_uuid, 'number']\n",
    "    )\n",
    ")\n",
    "\n",
    "step1.limit(4).toPandas()"
   ]
  },
  {
   "cell_type": "code",
   "execution_count": 8,
   "metadata": {
    "ExecuteTime": {
     "end_time": "2023-05-24T14:09:45.624473300Z",
     "start_time": "2023-05-24T14:09:41.532443900Z"
    }
   },
   "outputs": [
    {
     "data": {
      "text/plain": "                                 name                                  uuid   \n0       \"\"\"Scand Modern\"\" Phenomenon\"  3215b86b-a4e4-39fe-9818-7e6e75569076  \\\n1         17th C Literature-1600-1660  b4bfb1f2-4ecd-361b-bb4f-a7f46e62602f   \n2         17th C Literature-1600-1660  165c677f-2362-3405-b219-c122ef48bfb9   \n3             17th-Century Literature  1047a29e-32b3-3a5b-8877-5cad2be098d1   \n4          18th Century British Novel  c25fbc34-2af7-3774-b306-34ebf6acfecf   \n...                               ...                                   ...   \n209639                           null  c00e22e2-ada4-3177-8094-a5f86dcdf714   \n209640                           null  c00e22e2-ada4-3177-8094-a5f86dcdf714   \n209641                           null  d3746b08-5fb6-3440-aa68-32dafbbe14ae   \n209642                           null  d3746b08-5fb6-3440-aa68-32dafbbe14ae   \n209643                           null  eaec9d10-cf68-3946-82d2-dd5835f15485   \n\n       facility_code  number  term_code  \n0               0400       1       1112  \n1               0048       1       1082  \n2               0048       1       1072  \n3               0018       1       1152  \n4               0018       1       1112  \n...              ...     ...        ...  \n209639          0053       1       1092  \n209640          0053       1       1164  \n209641          0153       1       1112  \n209642          0153       1       1144  \n209643         1405G       5       1074  \n\n[209644 rows x 5 columns]",
      "text/html": "<div>\n<style scoped>\n    .dataframe tbody tr th:only-of-type {\n        vertical-align: middle;\n    }\n\n    .dataframe tbody tr th {\n        vertical-align: top;\n    }\n\n    .dataframe thead th {\n        text-align: right;\n    }\n</style>\n<table border=\"1\" class=\"dataframe\">\n  <thead>\n    <tr style=\"text-align: right;\">\n      <th></th>\n      <th>name</th>\n      <th>uuid</th>\n      <th>facility_code</th>\n      <th>number</th>\n      <th>term_code</th>\n    </tr>\n  </thead>\n  <tbody>\n    <tr>\n      <th>0</th>\n      <td>\"\"\"Scand Modern\"\" Phenomenon\"</td>\n      <td>3215b86b-a4e4-39fe-9818-7e6e75569076</td>\n      <td>0400</td>\n      <td>1</td>\n      <td>1112</td>\n    </tr>\n    <tr>\n      <th>1</th>\n      <td>17th C Literature-1600-1660</td>\n      <td>b4bfb1f2-4ecd-361b-bb4f-a7f46e62602f</td>\n      <td>0048</td>\n      <td>1</td>\n      <td>1082</td>\n    </tr>\n    <tr>\n      <th>2</th>\n      <td>17th C Literature-1600-1660</td>\n      <td>165c677f-2362-3405-b219-c122ef48bfb9</td>\n      <td>0048</td>\n      <td>1</td>\n      <td>1072</td>\n    </tr>\n    <tr>\n      <th>3</th>\n      <td>17th-Century Literature</td>\n      <td>1047a29e-32b3-3a5b-8877-5cad2be098d1</td>\n      <td>0018</td>\n      <td>1</td>\n      <td>1152</td>\n    </tr>\n    <tr>\n      <th>4</th>\n      <td>18th Century British Novel</td>\n      <td>c25fbc34-2af7-3774-b306-34ebf6acfecf</td>\n      <td>0018</td>\n      <td>1</td>\n      <td>1112</td>\n    </tr>\n    <tr>\n      <th>...</th>\n      <td>...</td>\n      <td>...</td>\n      <td>...</td>\n      <td>...</td>\n      <td>...</td>\n    </tr>\n    <tr>\n      <th>209639</th>\n      <td>null</td>\n      <td>c00e22e2-ada4-3177-8094-a5f86dcdf714</td>\n      <td>0053</td>\n      <td>1</td>\n      <td>1092</td>\n    </tr>\n    <tr>\n      <th>209640</th>\n      <td>null</td>\n      <td>c00e22e2-ada4-3177-8094-a5f86dcdf714</td>\n      <td>0053</td>\n      <td>1</td>\n      <td>1164</td>\n    </tr>\n    <tr>\n      <th>209641</th>\n      <td>null</td>\n      <td>d3746b08-5fb6-3440-aa68-32dafbbe14ae</td>\n      <td>0153</td>\n      <td>1</td>\n      <td>1112</td>\n    </tr>\n    <tr>\n      <th>209642</th>\n      <td>null</td>\n      <td>d3746b08-5fb6-3440-aa68-32dafbbe14ae</td>\n      <td>0153</td>\n      <td>1</td>\n      <td>1144</td>\n    </tr>\n    <tr>\n      <th>209643</th>\n      <td>null</td>\n      <td>eaec9d10-cf68-3946-82d2-dd5835f15485</td>\n      <td>1405G</td>\n      <td>5</td>\n      <td>1074</td>\n    </tr>\n  </tbody>\n</table>\n<p>209644 rows × 5 columns</p>\n</div>"
     },
     "execution_count": 8,
     "metadata": {},
     "output_type": "execute_result"
    }
   ],
   "source": [
    "course_offerings = dfs[\"course_offerings\"]\n",
    "\n",
    "step2 = (\n",
    "    step1\n",
    "    .join(\n",
    "        course_offerings,\n",
    "        step1.course_offering_uuid == course_offerings.uuid,\n",
    "        how='left')\n",
    "    .select(\n",
    "        [\"name\", rooms.uuid, rooms.facility_code, 'number', 'term_code']\n",
    "    )\n",
    "    .orderBy(\n",
    "        \"name\"\n",
    "    )\n",
    ")\n",
    "\n",
    "step2.toPandas()"
   ]
  },
  {
   "cell_type": "markdown",
   "metadata": {},
   "source": [
    "## 1b. Now show same output as above but for only facility number 0469 (facility_code)"
   ]
  },
  {
   "cell_type": "code",
   "execution_count": 10,
   "metadata": {
    "ExecuteTime": {
     "end_time": "2023-05-24T14:10:15.764996600Z",
     "start_time": "2023-05-24T14:10:13.753341200Z"
    }
   },
   "outputs": [
    {
     "data": {
      "text/plain": "                                 name                                  uuid   \n0          18th-Century English Novel  9a15c09e-57d8-3658-ae72-aae5ffdef108  \\\n1           19th Century Philosophers  c731d9db-3bc4-3436-a5fd-7954098d3193   \n2            1st Yr Classical Chinese  f4ccf94a-5c59-3a6d-97e9-d44c4ca6a0fc   \n3            1st Yr Classical Chinese  f4ccf94a-5c59-3a6d-97e9-d44c4ca6a0fc   \n4      1st-Yr Seminar: Biological Sci  2b57b421-6c9f-3d88-9299-21b41c693446   \n...                               ...                                   ...   \n16328                            null  43a08e18-1ab4-397d-83c0-d0e9a0f2588e   \n16329                            null  43a08e18-1ab4-397d-83c0-d0e9a0f2588e   \n16330                            null  43a08e18-1ab4-397d-83c0-d0e9a0f2588e   \n16331                            null  b80de0f7-d1e1-3084-8760-ab290d8f1011   \n16332                            null  b80de0f7-d1e1-3084-8760-ab290d8f1011   \n\n      facility_code  number  term_code  \n0              0469       1       1174  \n1              0469       1       1114  \n2              0469       1       1092  \n3              0469       1       1092  \n4              0469       3       1152  \n...             ...     ...        ...  \n16328          0469       1       1094  \n16329          0469       1       1092  \n16330          0469       1       1074  \n16331          0469       1       1172  \n16332          0469       1       1122  \n\n[16333 rows x 5 columns]",
      "text/html": "<div>\n<style scoped>\n    .dataframe tbody tr th:only-of-type {\n        vertical-align: middle;\n    }\n\n    .dataframe tbody tr th {\n        vertical-align: top;\n    }\n\n    .dataframe thead th {\n        text-align: right;\n    }\n</style>\n<table border=\"1\" class=\"dataframe\">\n  <thead>\n    <tr style=\"text-align: right;\">\n      <th></th>\n      <th>name</th>\n      <th>uuid</th>\n      <th>facility_code</th>\n      <th>number</th>\n      <th>term_code</th>\n    </tr>\n  </thead>\n  <tbody>\n    <tr>\n      <th>0</th>\n      <td>18th-Century English Novel</td>\n      <td>9a15c09e-57d8-3658-ae72-aae5ffdef108</td>\n      <td>0469</td>\n      <td>1</td>\n      <td>1174</td>\n    </tr>\n    <tr>\n      <th>1</th>\n      <td>19th Century Philosophers</td>\n      <td>c731d9db-3bc4-3436-a5fd-7954098d3193</td>\n      <td>0469</td>\n      <td>1</td>\n      <td>1114</td>\n    </tr>\n    <tr>\n      <th>2</th>\n      <td>1st Yr Classical Chinese</td>\n      <td>f4ccf94a-5c59-3a6d-97e9-d44c4ca6a0fc</td>\n      <td>0469</td>\n      <td>1</td>\n      <td>1092</td>\n    </tr>\n    <tr>\n      <th>3</th>\n      <td>1st Yr Classical Chinese</td>\n      <td>f4ccf94a-5c59-3a6d-97e9-d44c4ca6a0fc</td>\n      <td>0469</td>\n      <td>1</td>\n      <td>1092</td>\n    </tr>\n    <tr>\n      <th>4</th>\n      <td>1st-Yr Seminar: Biological Sci</td>\n      <td>2b57b421-6c9f-3d88-9299-21b41c693446</td>\n      <td>0469</td>\n      <td>3</td>\n      <td>1152</td>\n    </tr>\n    <tr>\n      <th>...</th>\n      <td>...</td>\n      <td>...</td>\n      <td>...</td>\n      <td>...</td>\n      <td>...</td>\n    </tr>\n    <tr>\n      <th>16328</th>\n      <td>null</td>\n      <td>43a08e18-1ab4-397d-83c0-d0e9a0f2588e</td>\n      <td>0469</td>\n      <td>1</td>\n      <td>1094</td>\n    </tr>\n    <tr>\n      <th>16329</th>\n      <td>null</td>\n      <td>43a08e18-1ab4-397d-83c0-d0e9a0f2588e</td>\n      <td>0469</td>\n      <td>1</td>\n      <td>1092</td>\n    </tr>\n    <tr>\n      <th>16330</th>\n      <td>null</td>\n      <td>43a08e18-1ab4-397d-83c0-d0e9a0f2588e</td>\n      <td>0469</td>\n      <td>1</td>\n      <td>1074</td>\n    </tr>\n    <tr>\n      <th>16331</th>\n      <td>null</td>\n      <td>b80de0f7-d1e1-3084-8760-ab290d8f1011</td>\n      <td>0469</td>\n      <td>1</td>\n      <td>1172</td>\n    </tr>\n    <tr>\n      <th>16332</th>\n      <td>null</td>\n      <td>b80de0f7-d1e1-3084-8760-ab290d8f1011</td>\n      <td>0469</td>\n      <td>1</td>\n      <td>1122</td>\n    </tr>\n  </tbody>\n</table>\n<p>16333 rows × 5 columns</p>\n</div>"
     },
     "execution_count": 10,
     "metadata": {},
     "output_type": "execute_result"
    }
   ],
   "source": [
    "step3 = step2.filter(step2.facility_code == \"0469\")\n",
    "step3.toPandas()"
   ]
  },
  {
   "cell_type": "markdown",
   "metadata": {},
   "source": [
    "## 2. Count how many sections are offered for each subject for each facility\n",
    "\n",
    "*Note: this will involve a groupby*"
   ]
  },
  {
   "cell_type": "code",
   "execution_count": 11,
   "metadata": {
    "ExecuteTime": {
     "end_time": "2023-05-24T14:11:40.577510900Z",
     "start_time": "2023-05-24T14:11:40.350499400Z"
    }
   },
   "outputs": [
    {
     "data": {
      "text/plain": "                             subject_name   \n0     Chemical and Biological Engineering  \\\n1     Electrical and Computer Engineering   \n2  Engineering Mechanics and Astronautics   \n3                  Mechanical Engineering   \n\n                   course_offering_uuid  \n0  344b3ebe-da7e-314c-83ed-9425269695fd  \n1  344b3ebe-da7e-314c-83ed-9425269695fd  \n2  344b3ebe-da7e-314c-83ed-9425269695fd  \n3  344b3ebe-da7e-314c-83ed-9425269695fd  ",
      "text/html": "<div>\n<style scoped>\n    .dataframe tbody tr th:only-of-type {\n        vertical-align: middle;\n    }\n\n    .dataframe tbody tr th {\n        vertical-align: top;\n    }\n\n    .dataframe thead th {\n        text-align: right;\n    }\n</style>\n<table border=\"1\" class=\"dataframe\">\n  <thead>\n    <tr style=\"text-align: right;\">\n      <th></th>\n      <th>subject_name</th>\n      <th>course_offering_uuid</th>\n    </tr>\n  </thead>\n  <tbody>\n    <tr>\n      <th>0</th>\n      <td>Chemical and Biological Engineering</td>\n      <td>344b3ebe-da7e-314c-83ed-9425269695fd</td>\n    </tr>\n    <tr>\n      <th>1</th>\n      <td>Electrical and Computer Engineering</td>\n      <td>344b3ebe-da7e-314c-83ed-9425269695fd</td>\n    </tr>\n    <tr>\n      <th>2</th>\n      <td>Engineering Mechanics and Astronautics</td>\n      <td>344b3ebe-da7e-314c-83ed-9425269695fd</td>\n    </tr>\n    <tr>\n      <th>3</th>\n      <td>Mechanical Engineering</td>\n      <td>344b3ebe-da7e-314c-83ed-9425269695fd</td>\n    </tr>\n  </tbody>\n</table>\n</div>"
     },
     "execution_count": 11,
     "metadata": {},
     "output_type": "execute_result"
    }
   ],
   "source": [
    "subjects = dfs.get(\"subjects\")\n",
    "subject_memberships = dfs.get(\"subject_memberships\")\n",
    "\n",
    "step1 = (\n",
    "    subjects\n",
    "    .join(\n",
    "        subject_memberships,\n",
    "        subjects.code == subject_memberships.subject_code,\n",
    "        how='inner')\n",
    "    .select(\n",
    "        ['name', 'course_offering_uuid']).withColumnRenamed('name', 'subject_name')\n",
    ")\n",
    "\n",
    "step1.limit(4).toPandas()"
   ]
  },
  {
   "cell_type": "code",
   "execution_count": 12,
   "metadata": {
    "ExecuteTime": {
     "end_time": "2023-05-24T14:12:46.223811100Z",
     "start_time": "2023-05-24T14:12:44.733671900Z"
    }
   },
   "outputs": [
    {
     "data": {
      "text/plain": "                          subject_name                             room_uuid\n0                   Communication Arts  4948c250-c6cf-3272-a497-f90962f3ba67\n1    Materials Science and Engineering  3767a755-bf46-3d70-b607-1ded3f01fb18\n2  Chemical and Biological Engineering                                  null\n3  Electrical and Computer Engineering                                  null",
      "text/html": "<div>\n<style scoped>\n    .dataframe tbody tr th:only-of-type {\n        vertical-align: middle;\n    }\n\n    .dataframe tbody tr th {\n        vertical-align: top;\n    }\n\n    .dataframe thead th {\n        text-align: right;\n    }\n</style>\n<table border=\"1\" class=\"dataframe\">\n  <thead>\n    <tr style=\"text-align: right;\">\n      <th></th>\n      <th>subject_name</th>\n      <th>room_uuid</th>\n    </tr>\n  </thead>\n  <tbody>\n    <tr>\n      <th>0</th>\n      <td>Communication Arts</td>\n      <td>4948c250-c6cf-3272-a497-f90962f3ba67</td>\n    </tr>\n    <tr>\n      <th>1</th>\n      <td>Materials Science and Engineering</td>\n      <td>3767a755-bf46-3d70-b607-1ded3f01fb18</td>\n    </tr>\n    <tr>\n      <th>2</th>\n      <td>Chemical and Biological Engineering</td>\n      <td>null</td>\n    </tr>\n    <tr>\n      <th>3</th>\n      <td>Electrical and Computer Engineering</td>\n      <td>null</td>\n    </tr>\n  </tbody>\n</table>\n</div>"
     },
     "execution_count": 12,
     "metadata": {},
     "output_type": "execute_result"
    }
   ],
   "source": [
    "step2 = (\n",
    "    step1\n",
    "    .join(\n",
    "        sections,\n",
    "        step1.course_offering_uuid == sections.course_offering_uuid,\n",
    "        how='left'\n",
    "    )\n",
    "    .select(\n",
    "        ['subject_name', 'room_uuid']\n",
    "    )\n",
    ")\n",
    "step2.limit(4).toPandas()"
   ]
  },
  {
   "cell_type": "code",
   "execution_count": 18,
   "metadata": {
    "ExecuteTime": {
     "end_time": "2023-05-24T14:20:21.288791100Z",
     "start_time": "2023-05-24T14:20:21.185913Z"
    }
   },
   "outputs": [
    {
     "ename": "AnalysisException",
     "evalue": "cannot resolve 'subject_code' given input columns: [facility_code, room_code, room_uuid, subject_name, uuid];\n'Project [subject_name#455, facility_code#135, room_code#136, 'subject_code]\n+- Join LeftOuter, (room_uuid#196 = uuid#134)\n   :- Project [subject_name#455, room_uuid#196]\n   :  +- Join LeftOuter, (course_offering_uuid#243 = course_offering_uuid#193)\n   :     :- Project [name#221 AS subject_name#455, course_offering_uuid#243]\n   :     :  +- Project [name#221, course_offering_uuid#243]\n   :     :     +- Join Inner, (cast(code#220 as int) = subject_code#242)\n   :     :        :- Relation [code#220,name#221,abbreviation#222] csv\n   :     :        +- Relation [subject_code#242,course_offering_uuid#243] csv\n   :     +- Relation [uuid#192,course_offering_uuid#193,section_type#194,number#195,room_uuid#196,schedule_uuid#197] csv\n   +- Relation [uuid#134,facility_code#135,room_code#136] csv\n",
     "output_type": "error",
     "traceback": [
      "\u001B[1;31m---------------------------------------------------------------------------\u001B[0m",
      "\u001B[1;31mAnalysisException\u001B[0m                         Traceback (most recent call last)",
      "Cell \u001B[1;32mIn[18], line 3\u001B[0m\n\u001B[0;32m      1\u001B[0m \u001B[38;5;66;03m# I added a filter to make this a little simpler\u001B[39;00m\n\u001B[0;32m      2\u001B[0m step3 \u001B[38;5;241m=\u001B[39m (\n\u001B[1;32m----> 3\u001B[0m     \u001B[43mstep2\u001B[49m\n\u001B[0;32m      4\u001B[0m \u001B[43m    \u001B[49m\u001B[38;5;241;43m.\u001B[39;49m\u001B[43mjoin\u001B[49m\u001B[43m(\u001B[49m\n\u001B[0;32m      5\u001B[0m \u001B[43m        \u001B[49m\u001B[43mrooms\u001B[49m\u001B[43m,\u001B[49m\n\u001B[0;32m      6\u001B[0m \u001B[43m        \u001B[49m\u001B[43mstep2\u001B[49m\u001B[38;5;241;43m.\u001B[39;49m\u001B[43mroom_uuid\u001B[49m\u001B[43m \u001B[49m\u001B[38;5;241;43m==\u001B[39;49m\u001B[43m \u001B[49m\u001B[43mrooms\u001B[49m\u001B[38;5;241;43m.\u001B[39;49m\u001B[43muuid\u001B[49m\u001B[43m,\u001B[49m\n\u001B[0;32m      7\u001B[0m \u001B[43m        \u001B[49m\u001B[43mhow\u001B[49m\u001B[38;5;241;43m=\u001B[39;49m\u001B[38;5;124;43m'\u001B[39;49m\u001B[38;5;124;43mleft\u001B[39;49m\u001B[38;5;124;43m'\u001B[39;49m\n\u001B[0;32m      8\u001B[0m \u001B[43m    \u001B[49m\u001B[43m)\u001B[49m\n\u001B[0;32m      9\u001B[0m \u001B[43m    \u001B[49m\u001B[38;5;241;43m.\u001B[39;49m\u001B[43mselect\u001B[49m\u001B[43m(\u001B[49m\n\u001B[0;32m     10\u001B[0m \u001B[43m        \u001B[49m\u001B[43m[\u001B[49m\u001B[38;5;124;43m'\u001B[39;49m\u001B[38;5;124;43msubject_name\u001B[39;49m\u001B[38;5;124;43m'\u001B[39;49m\u001B[43m,\u001B[49m\u001B[43m \u001B[49m\u001B[38;5;124;43m'\u001B[39;49m\u001B[38;5;124;43mfacility_code\u001B[39;49m\u001B[38;5;124;43m'\u001B[39;49m\u001B[43m,\u001B[49m\u001B[43m \u001B[49m\u001B[38;5;124;43m'\u001B[39;49m\u001B[38;5;124;43mroom_code\u001B[39;49m\u001B[38;5;124;43m'\u001B[39;49m\u001B[43m,\u001B[49m\u001B[43m \u001B[49m\u001B[38;5;124;43m\"\u001B[39;49m\u001B[38;5;124;43msubject_code\u001B[39;49m\u001B[38;5;124;43m\"\u001B[39;49m\u001B[43m]\u001B[49m\n\u001B[0;32m     11\u001B[0m \u001B[43m    \u001B[49m\u001B[43m)\u001B[49m\n\u001B[0;32m     12\u001B[0m )\n\u001B[0;32m     14\u001B[0m step3\u001B[38;5;241m.\u001B[39mlimit(\u001B[38;5;241m4\u001B[39m)\u001B[38;5;241m.\u001B[39mtoPandas()\n",
      "File \u001B[1;32mC:\\Spark\\spark-3.2.4-bin-hadoop2.7\\python\\pyspark\\sql\\dataframe.py:1685\u001B[0m, in \u001B[0;36mDataFrame.select\u001B[1;34m(self, *cols)\u001B[0m\n\u001B[0;32m   1664\u001B[0m \u001B[38;5;28;01mdef\u001B[39;00m \u001B[38;5;21mselect\u001B[39m(\u001B[38;5;28mself\u001B[39m, \u001B[38;5;241m*\u001B[39mcols):\n\u001B[0;32m   1665\u001B[0m \u001B[38;5;250m    \u001B[39m\u001B[38;5;124;03m\"\"\"Projects a set of expressions and returns a new :class:`DataFrame`.\u001B[39;00m\n\u001B[0;32m   1666\u001B[0m \n\u001B[0;32m   1667\u001B[0m \u001B[38;5;124;03m    .. versionadded:: 1.3.0\u001B[39;00m\n\u001B[1;32m   (...)\u001B[0m\n\u001B[0;32m   1683\u001B[0m \u001B[38;5;124;03m    [Row(name='Alice', age=12), Row(name='Bob', age=15)]\u001B[39;00m\n\u001B[0;32m   1684\u001B[0m \u001B[38;5;124;03m    \"\"\"\u001B[39;00m\n\u001B[1;32m-> 1685\u001B[0m     jdf \u001B[38;5;241m=\u001B[39m \u001B[38;5;28;43mself\u001B[39;49m\u001B[38;5;241;43m.\u001B[39;49m\u001B[43m_jdf\u001B[49m\u001B[38;5;241;43m.\u001B[39;49m\u001B[43mselect\u001B[49m\u001B[43m(\u001B[49m\u001B[38;5;28;43mself\u001B[39;49m\u001B[38;5;241;43m.\u001B[39;49m\u001B[43m_jcols\u001B[49m\u001B[43m(\u001B[49m\u001B[38;5;241;43m*\u001B[39;49m\u001B[43mcols\u001B[49m\u001B[43m)\u001B[49m\u001B[43m)\u001B[49m\n\u001B[0;32m   1686\u001B[0m     \u001B[38;5;28;01mreturn\u001B[39;00m DataFrame(jdf, \u001B[38;5;28mself\u001B[39m\u001B[38;5;241m.\u001B[39msql_ctx)\n",
      "File \u001B[1;32mC:\\Spark\\spark-3.2.4-bin-hadoop2.7\\python\\lib\\py4j-0.10.9.5-src.zip\\py4j\\java_gateway.py:1321\u001B[0m, in \u001B[0;36mJavaMember.__call__\u001B[1;34m(self, *args)\u001B[0m\n\u001B[0;32m   1315\u001B[0m command \u001B[38;5;241m=\u001B[39m proto\u001B[38;5;241m.\u001B[39mCALL_COMMAND_NAME \u001B[38;5;241m+\u001B[39m\\\n\u001B[0;32m   1316\u001B[0m     \u001B[38;5;28mself\u001B[39m\u001B[38;5;241m.\u001B[39mcommand_header \u001B[38;5;241m+\u001B[39m\\\n\u001B[0;32m   1317\u001B[0m     args_command \u001B[38;5;241m+\u001B[39m\\\n\u001B[0;32m   1318\u001B[0m     proto\u001B[38;5;241m.\u001B[39mEND_COMMAND_PART\n\u001B[0;32m   1320\u001B[0m answer \u001B[38;5;241m=\u001B[39m \u001B[38;5;28mself\u001B[39m\u001B[38;5;241m.\u001B[39mgateway_client\u001B[38;5;241m.\u001B[39msend_command(command)\n\u001B[1;32m-> 1321\u001B[0m return_value \u001B[38;5;241m=\u001B[39m \u001B[43mget_return_value\u001B[49m\u001B[43m(\u001B[49m\n\u001B[0;32m   1322\u001B[0m \u001B[43m    \u001B[49m\u001B[43manswer\u001B[49m\u001B[43m,\u001B[49m\u001B[43m \u001B[49m\u001B[38;5;28;43mself\u001B[39;49m\u001B[38;5;241;43m.\u001B[39;49m\u001B[43mgateway_client\u001B[49m\u001B[43m,\u001B[49m\u001B[43m \u001B[49m\u001B[38;5;28;43mself\u001B[39;49m\u001B[38;5;241;43m.\u001B[39;49m\u001B[43mtarget_id\u001B[49m\u001B[43m,\u001B[49m\u001B[43m \u001B[49m\u001B[38;5;28;43mself\u001B[39;49m\u001B[38;5;241;43m.\u001B[39;49m\u001B[43mname\u001B[49m\u001B[43m)\u001B[49m\n\u001B[0;32m   1324\u001B[0m \u001B[38;5;28;01mfor\u001B[39;00m temp_arg \u001B[38;5;129;01min\u001B[39;00m temp_args:\n\u001B[0;32m   1325\u001B[0m     temp_arg\u001B[38;5;241m.\u001B[39m_detach()\n",
      "File \u001B[1;32mC:\\Spark\\spark-3.2.4-bin-hadoop2.7\\python\\pyspark\\sql\\utils.py:117\u001B[0m, in \u001B[0;36mcapture_sql_exception.<locals>.deco\u001B[1;34m(*a, **kw)\u001B[0m\n\u001B[0;32m    113\u001B[0m converted \u001B[38;5;241m=\u001B[39m convert_exception(e\u001B[38;5;241m.\u001B[39mjava_exception)\n\u001B[0;32m    114\u001B[0m \u001B[38;5;28;01mif\u001B[39;00m \u001B[38;5;129;01mnot\u001B[39;00m \u001B[38;5;28misinstance\u001B[39m(converted, UnknownException):\n\u001B[0;32m    115\u001B[0m     \u001B[38;5;66;03m# Hide where the exception came from that shows a non-Pythonic\u001B[39;00m\n\u001B[0;32m    116\u001B[0m     \u001B[38;5;66;03m# JVM exception message.\u001B[39;00m\n\u001B[1;32m--> 117\u001B[0m     \u001B[38;5;28;01mraise\u001B[39;00m converted \u001B[38;5;28;01mfrom\u001B[39;00m \u001B[38;5;28;01mNone\u001B[39;00m\n\u001B[0;32m    118\u001B[0m \u001B[38;5;28;01melse\u001B[39;00m:\n\u001B[0;32m    119\u001B[0m     \u001B[38;5;28;01mraise\u001B[39;00m\n",
      "\u001B[1;31mAnalysisException\u001B[0m: cannot resolve 'subject_code' given input columns: [facility_code, room_code, room_uuid, subject_name, uuid];\n'Project [subject_name#455, facility_code#135, room_code#136, 'subject_code]\n+- Join LeftOuter, (room_uuid#196 = uuid#134)\n   :- Project [subject_name#455, room_uuid#196]\n   :  +- Join LeftOuter, (course_offering_uuid#243 = course_offering_uuid#193)\n   :     :- Project [name#221 AS subject_name#455, course_offering_uuid#243]\n   :     :  +- Project [name#221, course_offering_uuid#243]\n   :     :     +- Join Inner, (cast(code#220 as int) = subject_code#242)\n   :     :        :- Relation [code#220,name#221,abbreviation#222] csv\n   :     :        +- Relation [subject_code#242,course_offering_uuid#243] csv\n   :     +- Relation [uuid#192,course_offering_uuid#193,section_type#194,number#195,room_uuid#196,schedule_uuid#197] csv\n   +- Relation [uuid#134,facility_code#135,room_code#136] csv\n"
     ]
    }
   ],
   "source": [
    "# I added a filter to make this a little simpler\n",
    "step3 = (\n",
    "    step2\n",
    "    .join(\n",
    "        rooms,\n",
    "        step2.room_uuid == rooms.uuid,\n",
    "        how='left'\n",
    "    )\n",
    "    .select(\n",
    "        ['subject_name', 'facility_code', 'room_code']\n",
    "    )\n",
    ")\n",
    "\n",
    "step3.limit(4).toPandas()"
   ]
  },
  {
   "cell_type": "code",
   "execution_count": 19,
   "metadata": {
    "ExecuteTime": {
     "end_time": "2023-05-24T14:20:39.493606300Z",
     "start_time": "2023-05-24T14:20:36.679266800Z"
    }
   },
   "outputs": [
    {
     "data": {
      "text/plain": "     facility_code                                     subject_name  count\n0             None            ANIMAL HEALTH AND BIOMEDICAL SCIENCES     90\n1             None               Accounting and Information Systems    187\n2             None                                Actuarial Science      2\n3             None                 African Languages and Literature    197\n4             None                            Afro-American Studies    145\n...            ...                                              ...    ...\n4148        ONLINE  Rehabilitation Psychology and Special Education     29\n4149        ONLINE                                Religious Studies      2\n4150        ONLINE                                      Social Work     59\n4151        ONLINE                                        Sociology      4\n4152        ONLINE                                     Soil Science      5\n\n[4153 rows x 3 columns]",
      "text/html": "<div>\n<style scoped>\n    .dataframe tbody tr th:only-of-type {\n        vertical-align: middle;\n    }\n\n    .dataframe tbody tr th {\n        vertical-align: top;\n    }\n\n    .dataframe thead th {\n        text-align: right;\n    }\n</style>\n<table border=\"1\" class=\"dataframe\">\n  <thead>\n    <tr style=\"text-align: right;\">\n      <th></th>\n      <th>facility_code</th>\n      <th>subject_name</th>\n      <th>count</th>\n    </tr>\n  </thead>\n  <tbody>\n    <tr>\n      <th>0</th>\n      <td>None</td>\n      <td>ANIMAL HEALTH AND BIOMEDICAL SCIENCES</td>\n      <td>90</td>\n    </tr>\n    <tr>\n      <th>1</th>\n      <td>None</td>\n      <td>Accounting and Information Systems</td>\n      <td>187</td>\n    </tr>\n    <tr>\n      <th>2</th>\n      <td>None</td>\n      <td>Actuarial Science</td>\n      <td>2</td>\n    </tr>\n    <tr>\n      <th>3</th>\n      <td>None</td>\n      <td>African Languages and Literature</td>\n      <td>197</td>\n    </tr>\n    <tr>\n      <th>4</th>\n      <td>None</td>\n      <td>Afro-American Studies</td>\n      <td>145</td>\n    </tr>\n    <tr>\n      <th>...</th>\n      <td>...</td>\n      <td>...</td>\n      <td>...</td>\n    </tr>\n    <tr>\n      <th>4148</th>\n      <td>ONLINE</td>\n      <td>Rehabilitation Psychology and Special Education</td>\n      <td>29</td>\n    </tr>\n    <tr>\n      <th>4149</th>\n      <td>ONLINE</td>\n      <td>Religious Studies</td>\n      <td>2</td>\n    </tr>\n    <tr>\n      <th>4150</th>\n      <td>ONLINE</td>\n      <td>Social Work</td>\n      <td>59</td>\n    </tr>\n    <tr>\n      <th>4151</th>\n      <td>ONLINE</td>\n      <td>Sociology</td>\n      <td>4</td>\n    </tr>\n    <tr>\n      <th>4152</th>\n      <td>ONLINE</td>\n      <td>Soil Science</td>\n      <td>5</td>\n    </tr>\n  </tbody>\n</table>\n<p>4153 rows × 3 columns</p>\n</div>"
     },
     "execution_count": 19,
     "metadata": {},
     "output_type": "execute_result"
    }
   ],
   "source": [
    "# Option 1: Group by facility code and do a count\n",
    "step3.groupBy('facility_code', 'subject_name').count().orderBy(\"facility_code\", \"subject_name\").toPandas()  # False prevents truncation of column content"
   ]
  },
  {
   "cell_type": "code",
   "execution_count": 24,
   "metadata": {},
   "outputs": [
    {
     "name": "stdout",
     "output_type": "stream",
     "text": [
      "+---------------------------------+----+----+----+----+\n",
      "|subject_name                     |0031|0140|0469|0545|\n",
      "+---------------------------------+----+----+----+----+\n",
      "|Asian American Studies           |null|6   |245 |24  |\n",
      "|Religious Studies                |null|32  |282 |43  |\n",
      "|HEBREW                           |null|7   |4   |null|\n",
      "|Botany                           |null|4   |24  |2   |\n",
      "|Urban and Regional Planning      |null|208 |17  |6   |\n",
      "|Nutritional Sciences             |6   |null|null|28  |\n",
      "|Kinesiology                      |1549|null|null|null|\n",
      "|Art Education (Department of Art)|null|null|145 |null|\n",
      "|Philosophy                       |1   |80  |1296|73  |\n",
      "|Microbiology                     |null|null|1   |null|\n",
      "+---------------------------------+----+----+----+----+\n",
      "only showing top 10 rows\n",
      "\n"
     ]
    }
   ],
   "source": [
    "# Option 2: Groupby subject name and pivot the facility code\n",
    "# to see each facility side by side within each subject\n",
    "step3.groupBy(\"subject_name\").pivot(\"facility_code\").count().show(10, False)"
   ]
  },
  {
   "cell_type": "markdown",
   "metadata": {},
   "source": [
    "## 3. What are the hardest classes?\n",
    "\n",
    "Let's see if we can figure out which classes are the hardest by seeing how many students failed. Note that you will first need to aggregate the grades table by the course uuid to include all sections. Show the name of the course as well that you will need to get from the course_offering table."
   ]
  },
  {
   "cell_type": "code",
   "execution_count": 20,
   "metadata": {
    "ExecuteTime": {
     "end_time": "2023-05-24T14:27:12.774346300Z",
     "start_time": "2023-05-24T14:27:12.664490300Z"
    }
   },
   "outputs": [
    {
     "data": {
      "text/plain": "                   course_offering_uuid  section_number  a_count  ab_count   \n0  344b3ebe-da7e-314c-83ed-9425269695fd               1      105         0  \\\n1  f718e6cd-33f0-3c14-a9a6-834d9c3610a8               1      158         0   \n2  ea3b717c-d66b-30dc-8b37-964d9688295f               1      139        12   \n3  075da420-5f49-3dd0-93df-13e3c152e1b1               1       87         0   \n\n   b_count  bc_count  c_count  d_count  f_count  s_count  u_count  cr_count   \n0        0         0        0        0        0        0        0         0  \\\n1        0         0        0        0        0        0        0         0   \n2        2         0        3        0        0        0        0         0   \n3        0         0        0        0        0        0        0         0   \n\n   n_count  p_count  i_count  nw_count  nr_count  other_count  \n0        0        0        0         0         0            0  \n1        0        0        1         0         0            0  \n2        0        0        0         0         0            0  \n3        0        0        1         0         0            0  ",
      "text/html": "<div>\n<style scoped>\n    .dataframe tbody tr th:only-of-type {\n        vertical-align: middle;\n    }\n\n    .dataframe tbody tr th {\n        vertical-align: top;\n    }\n\n    .dataframe thead th {\n        text-align: right;\n    }\n</style>\n<table border=\"1\" class=\"dataframe\">\n  <thead>\n    <tr style=\"text-align: right;\">\n      <th></th>\n      <th>course_offering_uuid</th>\n      <th>section_number</th>\n      <th>a_count</th>\n      <th>ab_count</th>\n      <th>b_count</th>\n      <th>bc_count</th>\n      <th>c_count</th>\n      <th>d_count</th>\n      <th>f_count</th>\n      <th>s_count</th>\n      <th>u_count</th>\n      <th>cr_count</th>\n      <th>n_count</th>\n      <th>p_count</th>\n      <th>i_count</th>\n      <th>nw_count</th>\n      <th>nr_count</th>\n      <th>other_count</th>\n    </tr>\n  </thead>\n  <tbody>\n    <tr>\n      <th>0</th>\n      <td>344b3ebe-da7e-314c-83ed-9425269695fd</td>\n      <td>1</td>\n      <td>105</td>\n      <td>0</td>\n      <td>0</td>\n      <td>0</td>\n      <td>0</td>\n      <td>0</td>\n      <td>0</td>\n      <td>0</td>\n      <td>0</td>\n      <td>0</td>\n      <td>0</td>\n      <td>0</td>\n      <td>0</td>\n      <td>0</td>\n      <td>0</td>\n      <td>0</td>\n    </tr>\n    <tr>\n      <th>1</th>\n      <td>f718e6cd-33f0-3c14-a9a6-834d9c3610a8</td>\n      <td>1</td>\n      <td>158</td>\n      <td>0</td>\n      <td>0</td>\n      <td>0</td>\n      <td>0</td>\n      <td>0</td>\n      <td>0</td>\n      <td>0</td>\n      <td>0</td>\n      <td>0</td>\n      <td>0</td>\n      <td>0</td>\n      <td>1</td>\n      <td>0</td>\n      <td>0</td>\n      <td>0</td>\n    </tr>\n    <tr>\n      <th>2</th>\n      <td>ea3b717c-d66b-30dc-8b37-964d9688295f</td>\n      <td>1</td>\n      <td>139</td>\n      <td>12</td>\n      <td>2</td>\n      <td>0</td>\n      <td>3</td>\n      <td>0</td>\n      <td>0</td>\n      <td>0</td>\n      <td>0</td>\n      <td>0</td>\n      <td>0</td>\n      <td>0</td>\n      <td>0</td>\n      <td>0</td>\n      <td>0</td>\n      <td>0</td>\n    </tr>\n    <tr>\n      <th>3</th>\n      <td>075da420-5f49-3dd0-93df-13e3c152e1b1</td>\n      <td>1</td>\n      <td>87</td>\n      <td>0</td>\n      <td>0</td>\n      <td>0</td>\n      <td>0</td>\n      <td>0</td>\n      <td>0</td>\n      <td>0</td>\n      <td>0</td>\n      <td>0</td>\n      <td>0</td>\n      <td>0</td>\n      <td>1</td>\n      <td>0</td>\n      <td>0</td>\n      <td>0</td>\n    </tr>\n  </tbody>\n</table>\n</div>"
     },
     "execution_count": 20,
     "metadata": {},
     "output_type": "execute_result"
    }
   ],
   "source": [
    "grade_distributions = dfs[\"grade_distributions\"]\n",
    "\n",
    "grade_distributions.limit(4).toPandas()"
   ]
  },
  {
   "cell_type": "code",
   "execution_count": 21,
   "metadata": {
    "ExecuteTime": {
     "end_time": "2023-05-24T14:27:16.158691600Z",
     "start_time": "2023-05-24T14:27:16.062219Z"
    }
   },
   "outputs": [
    {
     "data": {
      "text/plain": "                                   uuid                           course_uuid   \n0  344b3ebe-da7e-314c-83ed-9425269695fd  a3e3e1c3-543d-3bb5-ae65-5f2aec4ad1de  \\\n1  f718e6cd-33f0-3c14-a9a6-834d9c3610a8  a3e3e1c3-543d-3bb5-ae65-5f2aec4ad1de   \n2  ea3b717c-d66b-30dc-8b37-964d9688295f  a3e3e1c3-543d-3bb5-ae65-5f2aec4ad1de   \n3  075da420-5f49-3dd0-93df-13e3c152e1b1  a3e3e1c3-543d-3bb5-ae65-5f2aec4ad1de   \n\n   term_code                        name  \n0       1092  Cooperative Education Prog  \n1       1082  Cooperative Education Prog  \n2       1172  Cooperative Education Prog  \n3       1114  Cooperative Education Prog  ",
      "text/html": "<div>\n<style scoped>\n    .dataframe tbody tr th:only-of-type {\n        vertical-align: middle;\n    }\n\n    .dataframe tbody tr th {\n        vertical-align: top;\n    }\n\n    .dataframe thead th {\n        text-align: right;\n    }\n</style>\n<table border=\"1\" class=\"dataframe\">\n  <thead>\n    <tr style=\"text-align: right;\">\n      <th></th>\n      <th>uuid</th>\n      <th>course_uuid</th>\n      <th>term_code</th>\n      <th>name</th>\n    </tr>\n  </thead>\n  <tbody>\n    <tr>\n      <th>0</th>\n      <td>344b3ebe-da7e-314c-83ed-9425269695fd</td>\n      <td>a3e3e1c3-543d-3bb5-ae65-5f2aec4ad1de</td>\n      <td>1092</td>\n      <td>Cooperative Education Prog</td>\n    </tr>\n    <tr>\n      <th>1</th>\n      <td>f718e6cd-33f0-3c14-a9a6-834d9c3610a8</td>\n      <td>a3e3e1c3-543d-3bb5-ae65-5f2aec4ad1de</td>\n      <td>1082</td>\n      <td>Cooperative Education Prog</td>\n    </tr>\n    <tr>\n      <th>2</th>\n      <td>ea3b717c-d66b-30dc-8b37-964d9688295f</td>\n      <td>a3e3e1c3-543d-3bb5-ae65-5f2aec4ad1de</td>\n      <td>1172</td>\n      <td>Cooperative Education Prog</td>\n    </tr>\n    <tr>\n      <th>3</th>\n      <td>075da420-5f49-3dd0-93df-13e3c152e1b1</td>\n      <td>a3e3e1c3-543d-3bb5-ae65-5f2aec4ad1de</td>\n      <td>1114</td>\n      <td>Cooperative Education Prog</td>\n    </tr>\n  </tbody>\n</table>\n</div>"
     },
     "execution_count": 21,
     "metadata": {},
     "output_type": "execute_result"
    }
   ],
   "source": [
    "course_offerings.limit(4).toPandas()"
   ]
  },
  {
   "cell_type": "code",
   "execution_count": 22,
   "metadata": {
    "ExecuteTime": {
     "end_time": "2023-05-24T14:33:01.548483Z",
     "start_time": "2023-05-24T14:33:00.314938Z"
    }
   },
   "outputs": [
    {
     "data": {
      "text/plain": "                       course_offering_uuid  sum(f_count)\n0      c939dd5e-43ba-3266-8f74-573f629de75b             0\n1      75fdf27b-0e52-3544-96eb-d594a5ad969f             0\n2      cfeba94d-8e0e-320b-a904-ea2c2a31c000             7\n3      ceabe145-78e5-33c2-9b68-3a1eea9c2864             4\n4      1ee15e7e-fa91-3205-8999-4cac58a95b61             0\n...                                     ...           ...\n80166  f4696bcb-a303-3b68-ac82-9b85ca228096             0\n80167  cf3c9d45-cca6-341e-bdb1-31af018b781f             0\n80168  e17aaf42-1411-3d9e-82a5-7e8610abcc88             0\n80169  300e5a59-f23a-3d2b-9a03-47be0ff2edaa             0\n80170  0d1efa37-90a0-324f-b0c0-438ea4b05beb             0\n\n[80171 rows x 2 columns]",
      "text/html": "<div>\n<style scoped>\n    .dataframe tbody tr th:only-of-type {\n        vertical-align: middle;\n    }\n\n    .dataframe tbody tr th {\n        vertical-align: top;\n    }\n\n    .dataframe thead th {\n        text-align: right;\n    }\n</style>\n<table border=\"1\" class=\"dataframe\">\n  <thead>\n    <tr style=\"text-align: right;\">\n      <th></th>\n      <th>course_offering_uuid</th>\n      <th>sum(f_count)</th>\n    </tr>\n  </thead>\n  <tbody>\n    <tr>\n      <th>0</th>\n      <td>c939dd5e-43ba-3266-8f74-573f629de75b</td>\n      <td>0</td>\n    </tr>\n    <tr>\n      <th>1</th>\n      <td>75fdf27b-0e52-3544-96eb-d594a5ad969f</td>\n      <td>0</td>\n    </tr>\n    <tr>\n      <th>2</th>\n      <td>cfeba94d-8e0e-320b-a904-ea2c2a31c000</td>\n      <td>7</td>\n    </tr>\n    <tr>\n      <th>3</th>\n      <td>ceabe145-78e5-33c2-9b68-3a1eea9c2864</td>\n      <td>4</td>\n    </tr>\n    <tr>\n      <th>4</th>\n      <td>1ee15e7e-fa91-3205-8999-4cac58a95b61</td>\n      <td>0</td>\n    </tr>\n    <tr>\n      <th>...</th>\n      <td>...</td>\n      <td>...</td>\n    </tr>\n    <tr>\n      <th>80166</th>\n      <td>f4696bcb-a303-3b68-ac82-9b85ca228096</td>\n      <td>0</td>\n    </tr>\n    <tr>\n      <th>80167</th>\n      <td>cf3c9d45-cca6-341e-bdb1-31af018b781f</td>\n      <td>0</td>\n    </tr>\n    <tr>\n      <th>80168</th>\n      <td>e17aaf42-1411-3d9e-82a5-7e8610abcc88</td>\n      <td>0</td>\n    </tr>\n    <tr>\n      <th>80169</th>\n      <td>300e5a59-f23a-3d2b-9a03-47be0ff2edaa</td>\n      <td>0</td>\n    </tr>\n    <tr>\n      <th>80170</th>\n      <td>0d1efa37-90a0-324f-b0c0-438ea4b05beb</td>\n      <td>0</td>\n    </tr>\n  </tbody>\n</table>\n<p>80171 rows × 2 columns</p>\n</div>"
     },
     "execution_count": 22,
     "metadata": {},
     "output_type": "execute_result"
    }
   ],
   "source": [
    "step1 = grade_distributions.groupBy(\"course_offering_uuid\").sum(\"f_count\")\n",
    "step1.toPandas()"
   ]
  },
  {
   "cell_type": "code",
   "execution_count": 24,
   "metadata": {
    "ExecuteTime": {
     "end_time": "2023-05-24T14:37:04.063282400Z",
     "start_time": "2023-05-24T14:37:02.474782800Z"
    }
   },
   "outputs": [
    {
     "data": {
      "text/plain": "                                name  sum(f_count)\n0      \"\"\"Scand Modern\"\" Phenomenon\"             0\n1        17th C Literature-1600-1660             0\n2        17th C Literature-1600-1660             0\n3            17th-Century Literature             0\n4         18th Century British Novel             0\n...                              ...           ...\n80166                           null             2\n80167                           null             2\n80168                           null             2\n80169                           null             2\n80170                           null             4\n\n[80171 rows x 2 columns]",
      "text/html": "<div>\n<style scoped>\n    .dataframe tbody tr th:only-of-type {\n        vertical-align: middle;\n    }\n\n    .dataframe tbody tr th {\n        vertical-align: top;\n    }\n\n    .dataframe thead th {\n        text-align: right;\n    }\n</style>\n<table border=\"1\" class=\"dataframe\">\n  <thead>\n    <tr style=\"text-align: right;\">\n      <th></th>\n      <th>name</th>\n      <th>sum(f_count)</th>\n    </tr>\n  </thead>\n  <tbody>\n    <tr>\n      <th>0</th>\n      <td>\"\"\"Scand Modern\"\" Phenomenon\"</td>\n      <td>0</td>\n    </tr>\n    <tr>\n      <th>1</th>\n      <td>17th C Literature-1600-1660</td>\n      <td>0</td>\n    </tr>\n    <tr>\n      <th>2</th>\n      <td>17th C Literature-1600-1660</td>\n      <td>0</td>\n    </tr>\n    <tr>\n      <th>3</th>\n      <td>17th-Century Literature</td>\n      <td>0</td>\n    </tr>\n    <tr>\n      <th>4</th>\n      <td>18th Century British Novel</td>\n      <td>0</td>\n    </tr>\n    <tr>\n      <th>...</th>\n      <td>...</td>\n      <td>...</td>\n    </tr>\n    <tr>\n      <th>80166</th>\n      <td>null</td>\n      <td>2</td>\n    </tr>\n    <tr>\n      <th>80167</th>\n      <td>null</td>\n      <td>2</td>\n    </tr>\n    <tr>\n      <th>80168</th>\n      <td>null</td>\n      <td>2</td>\n    </tr>\n    <tr>\n      <th>80169</th>\n      <td>null</td>\n      <td>2</td>\n    </tr>\n    <tr>\n      <th>80170</th>\n      <td>null</td>\n      <td>4</td>\n    </tr>\n  </tbody>\n</table>\n<p>80171 rows × 2 columns</p>\n</div>"
     },
     "execution_count": 24,
     "metadata": {},
     "output_type": "execute_result"
    }
   ],
   "source": [
    "step2 = step1.join(course_offerings, step1.course_offering_uuid == course_offerings.uuid, how='left').select(\n",
    "    ['name', 'sum(f_count)']).orderBy(\"name\", \"sum(f_count)\")\n",
    "step2.toPandas()"
   ]
  },
  {
   "cell_type": "markdown",
   "metadata": {},
   "source": [
    "## Challenge Question: Automating data entry errors\n",
    "\n",
    "We see in the dataframe below that there are several typos of various animal names. If this was a large database of several millions of records, correcting these errors would be way too labor intensive. How can we automate correcting these errors?\n",
    "\n",
    "*Hint: Leven...*"
   ]
  },
  {
   "cell_type": "code",
   "execution_count": 8,
   "metadata": {},
   "outputs": [
    {
     "name": "stdout",
     "output_type": "stream",
     "text": [
      "+------------+---+\n",
      "|      Animal|age|\n",
      "+------------+---+\n",
      "|      Monkey| 10|\n",
      "|      Monkay| 36|\n",
      "|        Mnky|123|\n",
      "|    Elephant| 48|\n",
      "|     Elefant| 16|\n",
      "|    Ellafant|  1|\n",
      "|Hippopotamus| 48|\n",
      "| Hipopotamus| 16|\n",
      "|       Hippo|  1|\n",
      "+------------+---+\n",
      "\n"
     ]
    }
   ],
   "source": [
    "values = [('Monkey', 10), ('Monkay', 36), ('Mnky', 123), \\\n",
    "          ('Elephant', 48), ('Elefant', 16), ('Ellafant', 1), \\\n",
    "          ('Hippopotamus', 48), ('Hipopotamus', 16), ('Hippo', 1)]\n",
    "zoo = spark.createDataFrame(values, ['Animal', 'age'])\n",
    "zoo.show()"
   ]
  },
  {
   "cell_type": "code",
   "execution_count": 14,
   "metadata": {},
   "outputs": [
    {
     "name": "stdout",
     "output_type": "stream",
     "text": [
      "+------------+\n",
      "|       value|\n",
      "+------------+\n",
      "|      Monkey|\n",
      "|    Elephant|\n",
      "|Hippopotamus|\n",
      "+------------+\n",
      "\n"
     ]
    }
   ],
   "source": [
    "# With the levenshtein distance!\n",
    "from pyspark.sql.functions import *\n",
    "from pyspark.sql.types import *\n",
    "\n",
    "# First we create a dataframe with the 3 options we want to choose from\n",
    "options = spark.createDataFrame(['Monkey', 'Elephant', 'Hippopotamus'], StringType())\n",
    "options.show()"
   ]
  },
  {
   "cell_type": "code",
   "execution_count": 16,
   "metadata": {},
   "outputs": [
    {
     "name": "stdout",
     "output_type": "stream",
     "text": [
      "+------------+---+------------+\n",
      "|      Animal|age|       value|\n",
      "+------------+---+------------+\n",
      "|      Monkey| 10|      Monkey|\n",
      "|      Monkay| 36|      Monkey|\n",
      "|        Mnky|123|      Monkey|\n",
      "|    Elephant| 48|    Elephant|\n",
      "|     Elefant| 16|    Elephant|\n",
      "|    Ellafant|  1|    Elephant|\n",
      "|Hippopotamus| 48|Hippopotamus|\n",
      "| Hipopotamus| 16|Hippopotamus|\n",
      "|       Hippo|  1|        null|\n",
      "+------------+---+------------+\n",
      "\n"
     ]
    }
   ],
   "source": [
    "# And then we join the two dataframes together with a condition >5\n",
    "results = zoo.join(options, levenshtein(zoo[\"Animal\"], options[\"value\"]) < 5, 'left')\n",
    "results.show()"
   ]
  },
  {
   "cell_type": "markdown",
   "metadata": {},
   "source": [
    "So we can see here that all of our values were correctly identified except for \"Hippo\" which was just way too different from \"Hippopotamus\" to get correctly identified. So this solution won't work for EVERY case, but we can see here that it did a great job correcting simple gramatical errors. "
   ]
  },
  {
   "cell_type": "markdown",
   "metadata": {},
   "source": [
    "### Great job! "
   ]
  }
 ],
 "metadata": {
  "kernelspec": {
   "display_name": "Python 3",
   "language": "python",
   "name": "python3"
  },
  "language_info": {
   "codemirror_mode": {
    "name": "ipython",
    "version": 3
   },
   "file_extension": ".py",
   "mimetype": "text/x-python",
   "name": "python",
   "nbconvert_exporter": "python",
   "pygments_lexer": "ipython3",
   "version": "3.7.4"
  }
 },
 "nbformat": 4,
 "nbformat_minor": 2
}
