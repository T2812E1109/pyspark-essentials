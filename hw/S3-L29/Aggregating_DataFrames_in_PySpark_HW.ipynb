{
 "cells": [
  {
   "cell_type": "markdown",
   "metadata": {},
   "source": [
    "# Aggregating DataFrames in PySpark HW\n",
    "\n",
    "First let's start up our PySpark instance"
   ]
  },
  {
   "cell_type": "code",
   "execution_count": 1,
   "metadata": {
    "ExecuteTime": {
     "end_time": "2023-05-24T09:13:44.447970600Z",
     "start_time": "2023-05-24T09:13:37.296548900Z"
    }
   },
   "outputs": [
    {
     "data": {
      "text/plain": "<pyspark.sql.session.SparkSession at 0x2478c35f760>",
      "text/html": "\n            <div>\n                <p><b>SparkSession - in-memory</b></p>\n                \n        <div>\n            <p><b>SparkContext</b></p>\n\n            <p><a href=\"http://host.docker.internal:4041\">Spark UI</a></p>\n\n            <dl>\n              <dt>Version</dt>\n                <dd><code>v3.2.4</code></dd>\n              <dt>Master</dt>\n                <dd><code>local[*]</code></dd>\n              <dt>AppName</dt>\n                <dd><code>AggHW</code></dd>\n            </dl>\n        </div>\n        \n            </div>\n        "
     },
     "execution_count": 1,
     "metadata": {},
     "output_type": "execute_result"
    }
   ],
   "source": [
    "import findspark\n",
    "\n",
    "findspark.init()\n",
    "\n",
    "from pyspark.sql import SparkSession\n",
    "from pyspark.sql import types as T\n",
    "from pyspark.sql import functions as F\n",
    "\n",
    "spark = SparkSession.builder.master(\"local[*]\").appName(\"AggHW\").getOrCreate()\n",
    "\n",
    "spark"
   ]
  },
  {
   "cell_type": "markdown",
   "metadata": {},
   "source": [
    "## Read in the dataFrame for this Notebook"
   ]
  },
  {
   "cell_type": "code",
   "execution_count": 3,
   "metadata": {
    "ExecuteTime": {
     "end_time": "2023-05-24T09:14:15.662642800Z",
     "start_time": "2023-05-24T09:14:08.975440600Z"
    }
   },
   "outputs": [],
   "source": [
    "airbnb = spark.read.csv('Datasets/nyc_air_bnb.csv', inferSchema=True, header=True)"
   ]
  },
  {
   "cell_type": "markdown",
   "metadata": {},
   "source": [
    "## About this dataset\n",
    "\n",
    "This dataset describes the listing activity and metrics for Air BNB bookers in NYC, NY for 2019. Each line in the dataset is a booking. \n",
    "\n",
    "**Source:** https://www.kaggle.com/dgomonov/new-york-city-airbnb-open-data/data\n",
    "\n",
    "Let's go ahead and view the first few records of the dataset so we know what we are working with."
   ]
  },
  {
   "cell_type": "code",
   "execution_count": 4,
   "metadata": {
    "ExecuteTime": {
     "end_time": "2023-05-24T09:15:26.848391Z",
     "start_time": "2023-05-24T09:15:25.827106800Z"
    }
   },
   "outputs": [
    {
     "data": {
      "text/plain": "     id                                              name host_id   \n0  2539                Clean & quiet apt home by the park    2787  \\\n1  2595                             Skylit Midtown Castle    2845   \n2  3647               THE VILLAGE OF HARLEM....NEW YORK !    4632   \n3  3831                   Cozy Entire Floor of Brownstone    4869   \n4  5022  Entire Apt: Spacious Studio/Loft by central park    7192   \n\n     host_name neighbourhood_group neighbourhood  latitude  longitude   \n0         John            Brooklyn    Kensington  40.64749  -73.97237  \\\n1     Jennifer           Manhattan       Midtown  40.75362  -73.98377   \n2    Elisabeth           Manhattan        Harlem  40.80902   -73.9419   \n3  LisaRoxanne            Brooklyn  Clinton Hill  40.68514  -73.95976   \n4        Laura           Manhattan   East Harlem  40.79851  -73.94399   \n\n         room_type price minimum_nights number_of_reviews last_review   \n0     Private room   149              1                 9  2018-10-19  \\\n1  Entire home/apt   225              1                45  2019-05-21   \n2     Private room   150              3                 0        None   \n3  Entire home/apt    89              1               270  2019-07-05   \n4  Entire home/apt    80             10                 9  2018-11-19   \n\n  reviews_per_month calculated_host_listings_count  availability_365  \n0              0.21                              6               365  \n1              0.38                              2               355  \n2              None                              1               365  \n3              4.64                              1               194  \n4              0.10                              1                 0  ",
      "text/html": "<div>\n<style scoped>\n    .dataframe tbody tr th:only-of-type {\n        vertical-align: middle;\n    }\n\n    .dataframe tbody tr th {\n        vertical-align: top;\n    }\n\n    .dataframe thead th {\n        text-align: right;\n    }\n</style>\n<table border=\"1\" class=\"dataframe\">\n  <thead>\n    <tr style=\"text-align: right;\">\n      <th></th>\n      <th>id</th>\n      <th>name</th>\n      <th>host_id</th>\n      <th>host_name</th>\n      <th>neighbourhood_group</th>\n      <th>neighbourhood</th>\n      <th>latitude</th>\n      <th>longitude</th>\n      <th>room_type</th>\n      <th>price</th>\n      <th>minimum_nights</th>\n      <th>number_of_reviews</th>\n      <th>last_review</th>\n      <th>reviews_per_month</th>\n      <th>calculated_host_listings_count</th>\n      <th>availability_365</th>\n    </tr>\n  </thead>\n  <tbody>\n    <tr>\n      <th>0</th>\n      <td>2539</td>\n      <td>Clean &amp; quiet apt home by the park</td>\n      <td>2787</td>\n      <td>John</td>\n      <td>Brooklyn</td>\n      <td>Kensington</td>\n      <td>40.64749</td>\n      <td>-73.97237</td>\n      <td>Private room</td>\n      <td>149</td>\n      <td>1</td>\n      <td>9</td>\n      <td>2018-10-19</td>\n      <td>0.21</td>\n      <td>6</td>\n      <td>365</td>\n    </tr>\n    <tr>\n      <th>1</th>\n      <td>2595</td>\n      <td>Skylit Midtown Castle</td>\n      <td>2845</td>\n      <td>Jennifer</td>\n      <td>Manhattan</td>\n      <td>Midtown</td>\n      <td>40.75362</td>\n      <td>-73.98377</td>\n      <td>Entire home/apt</td>\n      <td>225</td>\n      <td>1</td>\n      <td>45</td>\n      <td>2019-05-21</td>\n      <td>0.38</td>\n      <td>2</td>\n      <td>355</td>\n    </tr>\n    <tr>\n      <th>2</th>\n      <td>3647</td>\n      <td>THE VILLAGE OF HARLEM....NEW YORK !</td>\n      <td>4632</td>\n      <td>Elisabeth</td>\n      <td>Manhattan</td>\n      <td>Harlem</td>\n      <td>40.80902</td>\n      <td>-73.9419</td>\n      <td>Private room</td>\n      <td>150</td>\n      <td>3</td>\n      <td>0</td>\n      <td>None</td>\n      <td>None</td>\n      <td>1</td>\n      <td>365</td>\n    </tr>\n    <tr>\n      <th>3</th>\n      <td>3831</td>\n      <td>Cozy Entire Floor of Brownstone</td>\n      <td>4869</td>\n      <td>LisaRoxanne</td>\n      <td>Brooklyn</td>\n      <td>Clinton Hill</td>\n      <td>40.68514</td>\n      <td>-73.95976</td>\n      <td>Entire home/apt</td>\n      <td>89</td>\n      <td>1</td>\n      <td>270</td>\n      <td>2019-07-05</td>\n      <td>4.64</td>\n      <td>1</td>\n      <td>194</td>\n    </tr>\n    <tr>\n      <th>4</th>\n      <td>5022</td>\n      <td>Entire Apt: Spacious Studio/Loft by central park</td>\n      <td>7192</td>\n      <td>Laura</td>\n      <td>Manhattan</td>\n      <td>East Harlem</td>\n      <td>40.79851</td>\n      <td>-73.94399</td>\n      <td>Entire home/apt</td>\n      <td>80</td>\n      <td>10</td>\n      <td>9</td>\n      <td>2018-11-19</td>\n      <td>0.10</td>\n      <td>1</td>\n      <td>0</td>\n    </tr>\n  </tbody>\n</table>\n</div>"
     },
     "execution_count": 4,
     "metadata": {},
     "output_type": "execute_result"
    }
   ],
   "source": [
    "airbnb.limit(5).toPandas()"
   ]
  },
  {
   "cell_type": "markdown",
   "metadata": {},
   "source": [
    "Now print the schema so we can make sure all the variables have the correct types"
   ]
  },
  {
   "cell_type": "code",
   "execution_count": 5,
   "metadata": {
    "ExecuteTime": {
     "end_time": "2023-05-24T09:15:41.564323600Z",
     "start_time": "2023-05-24T09:15:41.494813200Z"
    }
   },
   "outputs": [
    {
     "name": "stdout",
     "output_type": "stream",
     "text": [
      "root\n",
      " |-- id: string (nullable = true)\n",
      " |-- name: string (nullable = true)\n",
      " |-- host_id: string (nullable = true)\n",
      " |-- host_name: string (nullable = true)\n",
      " |-- neighbourhood_group: string (nullable = true)\n",
      " |-- neighbourhood: string (nullable = true)\n",
      " |-- latitude: string (nullable = true)\n",
      " |-- longitude: string (nullable = true)\n",
      " |-- room_type: string (nullable = true)\n",
      " |-- price: string (nullable = true)\n",
      " |-- minimum_nights: string (nullable = true)\n",
      " |-- number_of_reviews: string (nullable = true)\n",
      " |-- last_review: string (nullable = true)\n",
      " |-- reviews_per_month: string (nullable = true)\n",
      " |-- calculated_host_listings_count: string (nullable = true)\n",
      " |-- availability_365: integer (nullable = true)\n",
      "\n"
     ]
    }
   ],
   "source": [
    "airbnb.printSchema()"
   ]
  },
  {
   "cell_type": "markdown",
   "metadata": {},
   "source": [
    "Notice here that some of the columns that are obviously numeric have been incorrectly identified as \"strings\". Let's edit that. Otherwise we cannot aggregate any of the numeric columns."
   ]
  },
  {
   "cell_type": "code",
   "execution_count": 7,
   "metadata": {
    "ExecuteTime": {
     "end_time": "2023-05-24T09:21:43.494831200Z",
     "start_time": "2023-05-24T09:21:43.315230100Z"
    }
   },
   "outputs": [
    {
     "name": "stdout",
     "output_type": "stream",
     "text": [
      "root\n",
      " |-- id: string (nullable = true)\n",
      " |-- name: string (nullable = true)\n",
      " |-- host_id: string (nullable = true)\n",
      " |-- host_name: string (nullable = true)\n",
      " |-- neighbourhood_group: string (nullable = true)\n",
      " |-- neighbourhood: string (nullable = true)\n",
      " |-- latitude: float (nullable = true)\n",
      " |-- longitude: float (nullable = true)\n",
      " |-- room_type: string (nullable = true)\n",
      " |-- price: float (nullable = true)\n",
      " |-- minimum_nights: integer (nullable = true)\n",
      " |-- number_of_reviews: integer (nullable = true)\n",
      " |-- last_review: string (nullable = true)\n",
      " |-- reviews_per_month: float (nullable = true)\n",
      " |-- calculated_host_listings_count: integer (nullable = true)\n",
      " |-- availability_365: integer (nullable = true)\n",
      "\n"
     ]
    }
   ],
   "source": [
    "df = airbnb.withColumn(\n",
    "    \"price\",\n",
    "    F.col(\"price\").cast(T.FloatType())\n",
    ").withColumn(\n",
    "    \"minimum_nights\",\n",
    "    F.col(\"minimum_nights\").cast(T.IntegerType())\n",
    ").withColumn(\n",
    "    \"number_of_reviews\",\n",
    "    F.col(\"number_of_reviews\").cast(T.IntegerType())\n",
    ").withColumn(\n",
    "    \"reviews_per_month\",\n",
    "    F.col(\"reviews_per_month\").cast(T.FloatType())\n",
    ").withColumn(\n",
    "    \"calculated_host_listings_count\",\n",
    "    F.col(\"calculated_host_listings_count\").cast(T.IntegerType())\n",
    ")\n",
    "\n",
    "df.printSchema()"
   ]
  },
  {
   "cell_type": "markdown",
   "metadata": {},
   "source": [
    "### Alright now we are ready to dig in!\n",
    "\n",
    "\n",
    "### 1. How many rows are in this dataset?"
   ]
  },
  {
   "cell_type": "code",
   "execution_count": 9,
   "metadata": {
    "ExecuteTime": {
     "end_time": "2023-05-24T09:22:09.350496400Z",
     "start_time": "2023-05-24T09:22:08.430609300Z"
    }
   },
   "outputs": [
    {
     "data": {
      "text/plain": "49079"
     },
     "execution_count": 9,
     "metadata": {},
     "output_type": "execute_result"
    }
   ],
   "source": [
    "df.count()"
   ]
  },
  {
   "cell_type": "markdown",
   "metadata": {},
   "source": [
    "### 2. How many total reviews does each host have?"
   ]
  },
  {
   "cell_type": "code",
   "execution_count": 38,
   "metadata": {
    "ExecuteTime": {
     "end_time": "2023-05-24T10:01:24.765439400Z",
     "start_time": "2023-05-24T10:01:23.435781600Z"
    }
   },
   "outputs": [
    {
     "data": {
      "text/plain": "         host_id                       host_name  number_of_reviews\n0       37312959                            Maya             2273.0\n1         344035  Brooklyn&   Breakfast    -Len-             2205.0\n2       26432133                        Danielle             2017.0\n3       35524316                    Yasu & Akiko             1971.0\n4       40176101                           Brady             1818.0\n...          ...                             ...                ...\n37485       Bozo                       Manhattan                NaN\n37486    Joselyn                          Queens                NaN\n37487     Anting                        Brooklyn                NaN\n37488    Cederna                          Queens                NaN\n37489  Alizaveta                        Brooklyn                NaN\n\n[37490 rows x 3 columns]",
      "text/html": "<div>\n<style scoped>\n    .dataframe tbody tr th:only-of-type {\n        vertical-align: middle;\n    }\n\n    .dataframe tbody tr th {\n        vertical-align: top;\n    }\n\n    .dataframe thead th {\n        text-align: right;\n    }\n</style>\n<table border=\"1\" class=\"dataframe\">\n  <thead>\n    <tr style=\"text-align: right;\">\n      <th></th>\n      <th>host_id</th>\n      <th>host_name</th>\n      <th>number_of_reviews</th>\n    </tr>\n  </thead>\n  <tbody>\n    <tr>\n      <th>0</th>\n      <td>37312959</td>\n      <td>Maya</td>\n      <td>2273.0</td>\n    </tr>\n    <tr>\n      <th>1</th>\n      <td>344035</td>\n      <td>Brooklyn&amp;   Breakfast    -Len-</td>\n      <td>2205.0</td>\n    </tr>\n    <tr>\n      <th>2</th>\n      <td>26432133</td>\n      <td>Danielle</td>\n      <td>2017.0</td>\n    </tr>\n    <tr>\n      <th>3</th>\n      <td>35524316</td>\n      <td>Yasu &amp; Akiko</td>\n      <td>1971.0</td>\n    </tr>\n    <tr>\n      <th>4</th>\n      <td>40176101</td>\n      <td>Brady</td>\n      <td>1818.0</td>\n    </tr>\n    <tr>\n      <th>...</th>\n      <td>...</td>\n      <td>...</td>\n      <td>...</td>\n    </tr>\n    <tr>\n      <th>37485</th>\n      <td>Bozo</td>\n      <td>Manhattan</td>\n      <td>NaN</td>\n    </tr>\n    <tr>\n      <th>37486</th>\n      <td>Joselyn</td>\n      <td>Queens</td>\n      <td>NaN</td>\n    </tr>\n    <tr>\n      <th>37487</th>\n      <td>Anting</td>\n      <td>Brooklyn</td>\n      <td>NaN</td>\n    </tr>\n    <tr>\n      <th>37488</th>\n      <td>Cederna</td>\n      <td>Queens</td>\n      <td>NaN</td>\n    </tr>\n    <tr>\n      <th>37489</th>\n      <td>Alizaveta</td>\n      <td>Brooklyn</td>\n      <td>NaN</td>\n    </tr>\n  </tbody>\n</table>\n<p>37490 rows × 3 columns</p>\n</div>"
     },
     "execution_count": 38,
     "metadata": {},
     "output_type": "execute_result"
    }
   ],
   "source": [
    "(\n",
    "    df.\n",
    "    groupBy(\n",
    "        \"host_id\",\n",
    "        \"host_name\"\n",
    "    )\n",
    "    .agg(\n",
    "        F.sum(\"number_of_reviews\").alias(\"number_of_reviews\")\n",
    "    )\n",
    "    .orderBy(\n",
    "        F.col(\"number_of_reviews\").desc()\n",
    "    )\n",
    "    .toPandas()\n",
    ")"
   ]
  },
  {
   "cell_type": "markdown",
   "metadata": {},
   "source": [
    "### 3. Show the min and max of all the numeric variables in the dataset"
   ]
  },
  {
   "cell_type": "code",
   "execution_count": 16,
   "metadata": {
    "ExecuteTime": {
     "end_time": "2023-05-24T09:32:42.630655600Z",
     "start_time": "2023-05-24T09:32:42.293151100Z"
    }
   },
   "outputs": [
    {
     "data": {
      "text/plain": "  summary      price minimum_nights number_of_reviews reviews_per_month   \n0     min  -74.00828              0                 0               0.0  \\\n1     max    10000.0           1250               629              58.5   \n\n  calculated_host_listings_count availability_365  \n0                              0                0  \n1                            365              365  ",
      "text/html": "<div>\n<style scoped>\n    .dataframe tbody tr th:only-of-type {\n        vertical-align: middle;\n    }\n\n    .dataframe tbody tr th {\n        vertical-align: top;\n    }\n\n    .dataframe thead th {\n        text-align: right;\n    }\n</style>\n<table border=\"1\" class=\"dataframe\">\n  <thead>\n    <tr style=\"text-align: right;\">\n      <th></th>\n      <th>summary</th>\n      <th>price</th>\n      <th>minimum_nights</th>\n      <th>number_of_reviews</th>\n      <th>reviews_per_month</th>\n      <th>calculated_host_listings_count</th>\n      <th>availability_365</th>\n    </tr>\n  </thead>\n  <tbody>\n    <tr>\n      <th>0</th>\n      <td>min</td>\n      <td>-74.00828</td>\n      <td>0</td>\n      <td>0</td>\n      <td>0.0</td>\n      <td>0</td>\n      <td>0</td>\n    </tr>\n    <tr>\n      <th>1</th>\n      <td>max</td>\n      <td>10000.0</td>\n      <td>1250</td>\n      <td>629</td>\n      <td>58.5</td>\n      <td>365</td>\n      <td>365</td>\n    </tr>\n  </tbody>\n</table>\n</div>"
     },
     "execution_count": 16,
     "metadata": {},
     "output_type": "execute_result"
    }
   ],
   "source": [
    "(\n",
    "    df\n",
    "    .select(\n",
    "        \"price\",\n",
    "        \"minimum_nights\",\n",
    "        \"number_of_reviews\",\n",
    "        \"reviews_per_month\",\n",
    "        \"calculated_host_listings_count\",\n",
    "        \"availability_365\"\n",
    "    )\n",
    "    .summary(\n",
    "        \"min\",\n",
    "        \"max\"\n",
    "    )\n",
    "    .toPandas()\n",
    ")"
   ]
  },
  {
   "cell_type": "markdown",
   "metadata": {},
   "source": [
    "### 4. Which host had the highest number of reviews?\n",
    "\n",
    "Only display the top result.\n",
    "\n",
    "Bonus: format the column names"
   ]
  },
  {
   "cell_type": "code",
   "execution_count": 40,
   "metadata": {
    "ExecuteTime": {
     "end_time": "2023-05-24T10:02:23.272110200Z",
     "start_time": "2023-05-24T10:02:22.458021800Z"
    }
   },
   "outputs": [
    {
     "data": {
      "text/plain": "    host_id host_name  number_of_reviews\n0  37312959      Maya               2273",
      "text/html": "<div>\n<style scoped>\n    .dataframe tbody tr th:only-of-type {\n        vertical-align: middle;\n    }\n\n    .dataframe tbody tr th {\n        vertical-align: top;\n    }\n\n    .dataframe thead th {\n        text-align: right;\n    }\n</style>\n<table border=\"1\" class=\"dataframe\">\n  <thead>\n    <tr style=\"text-align: right;\">\n      <th></th>\n      <th>host_id</th>\n      <th>host_name</th>\n      <th>number_of_reviews</th>\n    </tr>\n  </thead>\n  <tbody>\n    <tr>\n      <th>0</th>\n      <td>37312959</td>\n      <td>Maya</td>\n      <td>2273</td>\n    </tr>\n  </tbody>\n</table>\n</div>"
     },
     "execution_count": 40,
     "metadata": {},
     "output_type": "execute_result"
    }
   ],
   "source": [
    "(\n",
    "    df\n",
    "    .groupBy(\n",
    "        \"host_id\",\n",
    "        \"host_name\"\n",
    "    )\n",
    "    .agg(\n",
    "        F.sum(\"number_of_reviews\").alias(\"number_of_reviews\")\n",
    "    )\n",
    "    .orderBy(\n",
    "        F.col(\"number_of_reviews\").desc()\n",
    "    )\n",
    "    .limit(1)\n",
    "    .toPandas()\n",
    ")"
   ]
  },
  {
   "cell_type": "markdown",
   "metadata": {},
   "source": [
    "### 5. On average, how many nights did most hosts specify for a minimum?"
   ]
  },
  {
   "cell_type": "code",
   "execution_count": 41,
   "metadata": {
    "ExecuteTime": {
     "end_time": "2023-05-24T10:03:06.817547500Z",
     "start_time": "2023-05-24T10:03:06.585594700Z"
    }
   },
   "outputs": [
    {
     "data": {
      "text/plain": "   Avg. Min. Nights\n0          7.128613",
      "text/html": "<div>\n<style scoped>\n    .dataframe tbody tr th:only-of-type {\n        vertical-align: middle;\n    }\n\n    .dataframe tbody tr th {\n        vertical-align: top;\n    }\n\n    .dataframe thead th {\n        text-align: right;\n    }\n</style>\n<table border=\"1\" class=\"dataframe\">\n  <thead>\n    <tr style=\"text-align: right;\">\n      <th></th>\n      <th>Avg. Min. Nights</th>\n    </tr>\n  </thead>\n  <tbody>\n    <tr>\n      <th>0</th>\n      <td>7.128613</td>\n    </tr>\n  </tbody>\n</table>\n</div>"
     },
     "execution_count": 41,
     "metadata": {},
     "output_type": "execute_result"
    }
   ],
   "source": [
    "(\n",
    "    df\n",
    "    .agg(\n",
    "        F.avg(\"minimum_nights\").alias(\"Avg. Min. Nights\")\n",
    "    )\n",
    "    .toPandas()\n",
    ")"
   ]
  },
  {
   "cell_type": "markdown",
   "metadata": {},
   "source": [
    "### 6. What is the most expensive neighborhood to stay in on average?\n",
    "\n",
    "Note: only show the one result"
   ]
  },
  {
   "cell_type": "code",
   "execution_count": 43,
   "metadata": {
    "ExecuteTime": {
     "end_time": "2023-05-24T10:04:05.780774400Z",
     "start_time": "2023-05-24T10:04:05.100585200Z"
    }
   },
   "outputs": [
    {
     "data": {
      "text/plain": "    neighbourhood  avg_price\n0  Fort Wadsworth      800.0",
      "text/html": "<div>\n<style scoped>\n    .dataframe tbody tr th:only-of-type {\n        vertical-align: middle;\n    }\n\n    .dataframe tbody tr th {\n        vertical-align: top;\n    }\n\n    .dataframe thead th {\n        text-align: right;\n    }\n</style>\n<table border=\"1\" class=\"dataframe\">\n  <thead>\n    <tr style=\"text-align: right;\">\n      <th></th>\n      <th>neighbourhood</th>\n      <th>avg_price</th>\n    </tr>\n  </thead>\n  <tbody>\n    <tr>\n      <th>0</th>\n      <td>Fort Wadsworth</td>\n      <td>800.0</td>\n    </tr>\n  </tbody>\n</table>\n</div>"
     },
     "execution_count": 43,
     "metadata": {},
     "output_type": "execute_result"
    }
   ],
   "source": [
    "(\n",
    "    df\n",
    "    .select(\n",
    "        \"neighbourhood\",\n",
    "        \"price\"\n",
    "    )\n",
    "    .groupBy(\n",
    "        \"neighbourhood\"\n",
    "    )\n",
    "    .agg(\n",
    "        F.avg(\"price\").alias(\"avg_price\")\n",
    "    )\n",
    "    .orderBy(\n",
    "        F.col(\"avg_price\").desc()\n",
    "    )\n",
    "    .limit(1)\n",
    "    .toPandas()\n",
    ")"
   ]
  },
  {
   "cell_type": "markdown",
   "metadata": {},
   "source": [
    "### 7. Display a two by two table that shows the average prices by room type (private and shared only) and neighborhood group (Manhattan and Brooklyn only)"
   ]
  },
  {
   "cell_type": "code",
   "execution_count": 34,
   "metadata": {
    "ExecuteTime": {
     "end_time": "2023-05-24T09:51:24.235880900Z",
     "start_time": "2023-05-24T09:51:22.809321300Z"
    }
   },
   "outputs": [
    {
     "data": {
      "text/plain": "             id                                               name   host_id   \n0          2539                 Clean & quiet apt home by the park      2787  \\\n1          2595                              Skylit Midtown Castle      2845   \n2          3647                THE VILLAGE OF HARLEM....NEW YORK !      4632   \n3          3831                    Cozy Entire Floor of Brownstone      4869   \n4          5022   Entire Apt: Spacious Studio/Loft by central park      7192   \n...         ...                                                ...       ...   \n49074  36484665    Charming one bedroom - newly renovated rowhouse   8232441   \n49075  36485057      Affordable room in Bushwick/East Williamsburg   6570630   \n49076  36485431            Sunny Studio at Historical Neighborhood  23492952   \n49077  36485609               43rd St. Time Square-cozy single bed  30985759   \n49078  36487245  Trendy duplex in the very heart of Hell's Kitchen  68119814   \n\n           host_name neighbourhood_group       neighbourhood   latitude   \n0               John            Brooklyn          Kensington  40.647491  \\\n1           Jennifer           Manhattan             Midtown  40.753620   \n2          Elisabeth           Manhattan              Harlem  40.809021   \n3        LisaRoxanne            Brooklyn        Clinton Hill  40.685139   \n4              Laura           Manhattan         East Harlem  40.798512   \n...              ...                 ...                 ...        ...   \n49074        Sabrina            Brooklyn  Bedford-Stuyvesant  40.678532   \n49075        Marisol            Brooklyn            Bushwick  40.701839   \n49076  Ilgar & Aysel           Manhattan              Harlem  40.814751   \n49077            Taz           Manhattan      Hell's Kitchen  40.757511   \n49078     Christophe           Manhattan      Hell's Kitchen  40.764042   \n\n       longitude        room_type  price  minimum_nights  number_of_reviews   \n0     -73.972366     Private room  149.0             1.0                9.0  \\\n1     -73.983772  Entire home/apt  225.0             1.0               45.0   \n2     -73.941902     Private room  150.0             3.0                0.0   \n3     -73.959763  Entire home/apt   89.0             1.0              270.0   \n4     -73.943993  Entire home/apt   80.0            10.0                9.0   \n...          ...              ...    ...             ...                ...   \n49074 -73.949951     Private room   70.0             2.0                0.0   \n49075 -73.933167     Private room   40.0             4.0                0.0   \n49076 -73.948669  Entire home/apt  115.0            10.0                0.0   \n49077 -73.991119      Shared room   55.0             1.0                0.0   \n49078 -73.989326     Private room   90.0             7.0                0.0   \n\n      last_review  reviews_per_month  calculated_host_listings_count   \n0      2018-10-19               0.21                             6.0  \\\n1      2019-05-21               0.38                             2.0   \n2            None                NaN                             1.0   \n3      2019-07-05               4.64                             1.0   \n4      2018-11-19               0.10                             1.0   \n...           ...                ...                             ...   \n49074        None                NaN                             2.0   \n49075        None                NaN                             2.0   \n49076        None                NaN                             1.0   \n49077        None                NaN                             6.0   \n49078        None                NaN                             1.0   \n\n       availability_365  \n0                 365.0  \n1                 355.0  \n2                 365.0  \n3                 194.0  \n4                   0.0  \n...                 ...  \n49074               9.0  \n49075              36.0  \n49076              27.0  \n49077               2.0  \n49078              23.0  \n\n[49079 rows x 16 columns]",
      "text/html": "<div>\n<style scoped>\n    .dataframe tbody tr th:only-of-type {\n        vertical-align: middle;\n    }\n\n    .dataframe tbody tr th {\n        vertical-align: top;\n    }\n\n    .dataframe thead th {\n        text-align: right;\n    }\n</style>\n<table border=\"1\" class=\"dataframe\">\n  <thead>\n    <tr style=\"text-align: right;\">\n      <th></th>\n      <th>id</th>\n      <th>name</th>\n      <th>host_id</th>\n      <th>host_name</th>\n      <th>neighbourhood_group</th>\n      <th>neighbourhood</th>\n      <th>latitude</th>\n      <th>longitude</th>\n      <th>room_type</th>\n      <th>price</th>\n      <th>minimum_nights</th>\n      <th>number_of_reviews</th>\n      <th>last_review</th>\n      <th>reviews_per_month</th>\n      <th>calculated_host_listings_count</th>\n      <th>availability_365</th>\n    </tr>\n  </thead>\n  <tbody>\n    <tr>\n      <th>0</th>\n      <td>2539</td>\n      <td>Clean &amp; quiet apt home by the park</td>\n      <td>2787</td>\n      <td>John</td>\n      <td>Brooklyn</td>\n      <td>Kensington</td>\n      <td>40.647491</td>\n      <td>-73.972366</td>\n      <td>Private room</td>\n      <td>149.0</td>\n      <td>1.0</td>\n      <td>9.0</td>\n      <td>2018-10-19</td>\n      <td>0.21</td>\n      <td>6.0</td>\n      <td>365.0</td>\n    </tr>\n    <tr>\n      <th>1</th>\n      <td>2595</td>\n      <td>Skylit Midtown Castle</td>\n      <td>2845</td>\n      <td>Jennifer</td>\n      <td>Manhattan</td>\n      <td>Midtown</td>\n      <td>40.753620</td>\n      <td>-73.983772</td>\n      <td>Entire home/apt</td>\n      <td>225.0</td>\n      <td>1.0</td>\n      <td>45.0</td>\n      <td>2019-05-21</td>\n      <td>0.38</td>\n      <td>2.0</td>\n      <td>355.0</td>\n    </tr>\n    <tr>\n      <th>2</th>\n      <td>3647</td>\n      <td>THE VILLAGE OF HARLEM....NEW YORK !</td>\n      <td>4632</td>\n      <td>Elisabeth</td>\n      <td>Manhattan</td>\n      <td>Harlem</td>\n      <td>40.809021</td>\n      <td>-73.941902</td>\n      <td>Private room</td>\n      <td>150.0</td>\n      <td>3.0</td>\n      <td>0.0</td>\n      <td>None</td>\n      <td>NaN</td>\n      <td>1.0</td>\n      <td>365.0</td>\n    </tr>\n    <tr>\n      <th>3</th>\n      <td>3831</td>\n      <td>Cozy Entire Floor of Brownstone</td>\n      <td>4869</td>\n      <td>LisaRoxanne</td>\n      <td>Brooklyn</td>\n      <td>Clinton Hill</td>\n      <td>40.685139</td>\n      <td>-73.959763</td>\n      <td>Entire home/apt</td>\n      <td>89.0</td>\n      <td>1.0</td>\n      <td>270.0</td>\n      <td>2019-07-05</td>\n      <td>4.64</td>\n      <td>1.0</td>\n      <td>194.0</td>\n    </tr>\n    <tr>\n      <th>4</th>\n      <td>5022</td>\n      <td>Entire Apt: Spacious Studio/Loft by central park</td>\n      <td>7192</td>\n      <td>Laura</td>\n      <td>Manhattan</td>\n      <td>East Harlem</td>\n      <td>40.798512</td>\n      <td>-73.943993</td>\n      <td>Entire home/apt</td>\n      <td>80.0</td>\n      <td>10.0</td>\n      <td>9.0</td>\n      <td>2018-11-19</td>\n      <td>0.10</td>\n      <td>1.0</td>\n      <td>0.0</td>\n    </tr>\n    <tr>\n      <th>...</th>\n      <td>...</td>\n      <td>...</td>\n      <td>...</td>\n      <td>...</td>\n      <td>...</td>\n      <td>...</td>\n      <td>...</td>\n      <td>...</td>\n      <td>...</td>\n      <td>...</td>\n      <td>...</td>\n      <td>...</td>\n      <td>...</td>\n      <td>...</td>\n      <td>...</td>\n      <td>...</td>\n    </tr>\n    <tr>\n      <th>49074</th>\n      <td>36484665</td>\n      <td>Charming one bedroom - newly renovated rowhouse</td>\n      <td>8232441</td>\n      <td>Sabrina</td>\n      <td>Brooklyn</td>\n      <td>Bedford-Stuyvesant</td>\n      <td>40.678532</td>\n      <td>-73.949951</td>\n      <td>Private room</td>\n      <td>70.0</td>\n      <td>2.0</td>\n      <td>0.0</td>\n      <td>None</td>\n      <td>NaN</td>\n      <td>2.0</td>\n      <td>9.0</td>\n    </tr>\n    <tr>\n      <th>49075</th>\n      <td>36485057</td>\n      <td>Affordable room in Bushwick/East Williamsburg</td>\n      <td>6570630</td>\n      <td>Marisol</td>\n      <td>Brooklyn</td>\n      <td>Bushwick</td>\n      <td>40.701839</td>\n      <td>-73.933167</td>\n      <td>Private room</td>\n      <td>40.0</td>\n      <td>4.0</td>\n      <td>0.0</td>\n      <td>None</td>\n      <td>NaN</td>\n      <td>2.0</td>\n      <td>36.0</td>\n    </tr>\n    <tr>\n      <th>49076</th>\n      <td>36485431</td>\n      <td>Sunny Studio at Historical Neighborhood</td>\n      <td>23492952</td>\n      <td>Ilgar &amp; Aysel</td>\n      <td>Manhattan</td>\n      <td>Harlem</td>\n      <td>40.814751</td>\n      <td>-73.948669</td>\n      <td>Entire home/apt</td>\n      <td>115.0</td>\n      <td>10.0</td>\n      <td>0.0</td>\n      <td>None</td>\n      <td>NaN</td>\n      <td>1.0</td>\n      <td>27.0</td>\n    </tr>\n    <tr>\n      <th>49077</th>\n      <td>36485609</td>\n      <td>43rd St. Time Square-cozy single bed</td>\n      <td>30985759</td>\n      <td>Taz</td>\n      <td>Manhattan</td>\n      <td>Hell's Kitchen</td>\n      <td>40.757511</td>\n      <td>-73.991119</td>\n      <td>Shared room</td>\n      <td>55.0</td>\n      <td>1.0</td>\n      <td>0.0</td>\n      <td>None</td>\n      <td>NaN</td>\n      <td>6.0</td>\n      <td>2.0</td>\n    </tr>\n    <tr>\n      <th>49078</th>\n      <td>36487245</td>\n      <td>Trendy duplex in the very heart of Hell's Kitchen</td>\n      <td>68119814</td>\n      <td>Christophe</td>\n      <td>Manhattan</td>\n      <td>Hell's Kitchen</td>\n      <td>40.764042</td>\n      <td>-73.989326</td>\n      <td>Private room</td>\n      <td>90.0</td>\n      <td>7.0</td>\n      <td>0.0</td>\n      <td>None</td>\n      <td>NaN</td>\n      <td>1.0</td>\n      <td>23.0</td>\n    </tr>\n  </tbody>\n</table>\n<p>49079 rows × 16 columns</p>\n</div>"
     },
     "execution_count": 34,
     "metadata": {},
     "output_type": "execute_result"
    }
   ],
   "source": [
    "df.toPandas()"
   ]
  },
  {
   "cell_type": "markdown",
   "metadata": {},
   "source": [
    "### Alright that's all folks!\n",
    "\n",
    "### Great job!"
   ]
  },
  {
   "cell_type": "code",
   "execution_count": 44,
   "metadata": {
    "ExecuteTime": {
     "end_time": "2023-05-24T10:05:11.896249200Z",
     "start_time": "2023-05-24T10:05:11.062618400Z"
    }
   },
   "outputs": [
    {
     "data": {
      "text/plain": "  neighbourhood_group  Private room  Shared room\n0            Brooklyn     76.472340    50.527845\n1           Manhattan    116.054003    89.069038",
      "text/html": "<div>\n<style scoped>\n    .dataframe tbody tr th:only-of-type {\n        vertical-align: middle;\n    }\n\n    .dataframe tbody tr th {\n        vertical-align: top;\n    }\n\n    .dataframe thead th {\n        text-align: right;\n    }\n</style>\n<table border=\"1\" class=\"dataframe\">\n  <thead>\n    <tr style=\"text-align: right;\">\n      <th></th>\n      <th>neighbourhood_group</th>\n      <th>Private room</th>\n      <th>Shared room</th>\n    </tr>\n  </thead>\n  <tbody>\n    <tr>\n      <th>0</th>\n      <td>Brooklyn</td>\n      <td>76.472340</td>\n      <td>50.527845</td>\n    </tr>\n    <tr>\n      <th>1</th>\n      <td>Manhattan</td>\n      <td>116.054003</td>\n      <td>89.069038</td>\n    </tr>\n  </tbody>\n</table>\n</div>"
     },
     "execution_count": 44,
     "metadata": {},
     "output_type": "execute_result"
    }
   ],
   "source": [
    "(\n",
    "    df\n",
    "    .groupBy(\n",
    "        \"neighbourhood_group\"\n",
    "    )\n",
    "    .pivot(\n",
    "        pivot_col=\"room_type\",\n",
    "        values=[\"Private room\", \"Shared room\"]\n",
    "    )\n",
    "    .agg(\n",
    "        F.avg(\"price\")\n",
    "    )\n",
    "    .where(\n",
    "        F.col(\"neighbourhood_group\").isin(\n",
    "            \"Manhattan\", \"Brooklyn\"\n",
    "        )\n",
    "    )\n",
    "    .toPandas()\n",
    "\n",
    ")"
   ]
  },
  {
   "cell_type": "code",
   "execution_count": null,
   "outputs": [],
   "source": [],
   "metadata": {
    "collapsed": false
   }
  }
 ],
 "metadata": {
  "kernelspec": {
   "display_name": "Python 3",
   "language": "python",
   "name": "python3"
  },
  "language_info": {
   "codemirror_mode": {
    "name": "ipython",
    "version": 3
   },
   "file_extension": ".py",
   "mimetype": "text/x-python",
   "name": "python",
   "nbconvert_exporter": "python",
   "pygments_lexer": "ipython3",
   "version": "3.7.4"
  }
 },
 "nbformat": 4,
 "nbformat_minor": 2
}
