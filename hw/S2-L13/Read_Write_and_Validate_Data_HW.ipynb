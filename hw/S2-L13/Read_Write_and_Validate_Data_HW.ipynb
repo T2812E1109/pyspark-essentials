{
 "cells": [
  {
   "cell_type": "markdown",
   "metadata": {},
   "source": [
    "# Reading, Writing and Validating Data in PySpark HW\n",
    "\n",
    "Welcome to your first coding homework assignment in PySpark! I hope you enjoyed the lecture on Reading, Writing and Validating dataframes. Now it's time to put what you've learned into action! \n",
    "\n",
    "I've included several instructions below to help guide you through this homework assignment which I hope will get you feeling even comfortable reading, writing and validating dataframes. If you get stuck at any point, feel free to jump to the next lecture where I will guide you through my solutions to the HW assignment. \n",
    "\n",
    "Have fun!\n",
    "\n",
    "Let's dig right in!\n",
    "\n",
    "\n",
    "## But first things first.....\n",
    "We need to always begin every Spark session by creating a Spark instance. Let's go ahead and use the method we learned in the lecture in the cell below. Also see if you can remember how to open the Spark UI (using a link that automatically guides you there). "
   ]
  },
  {
   "cell_type": "code",
   "execution_count": 9,
   "metadata": {
    "ExecuteTime": {
     "end_time": "2023-05-22T09:20:29.906481700Z",
     "start_time": "2023-05-22T09:20:29.874807700Z"
    }
   },
   "outputs": [
    {
     "data": {
      "text/plain": "<pyspark.sql.session.SparkSession at 0x2b619d174c0>",
      "text/html": "\n            <div>\n                <p><b>SparkSession - in-memory</b></p>\n                \n        <div>\n            <p><b>SparkContext</b></p>\n\n            <p><a href=\"http://host.docker.internal:4041\">Spark UI</a></p>\n\n            <dl>\n              <dt>Version</dt>\n                <dd><code>v3.2.4</code></dd>\n              <dt>Master</dt>\n                <dd><code>local</code></dd>\n              <dt>AppName</dt>\n                <dd><code>ReadingWritingAndValidatingData</code></dd>\n            </dl>\n        </div>\n        \n            </div>\n        "
     },
     "execution_count": 9,
     "metadata": {},
     "output_type": "execute_result"
    }
   ],
   "source": [
    "import findspark\n",
    "\n",
    "findspark.init()\n",
    "\n",
    "from pyspark.sql import SparkSession\n",
    "from pyspark.sql.types import *\n",
    "\n",
    "spark = SparkSession.builder.master(\"local\").appName(\"ReadingWritingAndValidatingData\").getOrCreate()\n",
    "\n",
    "spark"
   ]
  },
  {
   "cell_type": "markdown",
   "metadata": {},
   "source": [
    "## Next let's start by reading a basic csv dataset\n",
    "\n",
    "Download the pga_tour_historical dataset that is attached to this lecture and save it whatever folder you want, then read it in. \n",
    "\n",
    "**Data Source:** https://www.kaggle.com/bradklassen/pga-tour-20102018-data\n",
    "\n",
    "Rememer to try letting Spark infer the header and infer the Schema types!"
   ]
  },
  {
   "cell_type": "code",
   "execution_count": 12,
   "metadata": {
    "ExecuteTime": {
     "end_time": "2023-05-22T09:21:33.367734400Z",
     "start_time": "2023-05-22T09:21:33.192952600Z"
    }
   },
   "outputs": [
    {
     "name": "stdout",
     "output_type": "stream",
     "text": [
      "root\n",
      " |-- Player Name: string (nullable = true)\n",
      " |-- Season: integer (nullable = true)\n",
      " |-- Statistic: string (nullable = true)\n",
      " |-- Variable: string (nullable = true)\n",
      " |-- Value: integer (nullable = true)\n",
      "\n",
      "+---------------+------+----------------+---------------------------+-----+\n",
      "|Player Name    |Season|Statistic       |Variable                   |Value|\n",
      "+---------------+------+----------------+---------------------------+-----+\n",
      "|Robert Garrigus|2010  |Driving Distance|Driving Distance - (ROUNDS)|71   |\n",
      "|Bubba Watson   |2010  |Driving Distance|Driving Distance - (ROUNDS)|77   |\n",
      "|Dustin Johnson |2010  |Driving Distance|Driving Distance - (ROUNDS)|83   |\n",
      "|Brett Wetterich|2010  |Driving Distance|Driving Distance - (ROUNDS)|54   |\n",
      "|J.B. Holmes    |2010  |Driving Distance|Driving Distance - (ROUNDS)|100  |\n",
      "+---------------+------+----------------+---------------------------+-----+\n",
      "only showing top 5 rows\n",
      "\n"
     ]
    }
   ],
   "source": [
    "pga_tour_historical_path = r\"datasets/pga_tour_historical.csv\"\n",
    "\n",
    "fields = [\n",
    "    StructField(\"Player Name\", StringType(), True),\n",
    "    StructField(\"Season\", IntegerType(), True),\n",
    "    StructField(\"Statistic\", StringType(), True),\n",
    "    StructField(\"Variable\", StringType(), True),\n",
    "    StructField(\"Value\", IntegerType(), True),\n",
    "]\n",
    "\n",
    "df = spark.read.csv(\n",
    "    path=pga_tour_historical_path,\n",
    "    sep=\",\",\n",
    "    header=True,\n",
    "    schema=StructType(fields),\n",
    ")\n",
    "\n",
    "df.printSchema()\n",
    "\n",
    "df.show(n=5, truncate=False)"
   ]
  },
  {
   "cell_type": "markdown",
   "metadata": {},
   "source": [
    "## 1. View first 5 lines of dataframe\n",
    "First generate a view of the first 5 lines of the dataframe to get an idea of what is inside. We went over two ways of doing this... see if you can remember BOTH ways. "
   ]
  },
  {
   "cell_type": "code",
   "execution_count": 13,
   "metadata": {
    "ExecuteTime": {
     "end_time": "2023-05-22T09:22:20.693950300Z",
     "start_time": "2023-05-22T09:22:19.734062700Z"
    }
   },
   "outputs": [
    {
     "name": "stdout",
     "output_type": "stream",
     "text": [
      "+---------------+------+----------------+---------------------------+-----+\n",
      "|Player Name    |Season|Statistic       |Variable                   |Value|\n",
      "+---------------+------+----------------+---------------------------+-----+\n",
      "|Robert Garrigus|2010  |Driving Distance|Driving Distance - (ROUNDS)|71   |\n",
      "|Bubba Watson   |2010  |Driving Distance|Driving Distance - (ROUNDS)|77   |\n",
      "|Dustin Johnson |2010  |Driving Distance|Driving Distance - (ROUNDS)|83   |\n",
      "|Brett Wetterich|2010  |Driving Distance|Driving Distance - (ROUNDS)|54   |\n",
      "|J.B. Holmes    |2010  |Driving Distance|Driving Distance - (ROUNDS)|100  |\n",
      "+---------------+------+----------------+---------------------------+-----+\n",
      "only showing top 5 rows\n",
      "\n"
     ]
    },
    {
     "data": {
      "text/plain": "       Player Name  Season         Statistic                     Variable   \n0  Robert Garrigus    2010  Driving Distance  Driving Distance - (ROUNDS)  \\\n1     Bubba Watson    2010  Driving Distance  Driving Distance - (ROUNDS)   \n2   Dustin Johnson    2010  Driving Distance  Driving Distance - (ROUNDS)   \n3  Brett Wetterich    2010  Driving Distance  Driving Distance - (ROUNDS)   \n4      J.B. Holmes    2010  Driving Distance  Driving Distance - (ROUNDS)   \n\n   Value  \n0     71  \n1     77  \n2     83  \n3     54  \n4    100  ",
      "text/html": "<div>\n<style scoped>\n    .dataframe tbody tr th:only-of-type {\n        vertical-align: middle;\n    }\n\n    .dataframe tbody tr th {\n        vertical-align: top;\n    }\n\n    .dataframe thead th {\n        text-align: right;\n    }\n</style>\n<table border=\"1\" class=\"dataframe\">\n  <thead>\n    <tr style=\"text-align: right;\">\n      <th></th>\n      <th>Player Name</th>\n      <th>Season</th>\n      <th>Statistic</th>\n      <th>Variable</th>\n      <th>Value</th>\n    </tr>\n  </thead>\n  <tbody>\n    <tr>\n      <th>0</th>\n      <td>Robert Garrigus</td>\n      <td>2010</td>\n      <td>Driving Distance</td>\n      <td>Driving Distance - (ROUNDS)</td>\n      <td>71</td>\n    </tr>\n    <tr>\n      <th>1</th>\n      <td>Bubba Watson</td>\n      <td>2010</td>\n      <td>Driving Distance</td>\n      <td>Driving Distance - (ROUNDS)</td>\n      <td>77</td>\n    </tr>\n    <tr>\n      <th>2</th>\n      <td>Dustin Johnson</td>\n      <td>2010</td>\n      <td>Driving Distance</td>\n      <td>Driving Distance - (ROUNDS)</td>\n      <td>83</td>\n    </tr>\n    <tr>\n      <th>3</th>\n      <td>Brett Wetterich</td>\n      <td>2010</td>\n      <td>Driving Distance</td>\n      <td>Driving Distance - (ROUNDS)</td>\n      <td>54</td>\n    </tr>\n    <tr>\n      <th>4</th>\n      <td>J.B. Holmes</td>\n      <td>2010</td>\n      <td>Driving Distance</td>\n      <td>Driving Distance - (ROUNDS)</td>\n      <td>100</td>\n    </tr>\n  </tbody>\n</table>\n</div>"
     },
     "execution_count": 13,
     "metadata": {},
     "output_type": "execute_result"
    }
   ],
   "source": [
    "df.show(n=5, truncate=False)\n",
    "df.limit(5).toPandas()"
   ]
  },
  {
   "cell_type": "markdown",
   "metadata": {},
   "source": [
    "## 2. Print the schema details\n",
    "\n",
    "Now print the details of the dataframes schema that Spark infered to ensure that it was infered correctly. Sometimes it is not infered correctly, so we need to watch out!"
   ]
  },
  {
   "cell_type": "code",
   "execution_count": 14,
   "metadata": {
    "ExecuteTime": {
     "end_time": "2023-05-22T09:22:42.064973900Z",
     "start_time": "2023-05-22T09:22:41.950480300Z"
    }
   },
   "outputs": [
    {
     "name": "stdout",
     "output_type": "stream",
     "text": [
      "root\n",
      " |-- Player Name: string (nullable = true)\n",
      " |-- Season: integer (nullable = true)\n",
      " |-- Statistic: string (nullable = true)\n",
      " |-- Variable: string (nullable = true)\n",
      " |-- Value: integer (nullable = true)\n",
      "\n"
     ]
    }
   ],
   "source": [
    "df.printSchema()"
   ]
  },
  {
   "cell_type": "markdown",
   "metadata": {},
   "source": [
    "## 3. Edit the schema during the read in\n",
    "\n",
    "We can see from the output above that Spark did not correctly infer that the \"value\" column was an integer value. Let's try specifying the schema this time to let spark know what the schema should be.\n",
    "\n",
    "Here is a link to see a list of PySpark data types in case you need it (also attached to the lecture): \n",
    "https://spark.apache.org/docs/latest/sql-ref-datatypes.html"
   ]
  },
  {
   "cell_type": "code",
   "execution_count": null,
   "metadata": {},
   "outputs": [],
   "source": [
    "# Done above"
   ]
  },
  {
   "cell_type": "markdown",
   "metadata": {},
   "source": [
    "## 4. Generate summary statistics for only one variable\n",
    "\n",
    "See if you can generate summary statistics for only the \"Value\" column using the .describe function\n",
    "\n",
    "(count, mean, stddev, min, max) "
   ]
  },
  {
   "cell_type": "code",
   "execution_count": 15,
   "metadata": {
    "ExecuteTime": {
     "end_time": "2023-05-22T09:24:01.053726900Z",
     "start_time": "2023-05-22T09:23:51.312008Z"
    }
   },
   "outputs": [
    {
     "name": "stdout",
     "output_type": "stream",
     "text": [
      "+-------+------------------+\n",
      "|summary|             Value|\n",
      "+-------+------------------+\n",
      "|  count|           1657247|\n",
      "|   mean|12494.388998743096|\n",
      "| stddev|157274.75673570775|\n",
      "|    min|              -178|\n",
      "|    max|           3564954|\n",
      "+-------+------------------+\n",
      "\n"
     ]
    }
   ],
   "source": [
    "df.select(\"Value\").describe().show()"
   ]
  },
  {
   "cell_type": "markdown",
   "metadata": {},
   "source": [
    "## 5. Generate summary statistics for TWO variables\n",
    "Now try to generate ONLY the count min and max for BOTH the \"Value\" and \"Season\" variable using the select. You can't use the .describe function for this one but see if you can remember which function you CAN use. "
   ]
  },
  {
   "cell_type": "code",
   "execution_count": 16,
   "metadata": {
    "ExecuteTime": {
     "end_time": "2023-05-22T09:24:52.648479300Z",
     "start_time": "2023-05-22T09:24:40.059326200Z"
    }
   },
   "outputs": [
    {
     "name": "stdout",
     "output_type": "stream",
     "text": [
      "+-------+------------------+-----------------+\n",
      "|summary|             Value|           Season|\n",
      "+-------+------------------+-----------------+\n",
      "|  count|           1657247|          2740403|\n",
      "|   mean|12494.388998743096|2013.973479083186|\n",
      "| stddev|157274.75673570775| 2.60705011549318|\n",
      "|    min|              -178|             2010|\n",
      "|    25%|                24|             2012|\n",
      "|    50%|                71|             2014|\n",
      "|    75%|               101|             2016|\n",
      "|    max|           3564954|             2018|\n",
      "+-------+------------------+-----------------+\n",
      "\n"
     ]
    }
   ],
   "source": [
    "df.select(\"Value\", \"Season\").summary().show()"
   ]
  },
  {
   "cell_type": "markdown",
   "metadata": {},
   "source": [
    "## 6. Write a parquet file\n",
    "\n",
    "Now try writing a parquet file (not partitioned) from the pga dataset. But first create a new dataframe containing ONLY the the \"Season\" and \"Value\" fields (using the \"select command you used in the question above) and write a parquet file partitioned by \"Season\". This is a bit of a challenge aimed at getting you ready for material that will be covered later on in the course. Don't feel bad if you can't figure it out.\n",
    "\n",
    "*Note that if any of your variable names contain spaces, spark will produce an error message with this call. That is why we are selecting ONLY the \"Season\" and \"Value\" fields. Ideally we should renamed those columns but we haven't gotten to that yet in this course but we will soon!*"
   ]
  },
  {
   "cell_type": "code",
   "execution_count": 17,
   "metadata": {
    "ExecuteTime": {
     "end_time": "2023-05-22T09:28:46.246614500Z",
     "start_time": "2023-05-22T09:28:32.879732800Z"
    }
   },
   "outputs": [],
   "source": [
    "season_value_df = df.select(\n",
    "    \"Season\",\n",
    "    \"Value\",\n",
    ")\n",
    "\n",
    "season_value_df.write.partitionBy(\"Season\").parquet(r\"output1\")"
   ]
  },
  {
   "cell_type": "markdown",
   "metadata": {},
   "source": [
    "## 7. Write a partioned parquet file\n",
    "\n",
    "You will need to use the same limited dataframe that you created in the previous question to accomplish this task as well. "
   ]
  },
  {
   "cell_type": "code",
   "execution_count": null,
   "metadata": {},
   "outputs": [],
   "source": [
    "# Done above"
   ]
  },
  {
   "cell_type": "markdown",
   "metadata": {},
   "source": [
    "## 8. Read in a partitioned parquet file\n",
    "\n",
    "Now try reading in the partitioned parquet file you just created above. "
   ]
  },
  {
   "cell_type": "code",
   "execution_count": 18,
   "metadata": {
    "ExecuteTime": {
     "end_time": "2023-05-22T09:30:57.535207900Z",
     "start_time": "2023-05-22T09:30:56.788619Z"
    }
   },
   "outputs": [
    {
     "name": "stdout",
     "output_type": "stream",
     "text": [
      "+-----+------+\n",
      "|Value|Season|\n",
      "+-----+------+\n",
      "|   71|  2010|\n",
      "|   77|  2010|\n",
      "|   83|  2010|\n",
      "|   54|  2010|\n",
      "|  100|  2010|\n",
      "|   63|  2010|\n",
      "|   88|  2010|\n",
      "|   64|  2010|\n",
      "|   64|  2010|\n",
      "|   92|  2010|\n",
      "|   75|  2010|\n",
      "|   54|  2010|\n",
      "|   76|  2010|\n",
      "|   94|  2010|\n",
      "|   82|  2010|\n",
      "|   85|  2010|\n",
      "|   79|  2010|\n",
      "|   89|  2010|\n",
      "|   88|  2010|\n",
      "|   91|  2010|\n",
      "+-----+------+\n",
      "only showing top 20 rows\n",
      "\n"
     ]
    }
   ],
   "source": [
    "rdf = spark.read.parquet(\n",
    "    r\"output1\",\n",
    ")\n",
    "\n",
    "rdf.show()"
   ]
  },
  {
   "cell_type": "markdown",
   "metadata": {},
   "source": [
    "## 9. Reading in a set of paritioned parquet files\n",
    "\n",
    "Now try only reading Seasons 2010, 2011 and 2012."
   ]
  },
  {
   "cell_type": "code",
   "execution_count": 24,
   "metadata": {
    "ExecuteTime": {
     "end_time": "2023-05-22T09:40:49.064288400Z",
     "start_time": "2023-05-22T09:40:48.849729100Z"
    }
   },
   "outputs": [
    {
     "name": "stdout",
     "output_type": "stream",
     "text": [
      "+-----+------+\n",
      "|Value|Season|\n",
      "+-----+------+\n",
      "|   71|  2010|\n",
      "|   77|  2010|\n",
      "|   83|  2010|\n",
      "|   54|  2010|\n",
      "|  100|  2010|\n",
      "|   63|  2010|\n",
      "|   88|  2010|\n",
      "|   64|  2010|\n",
      "|   64|  2010|\n",
      "|   92|  2010|\n",
      "|   75|  2010|\n",
      "|   54|  2010|\n",
      "|   76|  2010|\n",
      "|   94|  2010|\n",
      "|   82|  2010|\n",
      "|   85|  2010|\n",
      "|   79|  2010|\n",
      "|   89|  2010|\n",
      "|   88|  2010|\n",
      "|   91|  2010|\n",
      "+-----+------+\n",
      "only showing top 20 rows\n",
      "\n"
     ]
    }
   ],
   "source": [
    "rdf101112 = spark.read.options(**{\n",
    "    \"basePath\": r\"output1/\",\n",
    "}).parquet(\n",
    "    r\"output1/Season=2010\",\n",
    "    r\"output1/Season=2011\",\n",
    "    r\"output1/Season=2012\",\n",
    ")\n",
    "\n",
    "rdf101112.show()"
   ]
  },
  {
   "cell_type": "markdown",
   "metadata": {},
   "source": [
    "## 10. Create your own dataframe\n",
    "\n",
    "Try creating your own dataframe below using PySparks *.createDataFrame* function. See if you can make one that contains 4 variables and at least 3 rows. \n",
    "\n",
    "Let's see how creative you can get on the content of the dataframe :)"
   ]
  },
  {
   "cell_type": "code",
   "execution_count": 25,
   "metadata": {
    "ExecuteTime": {
     "end_time": "2023-05-22T09:41:16.960600400Z",
     "start_time": "2023-05-22T09:41:16.010809400Z"
    }
   },
   "outputs": [
    {
     "name": "stdout",
     "output_type": "stream",
     "text": [
      "+---+-----+--------+\n",
      "| id| name|lastname|\n",
      "+---+-----+--------+\n",
      "|  1|Jaime|  Martín|\n",
      "|  2|Mario|  Martín|\n",
      "|  3|Tomás| Rodenas|\n",
      "+---+-----+--------+\n",
      "\n"
     ]
    }
   ],
   "source": [
    "content = [\n",
    "    (1, \"Jaime\", \"Martín\"),\n",
    "    (2, \"Mario\", \"Martín\"),\n",
    "    (3, \"Tomás\", \"Rodenas\"),\n",
    "]\n",
    "\n",
    "df = spark.createDataFrame(\n",
    "    data=content,\n",
    "    schema=[\"id\", \"name\", \"lastname\"]\n",
    ")\n",
    "\n",
    "df.show()"
   ]
  },
  {
   "cell_type": "markdown",
   "metadata": {},
   "source": [
    "## We're done! Great job!"
   ]
  }
 ],
 "metadata": {
  "kernelspec": {
   "display_name": "Python 3",
   "language": "python",
   "name": "python3"
  },
  "language_info": {
   "codemirror_mode": {
    "name": "ipython",
    "version": 3
   },
   "file_extension": ".py",
   "mimetype": "text/x-python",
   "name": "python",
   "nbconvert_exporter": "python",
   "pygments_lexer": "ipython3",
   "version": "3.7.4"
  }
 },
 "nbformat": 4,
 "nbformat_minor": 2
}
