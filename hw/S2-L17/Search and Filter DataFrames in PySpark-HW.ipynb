{
 "cells": [
  {
   "cell_type": "markdown",
   "metadata": {},
   "source": [
    "# Search and Filter DataFrames in PySpark HW"
   ]
  },
  {
   "cell_type": "markdown",
   "metadata": {},
   "source": [
    "Now it's time to put what you've learn into action with a homework assignment!\n",
    "\n",
    "In case you need it again, here is the link to the documentation for the full list available function in pyspark.sql.functions library:\n",
    "http://spark.apache.org/docs/latest/api/python/pyspark.sql.html#module-pyspark.sql.functions\n",
    "\n",
    "\n",
    "### First set up your Spark Session!\n",
    "Alright so first things first, let's start up our pyspark instance."
   ]
  },
  {
   "cell_type": "code",
   "execution_count": 1,
   "metadata": {
    "ExecuteTime": {
     "end_time": "2023-05-22T10:56:47.820564200Z",
     "start_time": "2023-05-22T10:56:40.248654800Z"
    }
   },
   "outputs": [
    {
     "data": {
      "text/plain": "<pyspark.sql.session.SparkSession at 0x18675b3f700>",
      "text/html": "\n            <div>\n                <p><b>SparkSession - in-memory</b></p>\n                \n        <div>\n            <p><b>SparkContext</b></p>\n\n            <p><a href=\"http://host.docker.internal:4043\">Spark UI</a></p>\n\n            <dl>\n              <dt>Version</dt>\n                <dd><code>v3.2.4</code></dd>\n              <dt>Master</dt>\n                <dd><code>local[*]</code></dd>\n              <dt>AppName</dt>\n                <dd><code>SearchAndFilterHW</code></dd>\n            </dl>\n        </div>\n        \n            </div>\n        "
     },
     "execution_count": 1,
     "metadata": {},
     "output_type": "execute_result"
    }
   ],
   "source": [
    "import findspark\n",
    "\n",
    "findspark.init()\n",
    "\n",
    "from pyspark.sql import SparkSession\n",
    "from pyspark.sql import functions as F\n",
    "\n",
    "spark = SparkSession.builder.appName(\"SearchAndFilterHW\").master(\"local[*]\").getOrCreate()\n",
    "\n",
    "spark"
   ]
  },
  {
   "cell_type": "markdown",
   "metadata": {},
   "source": [
    "## Read in the DataFrame for this Notebook\n",
    "\n",
    "We will be continuing to use the fifa19.csv file for this notebook. Make sure that you are writting the correct path to the file. "
   ]
  },
  {
   "cell_type": "code",
   "execution_count": 3,
   "metadata": {
    "ExecuteTime": {
     "end_time": "2023-05-22T10:57:56.082701300Z",
     "start_time": "2023-05-22T10:57:54.367875700Z"
    }
   },
   "outputs": [
    {
     "name": "stdout",
     "output_type": "stream",
     "text": [
      "root\n",
      " |-- _c0: integer (nullable = true)\n",
      " |-- ID: integer (nullable = true)\n",
      " |-- Name: string (nullable = true)\n",
      " |-- Age: integer (nullable = true)\n",
      " |-- Photo: string (nullable = true)\n",
      " |-- Nationality: string (nullable = true)\n",
      " |-- Flag: string (nullable = true)\n",
      " |-- Overall: integer (nullable = true)\n",
      " |-- Potential: integer (nullable = true)\n",
      " |-- Club: string (nullable = true)\n",
      " |-- Club Logo: string (nullable = true)\n",
      " |-- Value: string (nullable = true)\n",
      " |-- Wage: string (nullable = true)\n",
      " |-- Special: integer (nullable = true)\n",
      " |-- Preferred Foot: string (nullable = true)\n",
      " |-- International Reputation: integer (nullable = true)\n",
      " |-- Weak Foot: integer (nullable = true)\n",
      " |-- Skill Moves: integer (nullable = true)\n",
      " |-- Work Rate: string (nullable = true)\n",
      " |-- Body Type: string (nullable = true)\n",
      " |-- Real Face: string (nullable = true)\n",
      " |-- Position: string (nullable = true)\n",
      " |-- Jersey Number: integer (nullable = true)\n",
      " |-- Joined: string (nullable = true)\n",
      " |-- Loaned From: string (nullable = true)\n",
      " |-- Contract Valid Until: string (nullable = true)\n",
      " |-- Height: string (nullable = true)\n",
      " |-- Weight: string (nullable = true)\n",
      " |-- LS: string (nullable = true)\n",
      " |-- ST: string (nullable = true)\n",
      " |-- RS: string (nullable = true)\n",
      " |-- LW: string (nullable = true)\n",
      " |-- LF: string (nullable = true)\n",
      " |-- CF: string (nullable = true)\n",
      " |-- RF: string (nullable = true)\n",
      " |-- RW: string (nullable = true)\n",
      " |-- LAM: string (nullable = true)\n",
      " |-- CAM: string (nullable = true)\n",
      " |-- RAM: string (nullable = true)\n",
      " |-- LM: string (nullable = true)\n",
      " |-- LCM: string (nullable = true)\n",
      " |-- CM: string (nullable = true)\n",
      " |-- RCM: string (nullable = true)\n",
      " |-- RM: string (nullable = true)\n",
      " |-- LWB: string (nullable = true)\n",
      " |-- LDM: string (nullable = true)\n",
      " |-- CDM: string (nullable = true)\n",
      " |-- RDM: string (nullable = true)\n",
      " |-- RWB: string (nullable = true)\n",
      " |-- LB: string (nullable = true)\n",
      " |-- LCB: string (nullable = true)\n",
      " |-- CB: string (nullable = true)\n",
      " |-- RCB: string (nullable = true)\n",
      " |-- RB: string (nullable = true)\n",
      " |-- Crossing: integer (nullable = true)\n",
      " |-- Finishing: integer (nullable = true)\n",
      " |-- HeadingAccuracy: integer (nullable = true)\n",
      " |-- ShortPassing: integer (nullable = true)\n",
      " |-- Volleys: integer (nullable = true)\n",
      " |-- Dribbling: integer (nullable = true)\n",
      " |-- Curve: integer (nullable = true)\n",
      " |-- FKAccuracy: integer (nullable = true)\n",
      " |-- LongPassing: integer (nullable = true)\n",
      " |-- BallControl: integer (nullable = true)\n",
      " |-- Acceleration: integer (nullable = true)\n",
      " |-- SprintSpeed: integer (nullable = true)\n",
      " |-- Agility: integer (nullable = true)\n",
      " |-- Reactions: integer (nullable = true)\n",
      " |-- Balance: integer (nullable = true)\n",
      " |-- ShotPower: integer (nullable = true)\n",
      " |-- Jumping: integer (nullable = true)\n",
      " |-- Stamina: integer (nullable = true)\n",
      " |-- Strength: integer (nullable = true)\n",
      " |-- LongShots: integer (nullable = true)\n",
      " |-- Aggression: integer (nullable = true)\n",
      " |-- Interceptions: integer (nullable = true)\n",
      " |-- Positioning: integer (nullable = true)\n",
      " |-- Vision: integer (nullable = true)\n",
      " |-- Penalties: integer (nullable = true)\n",
      " |-- Composure: integer (nullable = true)\n",
      " |-- Marking: integer (nullable = true)\n",
      " |-- StandingTackle: integer (nullable = true)\n",
      " |-- SlidingTackle: integer (nullable = true)\n",
      " |-- GKDiving: integer (nullable = true)\n",
      " |-- GKHandling: integer (nullable = true)\n",
      " |-- GKKicking: integer (nullable = true)\n",
      " |-- GKPositioning: integer (nullable = true)\n",
      " |-- GKReflexes: integer (nullable = true)\n",
      " |-- Release Clause: string (nullable = true)\n",
      "\n"
     ]
    },
    {
     "data": {
      "text/plain": "   _c0      ID               Name  Age   \n0    0  158023           L. Messi   31  \\\n1    1   20801  Cristiano Ronaldo   33   \n2    2  190871          Neymar Jr   26   \n3    3  193080             De Gea   27   \n4    4  192985       K. De Bruyne   27   \n\n                                            Photo Nationality   \n0  https://cdn.sofifa.org/players/4/19/158023.png   Argentina  \\\n1   https://cdn.sofifa.org/players/4/19/20801.png    Portugal   \n2  https://cdn.sofifa.org/players/4/19/190871.png      Brazil   \n3  https://cdn.sofifa.org/players/4/19/193080.png       Spain   \n4  https://cdn.sofifa.org/players/4/19/192985.png     Belgium   \n\n                                  Flag  Overall  Potential   \n0  https://cdn.sofifa.org/flags/52.png       94         94  \\\n1  https://cdn.sofifa.org/flags/38.png       94         94   \n2  https://cdn.sofifa.org/flags/54.png       92         93   \n3  https://cdn.sofifa.org/flags/45.png       91         93   \n4   https://cdn.sofifa.org/flags/7.png       91         92   \n\n                  Club  ... Composure Marking StandingTackle  SlidingTackle   \n0         FC Barcelona  ...        96      33             28             26  \\\n1             Juventus  ...        95      28             31             23   \n2  Paris Saint-Germain  ...        94      27             24             33   \n3    Manchester United  ...        68      15             21             13   \n4      Manchester City  ...        88      68             58             51   \n\n  GKDiving  GKHandling  GKKicking  GKPositioning GKReflexes Release Clause  \n0        6          11         15             14          8        €226.5M  \n1        7          11         15             14         11        €127.1M  \n2        9           9         15             15         11        €228.1M  \n3       90          85         87             88         94        €138.6M  \n4       15          13          5             10         13        €196.4M  \n\n[5 rows x 89 columns]",
      "text/html": "<div>\n<style scoped>\n    .dataframe tbody tr th:only-of-type {\n        vertical-align: middle;\n    }\n\n    .dataframe tbody tr th {\n        vertical-align: top;\n    }\n\n    .dataframe thead th {\n        text-align: right;\n    }\n</style>\n<table border=\"1\" class=\"dataframe\">\n  <thead>\n    <tr style=\"text-align: right;\">\n      <th></th>\n      <th>_c0</th>\n      <th>ID</th>\n      <th>Name</th>\n      <th>Age</th>\n      <th>Photo</th>\n      <th>Nationality</th>\n      <th>Flag</th>\n      <th>Overall</th>\n      <th>Potential</th>\n      <th>Club</th>\n      <th>...</th>\n      <th>Composure</th>\n      <th>Marking</th>\n      <th>StandingTackle</th>\n      <th>SlidingTackle</th>\n      <th>GKDiving</th>\n      <th>GKHandling</th>\n      <th>GKKicking</th>\n      <th>GKPositioning</th>\n      <th>GKReflexes</th>\n      <th>Release Clause</th>\n    </tr>\n  </thead>\n  <tbody>\n    <tr>\n      <th>0</th>\n      <td>0</td>\n      <td>158023</td>\n      <td>L. Messi</td>\n      <td>31</td>\n      <td>https://cdn.sofifa.org/players/4/19/158023.png</td>\n      <td>Argentina</td>\n      <td>https://cdn.sofifa.org/flags/52.png</td>\n      <td>94</td>\n      <td>94</td>\n      <td>FC Barcelona</td>\n      <td>...</td>\n      <td>96</td>\n      <td>33</td>\n      <td>28</td>\n      <td>26</td>\n      <td>6</td>\n      <td>11</td>\n      <td>15</td>\n      <td>14</td>\n      <td>8</td>\n      <td>€226.5M</td>\n    </tr>\n    <tr>\n      <th>1</th>\n      <td>1</td>\n      <td>20801</td>\n      <td>Cristiano Ronaldo</td>\n      <td>33</td>\n      <td>https://cdn.sofifa.org/players/4/19/20801.png</td>\n      <td>Portugal</td>\n      <td>https://cdn.sofifa.org/flags/38.png</td>\n      <td>94</td>\n      <td>94</td>\n      <td>Juventus</td>\n      <td>...</td>\n      <td>95</td>\n      <td>28</td>\n      <td>31</td>\n      <td>23</td>\n      <td>7</td>\n      <td>11</td>\n      <td>15</td>\n      <td>14</td>\n      <td>11</td>\n      <td>€127.1M</td>\n    </tr>\n    <tr>\n      <th>2</th>\n      <td>2</td>\n      <td>190871</td>\n      <td>Neymar Jr</td>\n      <td>26</td>\n      <td>https://cdn.sofifa.org/players/4/19/190871.png</td>\n      <td>Brazil</td>\n      <td>https://cdn.sofifa.org/flags/54.png</td>\n      <td>92</td>\n      <td>93</td>\n      <td>Paris Saint-Germain</td>\n      <td>...</td>\n      <td>94</td>\n      <td>27</td>\n      <td>24</td>\n      <td>33</td>\n      <td>9</td>\n      <td>9</td>\n      <td>15</td>\n      <td>15</td>\n      <td>11</td>\n      <td>€228.1M</td>\n    </tr>\n    <tr>\n      <th>3</th>\n      <td>3</td>\n      <td>193080</td>\n      <td>De Gea</td>\n      <td>27</td>\n      <td>https://cdn.sofifa.org/players/4/19/193080.png</td>\n      <td>Spain</td>\n      <td>https://cdn.sofifa.org/flags/45.png</td>\n      <td>91</td>\n      <td>93</td>\n      <td>Manchester United</td>\n      <td>...</td>\n      <td>68</td>\n      <td>15</td>\n      <td>21</td>\n      <td>13</td>\n      <td>90</td>\n      <td>85</td>\n      <td>87</td>\n      <td>88</td>\n      <td>94</td>\n      <td>€138.6M</td>\n    </tr>\n    <tr>\n      <th>4</th>\n      <td>4</td>\n      <td>192985</td>\n      <td>K. De Bruyne</td>\n      <td>27</td>\n      <td>https://cdn.sofifa.org/players/4/19/192985.png</td>\n      <td>Belgium</td>\n      <td>https://cdn.sofifa.org/flags/7.png</td>\n      <td>91</td>\n      <td>92</td>\n      <td>Manchester City</td>\n      <td>...</td>\n      <td>88</td>\n      <td>68</td>\n      <td>58</td>\n      <td>51</td>\n      <td>15</td>\n      <td>13</td>\n      <td>5</td>\n      <td>10</td>\n      <td>13</td>\n      <td>€196.4M</td>\n    </tr>\n  </tbody>\n</table>\n<p>5 rows × 89 columns</p>\n</div>"
     },
     "execution_count": 3,
     "metadata": {},
     "output_type": "execute_result"
    }
   ],
   "source": [
    "fifa19_path = r\"Datasets/fifa19.csv\"\n",
    "\n",
    "fifa_df = spark.read.csv(\n",
    "    path=fifa19_path,\n",
    "    header=True,\n",
    "    inferSchema=True,\n",
    "    sep=\",\",\n",
    ")\n",
    "\n",
    "fifa_df.printSchema()\n",
    "\n",
    "fifa_df.limit(5).toPandas()"
   ]
  },
  {
   "cell_type": "markdown",
   "metadata": {},
   "source": [
    "## About this dataframe\n",
    "\n",
    "The **fifa19.csv** dataset includes a list of all the FIFA 2019 players and their attributes listed below: \n",
    "\n",
    " - **General**: Age, Nationality, Overall, Potential, Club\n",
    " - **Metrics:** Value, Wage\n",
    " - **Player Descriptive:** Preferred Foot, International Reputation, Weak Foot, Skill Moves, Work Rate, Position, Jersey Number, Joined, Loaned From, Contract Valid Until, Height, Weight\n",
    " - **Possition:** LS, ST, RS, LW, LF, CF, RF, RW, LAM, CAM, RAM, LM, LCM, CM, RCM, RM, LWB, LDM, CDM, RDM, RWB, LB, LCB, CB, RCB, RB, \n",
    " - **Other:** Crossing, Finishing, Heading, Accuracy, ShortPassing, Volleys, Dribbling, Curve, FKAccuracy, LongPassing, BallControl, Acceleration, SprintSpeed, Agility, Reactions, Balance, ShotPower, Jumping, Stamina, Strength, LongShots, Aggression, Interceptions, Positioning, Vision, Penalties, Composure, Marking, StandingTackle, SlidingTackle, GKDiving, GKHandling, GKKicking, GKPositioning, GKReflexes, and Release Clause.\n",
    "\n",
    "**Source:** https://www.kaggle.com/karangadiya/fifa19"
   ]
  },
  {
   "cell_type": "markdown",
   "metadata": {},
   "source": [
    "Use the .toPandas() method to view the first few lines of the dataset so we know what we are working with. "
   ]
  },
  {
   "cell_type": "code",
   "execution_count": 22,
   "metadata": {
    "ExecuteTime": {
     "end_time": "2023-05-22T11:20:26.486200300Z",
     "start_time": "2023-05-22T11:20:24.690099400Z"
    }
   },
   "outputs": [
    {
     "data": {
      "text/plain": "         _c0      ID                Name  Age   \n0          0  158023            L. Messi   31  \\\n1          1   20801   Cristiano Ronaldo   33   \n2          2  190871           Neymar Jr   26   \n3          3  193080              De Gea   27   \n4          4  192985        K. De Bruyne   27   \n...      ...     ...                 ...  ...   \n18202  18202  238813        J. Lundstram   19   \n18203  18203  243165  N. Christoffersson   19   \n18204  18204  241638           B. Worman   16   \n18205  18205  246268      D. Walker-Rice   17   \n18206  18206  246269           G. Nugent   16   \n\n                                                Photo Nationality   \n0      https://cdn.sofifa.org/players/4/19/158023.png   Argentina  \\\n1       https://cdn.sofifa.org/players/4/19/20801.png    Portugal   \n2      https://cdn.sofifa.org/players/4/19/190871.png      Brazil   \n3      https://cdn.sofifa.org/players/4/19/193080.png       Spain   \n4      https://cdn.sofifa.org/players/4/19/192985.png     Belgium   \n...                                               ...         ...   \n18202  https://cdn.sofifa.org/players/4/19/238813.png     England   \n18203  https://cdn.sofifa.org/players/4/19/243165.png      Sweden   \n18204  https://cdn.sofifa.org/players/4/19/241638.png     England   \n18205  https://cdn.sofifa.org/players/4/19/246268.png     England   \n18206  https://cdn.sofifa.org/players/4/19/246269.png     England   \n\n                                      Flag  Overall  Potential   \n0      https://cdn.sofifa.org/flags/52.png       94         94  \\\n1      https://cdn.sofifa.org/flags/38.png       94         94   \n2      https://cdn.sofifa.org/flags/54.png       92         93   \n3      https://cdn.sofifa.org/flags/45.png       91         93   \n4       https://cdn.sofifa.org/flags/7.png       91         92   \n...                                    ...      ...        ...   \n18202  https://cdn.sofifa.org/flags/14.png       47         65   \n18203  https://cdn.sofifa.org/flags/46.png       47         63   \n18204  https://cdn.sofifa.org/flags/14.png       47         67   \n18205  https://cdn.sofifa.org/flags/14.png       47         66   \n18206  https://cdn.sofifa.org/flags/14.png       46         66   \n\n                      Club  ... Composure Marking StandingTackle   \n0             FC Barcelona  ...      96.0    33.0           28.0  \\\n1                 Juventus  ...      95.0    28.0           31.0   \n2      Paris Saint-Germain  ...      94.0    27.0           24.0   \n3        Manchester United  ...      68.0    15.0           21.0   \n4          Manchester City  ...      88.0    68.0           58.0   \n...                    ...  ...       ...     ...            ...   \n18202      Crewe Alexandra  ...      45.0    40.0           48.0   \n18203       Trelleborgs FF  ...      42.0    22.0           15.0   \n18204     Cambridge United  ...      41.0    32.0           13.0   \n18205      Tranmere Rovers  ...      46.0    20.0           25.0   \n18206      Tranmere Rovers  ...      43.0    40.0           43.0   \n\n       SlidingTackle GKDiving  GKHandling  GKKicking  GKPositioning   \n0               26.0      6.0        11.0       15.0           14.0  \\\n1               23.0      7.0        11.0       15.0           14.0   \n2               33.0      9.0         9.0       15.0           15.0   \n3               13.0     90.0        85.0       87.0           88.0   \n4               51.0     15.0        13.0        5.0           10.0   \n...              ...      ...         ...        ...            ...   \n18202           47.0     10.0        13.0        7.0            8.0   \n18203           19.0     10.0         9.0        9.0            5.0   \n18204           11.0      6.0         5.0       10.0            6.0   \n18205           27.0     14.0         6.0       14.0            8.0   \n18206           50.0     10.0        15.0        9.0           12.0   \n\n      GKReflexes Release Clause  \n0            8.0        €226.5M  \n1           11.0        €127.1M  \n2           11.0        €228.1M  \n3           94.0        €138.6M  \n4           13.0        €196.4M  \n...          ...            ...  \n18202        9.0          €143K  \n18203       12.0          €113K  \n18204       13.0          €165K  \n18205        9.0          €143K  \n18206        9.0          €165K  \n\n[18207 rows x 89 columns]",
      "text/html": "<div>\n<style scoped>\n    .dataframe tbody tr th:only-of-type {\n        vertical-align: middle;\n    }\n\n    .dataframe tbody tr th {\n        vertical-align: top;\n    }\n\n    .dataframe thead th {\n        text-align: right;\n    }\n</style>\n<table border=\"1\" class=\"dataframe\">\n  <thead>\n    <tr style=\"text-align: right;\">\n      <th></th>\n      <th>_c0</th>\n      <th>ID</th>\n      <th>Name</th>\n      <th>Age</th>\n      <th>Photo</th>\n      <th>Nationality</th>\n      <th>Flag</th>\n      <th>Overall</th>\n      <th>Potential</th>\n      <th>Club</th>\n      <th>...</th>\n      <th>Composure</th>\n      <th>Marking</th>\n      <th>StandingTackle</th>\n      <th>SlidingTackle</th>\n      <th>GKDiving</th>\n      <th>GKHandling</th>\n      <th>GKKicking</th>\n      <th>GKPositioning</th>\n      <th>GKReflexes</th>\n      <th>Release Clause</th>\n    </tr>\n  </thead>\n  <tbody>\n    <tr>\n      <th>0</th>\n      <td>0</td>\n      <td>158023</td>\n      <td>L. Messi</td>\n      <td>31</td>\n      <td>https://cdn.sofifa.org/players/4/19/158023.png</td>\n      <td>Argentina</td>\n      <td>https://cdn.sofifa.org/flags/52.png</td>\n      <td>94</td>\n      <td>94</td>\n      <td>FC Barcelona</td>\n      <td>...</td>\n      <td>96.0</td>\n      <td>33.0</td>\n      <td>28.0</td>\n      <td>26.0</td>\n      <td>6.0</td>\n      <td>11.0</td>\n      <td>15.0</td>\n      <td>14.0</td>\n      <td>8.0</td>\n      <td>€226.5M</td>\n    </tr>\n    <tr>\n      <th>1</th>\n      <td>1</td>\n      <td>20801</td>\n      <td>Cristiano Ronaldo</td>\n      <td>33</td>\n      <td>https://cdn.sofifa.org/players/4/19/20801.png</td>\n      <td>Portugal</td>\n      <td>https://cdn.sofifa.org/flags/38.png</td>\n      <td>94</td>\n      <td>94</td>\n      <td>Juventus</td>\n      <td>...</td>\n      <td>95.0</td>\n      <td>28.0</td>\n      <td>31.0</td>\n      <td>23.0</td>\n      <td>7.0</td>\n      <td>11.0</td>\n      <td>15.0</td>\n      <td>14.0</td>\n      <td>11.0</td>\n      <td>€127.1M</td>\n    </tr>\n    <tr>\n      <th>2</th>\n      <td>2</td>\n      <td>190871</td>\n      <td>Neymar Jr</td>\n      <td>26</td>\n      <td>https://cdn.sofifa.org/players/4/19/190871.png</td>\n      <td>Brazil</td>\n      <td>https://cdn.sofifa.org/flags/54.png</td>\n      <td>92</td>\n      <td>93</td>\n      <td>Paris Saint-Germain</td>\n      <td>...</td>\n      <td>94.0</td>\n      <td>27.0</td>\n      <td>24.0</td>\n      <td>33.0</td>\n      <td>9.0</td>\n      <td>9.0</td>\n      <td>15.0</td>\n      <td>15.0</td>\n      <td>11.0</td>\n      <td>€228.1M</td>\n    </tr>\n    <tr>\n      <th>3</th>\n      <td>3</td>\n      <td>193080</td>\n      <td>De Gea</td>\n      <td>27</td>\n      <td>https://cdn.sofifa.org/players/4/19/193080.png</td>\n      <td>Spain</td>\n      <td>https://cdn.sofifa.org/flags/45.png</td>\n      <td>91</td>\n      <td>93</td>\n      <td>Manchester United</td>\n      <td>...</td>\n      <td>68.0</td>\n      <td>15.0</td>\n      <td>21.0</td>\n      <td>13.0</td>\n      <td>90.0</td>\n      <td>85.0</td>\n      <td>87.0</td>\n      <td>88.0</td>\n      <td>94.0</td>\n      <td>€138.6M</td>\n    </tr>\n    <tr>\n      <th>4</th>\n      <td>4</td>\n      <td>192985</td>\n      <td>K. De Bruyne</td>\n      <td>27</td>\n      <td>https://cdn.sofifa.org/players/4/19/192985.png</td>\n      <td>Belgium</td>\n      <td>https://cdn.sofifa.org/flags/7.png</td>\n      <td>91</td>\n      <td>92</td>\n      <td>Manchester City</td>\n      <td>...</td>\n      <td>88.0</td>\n      <td>68.0</td>\n      <td>58.0</td>\n      <td>51.0</td>\n      <td>15.0</td>\n      <td>13.0</td>\n      <td>5.0</td>\n      <td>10.0</td>\n      <td>13.0</td>\n      <td>€196.4M</td>\n    </tr>\n    <tr>\n      <th>...</th>\n      <td>...</td>\n      <td>...</td>\n      <td>...</td>\n      <td>...</td>\n      <td>...</td>\n      <td>...</td>\n      <td>...</td>\n      <td>...</td>\n      <td>...</td>\n      <td>...</td>\n      <td>...</td>\n      <td>...</td>\n      <td>...</td>\n      <td>...</td>\n      <td>...</td>\n      <td>...</td>\n      <td>...</td>\n      <td>...</td>\n      <td>...</td>\n      <td>...</td>\n      <td>...</td>\n    </tr>\n    <tr>\n      <th>18202</th>\n      <td>18202</td>\n      <td>238813</td>\n      <td>J. Lundstram</td>\n      <td>19</td>\n      <td>https://cdn.sofifa.org/players/4/19/238813.png</td>\n      <td>England</td>\n      <td>https://cdn.sofifa.org/flags/14.png</td>\n      <td>47</td>\n      <td>65</td>\n      <td>Crewe Alexandra</td>\n      <td>...</td>\n      <td>45.0</td>\n      <td>40.0</td>\n      <td>48.0</td>\n      <td>47.0</td>\n      <td>10.0</td>\n      <td>13.0</td>\n      <td>7.0</td>\n      <td>8.0</td>\n      <td>9.0</td>\n      <td>€143K</td>\n    </tr>\n    <tr>\n      <th>18203</th>\n      <td>18203</td>\n      <td>243165</td>\n      <td>N. Christoffersson</td>\n      <td>19</td>\n      <td>https://cdn.sofifa.org/players/4/19/243165.png</td>\n      <td>Sweden</td>\n      <td>https://cdn.sofifa.org/flags/46.png</td>\n      <td>47</td>\n      <td>63</td>\n      <td>Trelleborgs FF</td>\n      <td>...</td>\n      <td>42.0</td>\n      <td>22.0</td>\n      <td>15.0</td>\n      <td>19.0</td>\n      <td>10.0</td>\n      <td>9.0</td>\n      <td>9.0</td>\n      <td>5.0</td>\n      <td>12.0</td>\n      <td>€113K</td>\n    </tr>\n    <tr>\n      <th>18204</th>\n      <td>18204</td>\n      <td>241638</td>\n      <td>B. Worman</td>\n      <td>16</td>\n      <td>https://cdn.sofifa.org/players/4/19/241638.png</td>\n      <td>England</td>\n      <td>https://cdn.sofifa.org/flags/14.png</td>\n      <td>47</td>\n      <td>67</td>\n      <td>Cambridge United</td>\n      <td>...</td>\n      <td>41.0</td>\n      <td>32.0</td>\n      <td>13.0</td>\n      <td>11.0</td>\n      <td>6.0</td>\n      <td>5.0</td>\n      <td>10.0</td>\n      <td>6.0</td>\n      <td>13.0</td>\n      <td>€165K</td>\n    </tr>\n    <tr>\n      <th>18205</th>\n      <td>18205</td>\n      <td>246268</td>\n      <td>D. Walker-Rice</td>\n      <td>17</td>\n      <td>https://cdn.sofifa.org/players/4/19/246268.png</td>\n      <td>England</td>\n      <td>https://cdn.sofifa.org/flags/14.png</td>\n      <td>47</td>\n      <td>66</td>\n      <td>Tranmere Rovers</td>\n      <td>...</td>\n      <td>46.0</td>\n      <td>20.0</td>\n      <td>25.0</td>\n      <td>27.0</td>\n      <td>14.0</td>\n      <td>6.0</td>\n      <td>14.0</td>\n      <td>8.0</td>\n      <td>9.0</td>\n      <td>€143K</td>\n    </tr>\n    <tr>\n      <th>18206</th>\n      <td>18206</td>\n      <td>246269</td>\n      <td>G. Nugent</td>\n      <td>16</td>\n      <td>https://cdn.sofifa.org/players/4/19/246269.png</td>\n      <td>England</td>\n      <td>https://cdn.sofifa.org/flags/14.png</td>\n      <td>46</td>\n      <td>66</td>\n      <td>Tranmere Rovers</td>\n      <td>...</td>\n      <td>43.0</td>\n      <td>40.0</td>\n      <td>43.0</td>\n      <td>50.0</td>\n      <td>10.0</td>\n      <td>15.0</td>\n      <td>9.0</td>\n      <td>12.0</td>\n      <td>9.0</td>\n      <td>€165K</td>\n    </tr>\n  </tbody>\n</table>\n<p>18207 rows × 89 columns</p>\n</div>"
     },
     "execution_count": 22,
     "metadata": {},
     "output_type": "execute_result"
    }
   ],
   "source": [
    "fifa_df.toPandas()"
   ]
  },
  {
   "cell_type": "markdown",
   "metadata": {},
   "source": [
    "Now print the schema of the dataset so we can see the data types of all the varaibles. "
   ]
  },
  {
   "cell_type": "code",
   "execution_count": 7,
   "metadata": {
    "ExecuteTime": {
     "end_time": "2023-05-22T11:01:26.847711Z",
     "start_time": "2023-05-22T11:01:26.773595200Z"
    }
   },
   "outputs": [
    {
     "name": "stdout",
     "output_type": "stream",
     "text": [
      "root\n",
      " |-- _c0: integer (nullable = true)\n",
      " |-- ID: integer (nullable = true)\n",
      " |-- Name: string (nullable = true)\n",
      " |-- Age: integer (nullable = true)\n",
      " |-- Photo: string (nullable = true)\n",
      " |-- Nationality: string (nullable = true)\n",
      " |-- Flag: string (nullable = true)\n",
      " |-- Overall: integer (nullable = true)\n",
      " |-- Potential: integer (nullable = true)\n",
      " |-- Club: string (nullable = true)\n",
      " |-- Club Logo: string (nullable = true)\n",
      " |-- Value: string (nullable = true)\n",
      " |-- Wage: string (nullable = true)\n",
      " |-- Special: integer (nullable = true)\n",
      " |-- Preferred Foot: string (nullable = true)\n",
      " |-- International Reputation: integer (nullable = true)\n",
      " |-- Weak Foot: integer (nullable = true)\n",
      " |-- Skill Moves: integer (nullable = true)\n",
      " |-- Work Rate: string (nullable = true)\n",
      " |-- Body Type: string (nullable = true)\n",
      " |-- Real Face: string (nullable = true)\n",
      " |-- Position: string (nullable = true)\n",
      " |-- Jersey Number: integer (nullable = true)\n",
      " |-- Joined: string (nullable = true)\n",
      " |-- Loaned From: string (nullable = true)\n",
      " |-- Contract Valid Until: string (nullable = true)\n",
      " |-- Height: string (nullable = true)\n",
      " |-- Weight: string (nullable = true)\n",
      " |-- LS: string (nullable = true)\n",
      " |-- ST: string (nullable = true)\n",
      " |-- RS: string (nullable = true)\n",
      " |-- LW: string (nullable = true)\n",
      " |-- LF: string (nullable = true)\n",
      " |-- CF: string (nullable = true)\n",
      " |-- RF: string (nullable = true)\n",
      " |-- RW: string (nullable = true)\n",
      " |-- LAM: string (nullable = true)\n",
      " |-- CAM: string (nullable = true)\n",
      " |-- RAM: string (nullable = true)\n",
      " |-- LM: string (nullable = true)\n",
      " |-- LCM: string (nullable = true)\n",
      " |-- CM: string (nullable = true)\n",
      " |-- RCM: string (nullable = true)\n",
      " |-- RM: string (nullable = true)\n",
      " |-- LWB: string (nullable = true)\n",
      " |-- LDM: string (nullable = true)\n",
      " |-- CDM: string (nullable = true)\n",
      " |-- RDM: string (nullable = true)\n",
      " |-- RWB: string (nullable = true)\n",
      " |-- LB: string (nullable = true)\n",
      " |-- LCB: string (nullable = true)\n",
      " |-- CB: string (nullable = true)\n",
      " |-- RCB: string (nullable = true)\n",
      " |-- RB: string (nullable = true)\n",
      " |-- Crossing: integer (nullable = true)\n",
      " |-- Finishing: integer (nullable = true)\n",
      " |-- HeadingAccuracy: integer (nullable = true)\n",
      " |-- ShortPassing: integer (nullable = true)\n",
      " |-- Volleys: integer (nullable = true)\n",
      " |-- Dribbling: integer (nullable = true)\n",
      " |-- Curve: integer (nullable = true)\n",
      " |-- FKAccuracy: integer (nullable = true)\n",
      " |-- LongPassing: integer (nullable = true)\n",
      " |-- BallControl: integer (nullable = true)\n",
      " |-- Acceleration: integer (nullable = true)\n",
      " |-- SprintSpeed: integer (nullable = true)\n",
      " |-- Agility: integer (nullable = true)\n",
      " |-- Reactions: integer (nullable = true)\n",
      " |-- Balance: integer (nullable = true)\n",
      " |-- ShotPower: integer (nullable = true)\n",
      " |-- Jumping: integer (nullable = true)\n",
      " |-- Stamina: integer (nullable = true)\n",
      " |-- Strength: integer (nullable = true)\n",
      " |-- LongShots: integer (nullable = true)\n",
      " |-- Aggression: integer (nullable = true)\n",
      " |-- Interceptions: integer (nullable = true)\n",
      " |-- Positioning: integer (nullable = true)\n",
      " |-- Vision: integer (nullable = true)\n",
      " |-- Penalties: integer (nullable = true)\n",
      " |-- Composure: integer (nullable = true)\n",
      " |-- Marking: integer (nullable = true)\n",
      " |-- StandingTackle: integer (nullable = true)\n",
      " |-- SlidingTackle: integer (nullable = true)\n",
      " |-- GKDiving: integer (nullable = true)\n",
      " |-- GKHandling: integer (nullable = true)\n",
      " |-- GKKicking: integer (nullable = true)\n",
      " |-- GKPositioning: integer (nullable = true)\n",
      " |-- GKReflexes: integer (nullable = true)\n",
      " |-- Release Clause: string (nullable = true)\n",
      "\n"
     ]
    },
    {
     "data": {
      "text/plain": "['_c0',\n 'ID',\n 'Name',\n 'Age',\n 'Photo',\n 'Nationality',\n 'Flag',\n 'Overall',\n 'Potential',\n 'Club',\n 'Club Logo',\n 'Value',\n 'Wage',\n 'Special',\n 'Preferred Foot',\n 'International Reputation',\n 'Weak Foot',\n 'Skill Moves',\n 'Work Rate',\n 'Body Type',\n 'Real Face',\n 'Position',\n 'Jersey Number',\n 'Joined',\n 'Loaned From',\n 'Contract Valid Until',\n 'Height',\n 'Weight',\n 'LS',\n 'ST',\n 'RS',\n 'LW',\n 'LF',\n 'CF',\n 'RF',\n 'RW',\n 'LAM',\n 'CAM',\n 'RAM',\n 'LM',\n 'LCM',\n 'CM',\n 'RCM',\n 'RM',\n 'LWB',\n 'LDM',\n 'CDM',\n 'RDM',\n 'RWB',\n 'LB',\n 'LCB',\n 'CB',\n 'RCB',\n 'RB',\n 'Crossing',\n 'Finishing',\n 'HeadingAccuracy',\n 'ShortPassing',\n 'Volleys',\n 'Dribbling',\n 'Curve',\n 'FKAccuracy',\n 'LongPassing',\n 'BallControl',\n 'Acceleration',\n 'SprintSpeed',\n 'Agility',\n 'Reactions',\n 'Balance',\n 'ShotPower',\n 'Jumping',\n 'Stamina',\n 'Strength',\n 'LongShots',\n 'Aggression',\n 'Interceptions',\n 'Positioning',\n 'Vision',\n 'Penalties',\n 'Composure',\n 'Marking',\n 'StandingTackle',\n 'SlidingTackle',\n 'GKDiving',\n 'GKHandling',\n 'GKKicking',\n 'GKPositioning',\n 'GKReflexes',\n 'Release Clause']"
     },
     "execution_count": 7,
     "metadata": {},
     "output_type": "execute_result"
    }
   ],
   "source": [
    "fifa_df.printSchema()\n",
    "\n",
    "fifa_df.columns"
   ]
  },
  {
   "cell_type": "markdown",
   "metadata": {},
   "source": [
    "## Now let's get started!\n",
    "\n",
    "### First things first..... import the pyspark sql functions library\n",
    "\n",
    "Since we know we will be using it a lot."
   ]
  },
  {
   "cell_type": "code",
   "execution_count": null,
   "metadata": {},
   "outputs": [],
   "source": [
    "# Done above"
   ]
  },
  {
   "cell_type": "markdown",
   "metadata": {},
   "source": [
    "### 1. Select the Name and Position of each player in the dataframe"
   ]
  },
  {
   "cell_type": "code",
   "execution_count": 8,
   "metadata": {
    "ExecuteTime": {
     "end_time": "2023-05-22T11:02:17.214875500Z",
     "start_time": "2023-05-22T11:02:16.571098400Z"
    }
   },
   "outputs": [
    {
     "data": {
      "text/plain": "                     Name Position\n0                L. Messi       RF\n1       Cristiano Ronaldo       ST\n2               Neymar Jr       LW\n3                  De Gea       GK\n4            K. De Bruyne      RCM\n...                   ...      ...\n18202        J. Lundstram       CM\n18203  N. Christoffersson       ST\n18204           B. Worman       ST\n18205      D. Walker-Rice       RW\n18206           G. Nugent       CM\n\n[18207 rows x 2 columns]",
      "text/html": "<div>\n<style scoped>\n    .dataframe tbody tr th:only-of-type {\n        vertical-align: middle;\n    }\n\n    .dataframe tbody tr th {\n        vertical-align: top;\n    }\n\n    .dataframe thead th {\n        text-align: right;\n    }\n</style>\n<table border=\"1\" class=\"dataframe\">\n  <thead>\n    <tr style=\"text-align: right;\">\n      <th></th>\n      <th>Name</th>\n      <th>Position</th>\n    </tr>\n  </thead>\n  <tbody>\n    <tr>\n      <th>0</th>\n      <td>L. Messi</td>\n      <td>RF</td>\n    </tr>\n    <tr>\n      <th>1</th>\n      <td>Cristiano Ronaldo</td>\n      <td>ST</td>\n    </tr>\n    <tr>\n      <th>2</th>\n      <td>Neymar Jr</td>\n      <td>LW</td>\n    </tr>\n    <tr>\n      <th>3</th>\n      <td>De Gea</td>\n      <td>GK</td>\n    </tr>\n    <tr>\n      <th>4</th>\n      <td>K. De Bruyne</td>\n      <td>RCM</td>\n    </tr>\n    <tr>\n      <th>...</th>\n      <td>...</td>\n      <td>...</td>\n    </tr>\n    <tr>\n      <th>18202</th>\n      <td>J. Lundstram</td>\n      <td>CM</td>\n    </tr>\n    <tr>\n      <th>18203</th>\n      <td>N. Christoffersson</td>\n      <td>ST</td>\n    </tr>\n    <tr>\n      <th>18204</th>\n      <td>B. Worman</td>\n      <td>ST</td>\n    </tr>\n    <tr>\n      <th>18205</th>\n      <td>D. Walker-Rice</td>\n      <td>RW</td>\n    </tr>\n    <tr>\n      <th>18206</th>\n      <td>G. Nugent</td>\n      <td>CM</td>\n    </tr>\n  </tbody>\n</table>\n<p>18207 rows × 2 columns</p>\n</div>"
     },
     "execution_count": 8,
     "metadata": {},
     "output_type": "execute_result"
    }
   ],
   "source": [
    "(\n",
    "    fifa_df\n",
    "    .select(\n",
    "        \"Name\",\n",
    "        \"Position\",\n",
    "    ).toPandas()\n",
    ")"
   ]
  },
  {
   "cell_type": "markdown",
   "metadata": {},
   "source": [
    "### 1.1 Display the same results from above sorted by the players names"
   ]
  },
  {
   "cell_type": "code",
   "execution_count": 10,
   "metadata": {
    "ExecuteTime": {
     "end_time": "2023-05-22T11:03:18.631783400Z",
     "start_time": "2023-05-22T11:03:17.577774500Z"
    }
   },
   "outputs": [
    {
     "data": {
      "text/plain": "                 Name Position\n0            A. Abang       ST\n1       A. Abdellaoui       LB\n2        A. Abdennour       CB\n3             A. Abdi       CM\n4       A. Abdu Jaber       ST\n...               ...      ...\n18202       Óscar Gil       RB\n18203    Óscar Pinchi       LM\n18204     Óscar Plano       LM\n18205  Óscar Valentín      CDM\n18206   Óscar Whalley       GK\n\n[18207 rows x 2 columns]",
      "text/html": "<div>\n<style scoped>\n    .dataframe tbody tr th:only-of-type {\n        vertical-align: middle;\n    }\n\n    .dataframe tbody tr th {\n        vertical-align: top;\n    }\n\n    .dataframe thead th {\n        text-align: right;\n    }\n</style>\n<table border=\"1\" class=\"dataframe\">\n  <thead>\n    <tr style=\"text-align: right;\">\n      <th></th>\n      <th>Name</th>\n      <th>Position</th>\n    </tr>\n  </thead>\n  <tbody>\n    <tr>\n      <th>0</th>\n      <td>A. Abang</td>\n      <td>ST</td>\n    </tr>\n    <tr>\n      <th>1</th>\n      <td>A. Abdellaoui</td>\n      <td>LB</td>\n    </tr>\n    <tr>\n      <th>2</th>\n      <td>A. Abdennour</td>\n      <td>CB</td>\n    </tr>\n    <tr>\n      <th>3</th>\n      <td>A. Abdi</td>\n      <td>CM</td>\n    </tr>\n    <tr>\n      <th>4</th>\n      <td>A. Abdu Jaber</td>\n      <td>ST</td>\n    </tr>\n    <tr>\n      <th>...</th>\n      <td>...</td>\n      <td>...</td>\n    </tr>\n    <tr>\n      <th>18202</th>\n      <td>Óscar Gil</td>\n      <td>RB</td>\n    </tr>\n    <tr>\n      <th>18203</th>\n      <td>Óscar Pinchi</td>\n      <td>LM</td>\n    </tr>\n    <tr>\n      <th>18204</th>\n      <td>Óscar Plano</td>\n      <td>LM</td>\n    </tr>\n    <tr>\n      <th>18205</th>\n      <td>Óscar Valentín</td>\n      <td>CDM</td>\n    </tr>\n    <tr>\n      <th>18206</th>\n      <td>Óscar Whalley</td>\n      <td>GK</td>\n    </tr>\n  </tbody>\n</table>\n<p>18207 rows × 2 columns</p>\n</div>"
     },
     "execution_count": 10,
     "metadata": {},
     "output_type": "execute_result"
    }
   ],
   "source": [
    "(\n",
    "    fifa_df\n",
    "    .select(\n",
    "        \"Name\",\n",
    "        \"Position\",\n",
    "    )\n",
    "    .orderBy(\n",
    "        F.asc(fifa_df.Name)\n",
    "    )\n",
    "    .toPandas()\n",
    ")"
   ]
  },
  {
   "cell_type": "markdown",
   "metadata": {},
   "source": [
    "### 2. Select only the players who belong to a club begining with FC"
   ]
  },
  {
   "cell_type": "code",
   "execution_count": 13,
   "metadata": {
    "ExecuteTime": {
     "end_time": "2023-05-22T11:05:33.685622200Z",
     "start_time": "2023-05-22T11:05:33.345587900Z"
    }
   },
   "outputs": [
    {
     "data": {
      "text/plain": "                 Name Position                   Club\n0            L. Messi       RF           FC Barcelona\n1           L. Suárez       RS           FC Barcelona\n2      R. Lewandowski       ST      FC Bayern München\n3       M. ter Stegen       GK           FC Barcelona\n4     Sergio Busquets      CDM           FC Barcelona\n...               ...      ...                    ...\n1002    M. Humpenöder       GK  FC Würzburger Kickers\n1003     O. Dzonlagic       RM                FC Thun\n1004         O. Olsen      RWB         FC Midtjylland\n1005       N. Stephan       GK  FC Würzburger Kickers\n1006   M. Finne Wørts       CB        FC Nordsjælland\n\n[1007 rows x 3 columns]",
      "text/html": "<div>\n<style scoped>\n    .dataframe tbody tr th:only-of-type {\n        vertical-align: middle;\n    }\n\n    .dataframe tbody tr th {\n        vertical-align: top;\n    }\n\n    .dataframe thead th {\n        text-align: right;\n    }\n</style>\n<table border=\"1\" class=\"dataframe\">\n  <thead>\n    <tr style=\"text-align: right;\">\n      <th></th>\n      <th>Name</th>\n      <th>Position</th>\n      <th>Club</th>\n    </tr>\n  </thead>\n  <tbody>\n    <tr>\n      <th>0</th>\n      <td>L. Messi</td>\n      <td>RF</td>\n      <td>FC Barcelona</td>\n    </tr>\n    <tr>\n      <th>1</th>\n      <td>L. Suárez</td>\n      <td>RS</td>\n      <td>FC Barcelona</td>\n    </tr>\n    <tr>\n      <th>2</th>\n      <td>R. Lewandowski</td>\n      <td>ST</td>\n      <td>FC Bayern München</td>\n    </tr>\n    <tr>\n      <th>3</th>\n      <td>M. ter Stegen</td>\n      <td>GK</td>\n      <td>FC Barcelona</td>\n    </tr>\n    <tr>\n      <th>4</th>\n      <td>Sergio Busquets</td>\n      <td>CDM</td>\n      <td>FC Barcelona</td>\n    </tr>\n    <tr>\n      <th>...</th>\n      <td>...</td>\n      <td>...</td>\n      <td>...</td>\n    </tr>\n    <tr>\n      <th>1002</th>\n      <td>M. Humpenöder</td>\n      <td>GK</td>\n      <td>FC Würzburger Kickers</td>\n    </tr>\n    <tr>\n      <th>1003</th>\n      <td>O. Dzonlagic</td>\n      <td>RM</td>\n      <td>FC Thun</td>\n    </tr>\n    <tr>\n      <th>1004</th>\n      <td>O. Olsen</td>\n      <td>RWB</td>\n      <td>FC Midtjylland</td>\n    </tr>\n    <tr>\n      <th>1005</th>\n      <td>N. Stephan</td>\n      <td>GK</td>\n      <td>FC Würzburger Kickers</td>\n    </tr>\n    <tr>\n      <th>1006</th>\n      <td>M. Finne Wørts</td>\n      <td>CB</td>\n      <td>FC Nordsjælland</td>\n    </tr>\n  </tbody>\n</table>\n<p>1007 rows × 3 columns</p>\n</div>"
     },
     "execution_count": 13,
     "metadata": {},
     "output_type": "execute_result"
    }
   ],
   "source": [
    "(\n",
    "    fifa_df\n",
    "    .select(\n",
    "        \"Name\",\n",
    "        \"Position\",\n",
    "        \"Club\",\n",
    "    )\n",
    "    .where(\n",
    "        fifa_df.Club.startswith(\"FC\"),\n",
    "    )\n",
    "    .toPandas()\n",
    ")"
   ]
  },
  {
   "cell_type": "code",
   "execution_count": null,
   "metadata": {},
   "outputs": [],
   "source": []
  },
  {
   "cell_type": "markdown",
   "metadata": {},
   "source": [
    "### 3. Who is the oldest player in the dataset and how old are they?\n",
    "\n",
    "Display only the name and age of the oldest player."
   ]
  },
  {
   "cell_type": "code",
   "execution_count": 14,
   "metadata": {
    "ExecuteTime": {
     "end_time": "2023-05-22T11:06:29.216989700Z",
     "start_time": "2023-05-22T11:06:28.922088500Z"
    }
   },
   "outputs": [
    {
     "data": {
      "text/plain": "       Name  Age\n0  O. Pérez   45",
      "text/html": "<div>\n<style scoped>\n    .dataframe tbody tr th:only-of-type {\n        vertical-align: middle;\n    }\n\n    .dataframe tbody tr th {\n        vertical-align: top;\n    }\n\n    .dataframe thead th {\n        text-align: right;\n    }\n</style>\n<table border=\"1\" class=\"dataframe\">\n  <thead>\n    <tr style=\"text-align: right;\">\n      <th></th>\n      <th>Name</th>\n      <th>Age</th>\n    </tr>\n  </thead>\n  <tbody>\n    <tr>\n      <th>0</th>\n      <td>O. Pérez</td>\n      <td>45</td>\n    </tr>\n  </tbody>\n</table>\n</div>"
     },
     "execution_count": 14,
     "metadata": {},
     "output_type": "execute_result"
    }
   ],
   "source": [
    "(\n",
    "    fifa_df\n",
    "    .select(\n",
    "        \"Name\",\n",
    "        \"Age\",\n",
    "    )\n",
    "    .orderBy(\n",
    "        F.desc(fifa_df.Age)\n",
    "    )\n",
    "    .limit(\n",
    "        1\n",
    "    )\n",
    "    .toPandas()\n",
    ")"
   ]
  },
  {
   "cell_type": "markdown",
   "metadata": {},
   "source": [
    "### 4. Select only the following players from the dataframe:\n",
    "\n",
    " - L. Messi\n",
    " - Cristiano Ronaldo"
   ]
  },
  {
   "cell_type": "code",
   "execution_count": 18,
   "metadata": {
    "ExecuteTime": {
     "end_time": "2023-05-22T11:11:26.527240500Z",
     "start_time": "2023-05-22T11:11:26.263876600Z"
    }
   },
   "outputs": [
    {
     "data": {
      "text/plain": "                Name Position          Club  Age\n0           L. Messi       RF  FC Barcelona   31\n1  Cristiano Ronaldo       ST      Juventus   33",
      "text/html": "<div>\n<style scoped>\n    .dataframe tbody tr th:only-of-type {\n        vertical-align: middle;\n    }\n\n    .dataframe tbody tr th {\n        vertical-align: top;\n    }\n\n    .dataframe thead th {\n        text-align: right;\n    }\n</style>\n<table border=\"1\" class=\"dataframe\">\n  <thead>\n    <tr style=\"text-align: right;\">\n      <th></th>\n      <th>Name</th>\n      <th>Position</th>\n      <th>Club</th>\n      <th>Age</th>\n    </tr>\n  </thead>\n  <tbody>\n    <tr>\n      <th>0</th>\n      <td>L. Messi</td>\n      <td>RF</td>\n      <td>FC Barcelona</td>\n      <td>31</td>\n    </tr>\n    <tr>\n      <th>1</th>\n      <td>Cristiano Ronaldo</td>\n      <td>ST</td>\n      <td>Juventus</td>\n      <td>33</td>\n    </tr>\n  </tbody>\n</table>\n</div>"
     },
     "execution_count": 18,
     "metadata": {},
     "output_type": "execute_result"
    }
   ],
   "source": [
    "(\n",
    "    fifa_df\n",
    "    .select(\n",
    "        \"Name\",\n",
    "        \"Position\",\n",
    "        \"Club\",\n",
    "        \"Age\",\n",
    "    )\n",
    "    .where(\n",
    "        (fifa_df.Name == \"L. Messi\") |\n",
    "        (fifa_df.Name == \"Cristiano Ronaldo\")\n",
    "    )\n",
    "    .toPandas()\n",
    ")"
   ]
  },
  {
   "cell_type": "markdown",
   "metadata": {},
   "source": [
    "### 5. Can you select the first character from the Release Clause variable which indicates the currency used?"
   ]
  },
  {
   "cell_type": "code",
   "execution_count": 20,
   "metadata": {
    "ExecuteTime": {
     "end_time": "2023-05-22T11:14:35.843192700Z",
     "start_time": "2023-05-22T11:14:35.242622Z"
    }
   },
   "outputs": [
    {
     "data": {
      "text/plain": "                     Name Position                 Club  Age Release Clause   \n0                L. Messi       RF         FC Barcelona   31        €226.5M  \\\n1       Cristiano Ronaldo       ST             Juventus   33        €127.1M   \n2               Neymar Jr       LW  Paris Saint-Germain   26        €228.1M   \n3                  De Gea       GK    Manchester United   27        €138.6M   \n4            K. De Bruyne      RCM      Manchester City   27        €196.4M   \n...                   ...      ...                  ...  ...            ...   \n18202        J. Lundstram       CM      Crewe Alexandra   19          €143K   \n18203  N. Christoffersson       ST       Trelleborgs FF   19          €113K   \n18204           B. Worman       ST     Cambridge United   16          €165K   \n18205      D. Walker-Rice       RW      Tranmere Rovers   17          €143K   \n18206           G. Nugent       CM      Tranmere Rovers   16          €165K   \n\n      Currency  \n0            €  \n1            €  \n2            €  \n3            €  \n4            €  \n...        ...  \n18202        €  \n18203        €  \n18204        €  \n18205        €  \n18206        €  \n\n[18207 rows x 6 columns]",
      "text/html": "<div>\n<style scoped>\n    .dataframe tbody tr th:only-of-type {\n        vertical-align: middle;\n    }\n\n    .dataframe tbody tr th {\n        vertical-align: top;\n    }\n\n    .dataframe thead th {\n        text-align: right;\n    }\n</style>\n<table border=\"1\" class=\"dataframe\">\n  <thead>\n    <tr style=\"text-align: right;\">\n      <th></th>\n      <th>Name</th>\n      <th>Position</th>\n      <th>Club</th>\n      <th>Age</th>\n      <th>Release Clause</th>\n      <th>Currency</th>\n    </tr>\n  </thead>\n  <tbody>\n    <tr>\n      <th>0</th>\n      <td>L. Messi</td>\n      <td>RF</td>\n      <td>FC Barcelona</td>\n      <td>31</td>\n      <td>€226.5M</td>\n      <td>€</td>\n    </tr>\n    <tr>\n      <th>1</th>\n      <td>Cristiano Ronaldo</td>\n      <td>ST</td>\n      <td>Juventus</td>\n      <td>33</td>\n      <td>€127.1M</td>\n      <td>€</td>\n    </tr>\n    <tr>\n      <th>2</th>\n      <td>Neymar Jr</td>\n      <td>LW</td>\n      <td>Paris Saint-Germain</td>\n      <td>26</td>\n      <td>€228.1M</td>\n      <td>€</td>\n    </tr>\n    <tr>\n      <th>3</th>\n      <td>De Gea</td>\n      <td>GK</td>\n      <td>Manchester United</td>\n      <td>27</td>\n      <td>€138.6M</td>\n      <td>€</td>\n    </tr>\n    <tr>\n      <th>4</th>\n      <td>K. De Bruyne</td>\n      <td>RCM</td>\n      <td>Manchester City</td>\n      <td>27</td>\n      <td>€196.4M</td>\n      <td>€</td>\n    </tr>\n    <tr>\n      <th>...</th>\n      <td>...</td>\n      <td>...</td>\n      <td>...</td>\n      <td>...</td>\n      <td>...</td>\n      <td>...</td>\n    </tr>\n    <tr>\n      <th>18202</th>\n      <td>J. Lundstram</td>\n      <td>CM</td>\n      <td>Crewe Alexandra</td>\n      <td>19</td>\n      <td>€143K</td>\n      <td>€</td>\n    </tr>\n    <tr>\n      <th>18203</th>\n      <td>N. Christoffersson</td>\n      <td>ST</td>\n      <td>Trelleborgs FF</td>\n      <td>19</td>\n      <td>€113K</td>\n      <td>€</td>\n    </tr>\n    <tr>\n      <th>18204</th>\n      <td>B. Worman</td>\n      <td>ST</td>\n      <td>Cambridge United</td>\n      <td>16</td>\n      <td>€165K</td>\n      <td>€</td>\n    </tr>\n    <tr>\n      <th>18205</th>\n      <td>D. Walker-Rice</td>\n      <td>RW</td>\n      <td>Tranmere Rovers</td>\n      <td>17</td>\n      <td>€143K</td>\n      <td>€</td>\n    </tr>\n    <tr>\n      <th>18206</th>\n      <td>G. Nugent</td>\n      <td>CM</td>\n      <td>Tranmere Rovers</td>\n      <td>16</td>\n      <td>€165K</td>\n      <td>€</td>\n    </tr>\n  </tbody>\n</table>\n<p>18207 rows × 6 columns</p>\n</div>"
     },
     "execution_count": 20,
     "metadata": {},
     "output_type": "execute_result"
    }
   ],
   "source": [
    "(\n",
    "    fifa_df\n",
    "    .select(\n",
    "        \"Name\",\n",
    "        \"Position\",\n",
    "        \"Club\",\n",
    "        \"Age\",\n",
    "        \"Release Clause\",\n",
    "        F.substring(F.col(\"Release Clause\"), 1, 1).alias(\"Currency\")\n",
    "    )\n",
    "    .toPandas()\n",
    ")"
   ]
  },
  {
   "cell_type": "markdown",
   "metadata": {},
   "source": [
    "### 6. Can you select only the players who are over the age of 40?"
   ]
  },
  {
   "cell_type": "code",
   "execution_count": 21,
   "metadata": {
    "ExecuteTime": {
     "end_time": "2023-05-22T11:15:34.194375800Z",
     "start_time": "2023-05-22T11:15:33.867036700Z"
    }
   },
   "outputs": [
    {
     "data": {
      "text/plain": "            Name Position                          Club  Age\n0      J. Villar       GK                          None   41\n1       B. Nivet      CAM                  ESTAC Troyes   41\n2       O. Pérez       GK                       Pachuca   45\n3       C. Muñoz       GK  CD Universidad de Concepción   41\n4    S. Narazaki       GK                Nagoya Grampus   42\n5   H. Sulaimani       LB                     Ohod Club   41\n6       M. Tyler       GK           Peterborough United   41\n7      T. Warner       GK            Accrington Stanley   44\n8  K. Pilkington       GK              Cambridge United   44",
      "text/html": "<div>\n<style scoped>\n    .dataframe tbody tr th:only-of-type {\n        vertical-align: middle;\n    }\n\n    .dataframe tbody tr th {\n        vertical-align: top;\n    }\n\n    .dataframe thead th {\n        text-align: right;\n    }\n</style>\n<table border=\"1\" class=\"dataframe\">\n  <thead>\n    <tr style=\"text-align: right;\">\n      <th></th>\n      <th>Name</th>\n      <th>Position</th>\n      <th>Club</th>\n      <th>Age</th>\n    </tr>\n  </thead>\n  <tbody>\n    <tr>\n      <th>0</th>\n      <td>J. Villar</td>\n      <td>GK</td>\n      <td>None</td>\n      <td>41</td>\n    </tr>\n    <tr>\n      <th>1</th>\n      <td>B. Nivet</td>\n      <td>CAM</td>\n      <td>ESTAC Troyes</td>\n      <td>41</td>\n    </tr>\n    <tr>\n      <th>2</th>\n      <td>O. Pérez</td>\n      <td>GK</td>\n      <td>Pachuca</td>\n      <td>45</td>\n    </tr>\n    <tr>\n      <th>3</th>\n      <td>C. Muñoz</td>\n      <td>GK</td>\n      <td>CD Universidad de Concepción</td>\n      <td>41</td>\n    </tr>\n    <tr>\n      <th>4</th>\n      <td>S. Narazaki</td>\n      <td>GK</td>\n      <td>Nagoya Grampus</td>\n      <td>42</td>\n    </tr>\n    <tr>\n      <th>5</th>\n      <td>H. Sulaimani</td>\n      <td>LB</td>\n      <td>Ohod Club</td>\n      <td>41</td>\n    </tr>\n    <tr>\n      <th>6</th>\n      <td>M. Tyler</td>\n      <td>GK</td>\n      <td>Peterborough United</td>\n      <td>41</td>\n    </tr>\n    <tr>\n      <th>7</th>\n      <td>T. Warner</td>\n      <td>GK</td>\n      <td>Accrington Stanley</td>\n      <td>44</td>\n    </tr>\n    <tr>\n      <th>8</th>\n      <td>K. Pilkington</td>\n      <td>GK</td>\n      <td>Cambridge United</td>\n      <td>44</td>\n    </tr>\n  </tbody>\n</table>\n</div>"
     },
     "execution_count": 21,
     "metadata": {},
     "output_type": "execute_result"
    }
   ],
   "source": [
    "(\n",
    "    fifa_df\n",
    "    .select(\n",
    "        \"Name\",\n",
    "        \"Position\",\n",
    "        \"Club\",\n",
    "        \"Age\",\n",
    "    )\n",
    "    .where(\n",
    "        F.col(\"Age\") > 40\n",
    "    )\n",
    "    .toPandas()\n",
    ")"
   ]
  },
  {
   "cell_type": "markdown",
   "metadata": {},
   "source": [
    "### That's is for now... Great Job!"
   ]
  }
 ],
 "metadata": {
  "kernelspec": {
   "display_name": "Python 3",
   "language": "python",
   "name": "python3"
  },
  "language_info": {
   "codemirror_mode": {
    "name": "ipython",
    "version": 3
   },
   "file_extension": ".py",
   "mimetype": "text/x-python",
   "name": "python",
   "nbconvert_exporter": "python",
   "pygments_lexer": "ipython3",
   "version": "3.7.4"
  }
 },
 "nbformat": 4,
 "nbformat_minor": 2
}
