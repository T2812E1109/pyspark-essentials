{
 "cells": [
  {
   "cell_type": "markdown",
   "metadata": {},
   "source": [
    "# SQL Options in Spark HW\n",
    "\n",
    "Alirght let's apply what we learned in the lecture to a new dataset!\n",
    "\n",
    "**But first!**\n",
    "\n",
    "Let's start with Spark SQL. But first we need to create a Spark Session!"
   ]
  },
  {
   "cell_type": "code",
   "execution_count": 2,
   "metadata": {},
   "outputs": [
    {
     "data": {
      "text/plain": "<pyspark.sql.session.SparkSession at 0x2157f56f640>",
      "text/html": "\n            <div>\n                <p><b>SparkSession - in-memory</b></p>\n                \n        <div>\n            <p><b>SparkContext</b></p>\n\n            <p><a href=\"http://host.docker.internal:4045\">Spark UI</a></p>\n\n            <dl>\n              <dt>Version</dt>\n                <dd><code>v3.2.4</code></dd>\n              <dt>Master</dt>\n                <dd><code>local[*]</code></dd>\n              <dt>AppName</dt>\n                <dd><code>SQLOptions</code></dd>\n            </dl>\n        </div>\n        \n            </div>\n        "
     },
     "execution_count": 2,
     "metadata": {},
     "output_type": "execute_result"
    }
   ],
   "source": [
    "import findspark\n",
    "\n",
    "findspark.init()\n",
    "\n",
    "from pyspark.sql import SparkSession\n",
    "from pyspark.sql import functions as F\n",
    "\n",
    "spark = SparkSession.builder.appName(\"SQLOptions\").master(\"local[*]\").getOrCreate()\n",
    "\n",
    "spark"
   ]
  },
  {
   "cell_type": "markdown",
   "metadata": {},
   "source": [
    "## Read in our DataFrame for this Notebook\n",
    "\n",
    "For this notebook we will be using the Google Play Store csv file attached to this lecture. Let's go ahead and read it in. \n",
    "\n",
    "### About this dataset\n",
    "\n",
    "Contains a list of Google Play Store Apps and info about the apps like the category, rating, reviews, size, etc. \n",
    "\n",
    "**Source:** https://www.kaggle.com/lava18/google-play-store-apps"
   ]
  },
  {
   "cell_type": "code",
   "execution_count": 3,
   "metadata": {
    "ExecuteTime": {
     "end_time": "2023-05-22T14:35:08.796273Z",
     "start_time": "2023-05-22T14:35:02.576113300Z"
    }
   },
   "outputs": [
    {
     "name": "stdout",
     "output_type": "stream",
     "text": [
      "root\n",
      " |-- App: string (nullable = true)\n",
      " |-- Category: string (nullable = true)\n",
      " |-- Rating: string (nullable = true)\n",
      " |-- Reviews: string (nullable = true)\n",
      " |-- Size: string (nullable = true)\n",
      " |-- Installs: string (nullable = true)\n",
      " |-- Type: string (nullable = true)\n",
      " |-- Price: string (nullable = true)\n",
      " |-- Content Rating: string (nullable = true)\n",
      " |-- Genres: string (nullable = true)\n",
      " |-- Last Updated: string (nullable = true)\n",
      " |-- Current Ver: string (nullable = true)\n",
      " |-- Android Ver: string (nullable = true)\n",
      "\n"
     ]
    }
   ],
   "source": [
    "gps = spark.read.csv(\n",
    "    path=r\"Datasets/googleplaystore.csv\",\n",
    "    inferSchema=True,\n",
    "    sep=\",\",\n",
    "    header=True,\n",
    ")\n",
    "\n",
    "gps.printSchema()"
   ]
  },
  {
   "cell_type": "markdown",
   "metadata": {},
   "source": [
    "## First things first\n",
    "\n",
    "Let's check out the first few lines of the dataframe to see what we are working with"
   ]
  },
  {
   "cell_type": "code",
   "execution_count": 4,
   "metadata": {
    "ExecuteTime": {
     "end_time": "2023-05-22T14:35:34.706979Z",
     "start_time": "2023-05-22T14:35:33.582228300Z"
    }
   },
   "outputs": [
    {
     "data": {
      "text/plain": "                                                 App        Category Rating   \n0     Photo Editor & Candy Camera & Grid & ScrapBook  ART_AND_DESIGN    4.1  \\\n1                                Coloring book moana  ART_AND_DESIGN    3.9   \n2  U Launcher Lite – FREE Live Cool Themes, Hide ...  ART_AND_DESIGN    4.7   \n3                              Sketch - Draw & Paint  ART_AND_DESIGN    4.5   \n4              Pixel Draw - Number Art Coloring Book  ART_AND_DESIGN    4.3   \n5                         Paper flowers instructions  ART_AND_DESIGN    4.4   \n6            Smoke Effect Photo Maker - Smoke Editor  ART_AND_DESIGN    3.8   \n7                                   Infinite Painter  ART_AND_DESIGN    4.1   \n8                               Garden Coloring Book  ART_AND_DESIGN    4.4   \n9                      Kids Paint Free - Drawing Fun  ART_AND_DESIGN    4.7   \n\n  Reviews  Size     Installs  Type Price Content Rating   \n0     159   19M      10,000+  Free     0       Everyone  \\\n1     967   14M     500,000+  Free     0       Everyone   \n2   87510  8.7M   5,000,000+  Free     0       Everyone   \n3  215644   25M  50,000,000+  Free     0           Teen   \n4     967  2.8M     100,000+  Free     0       Everyone   \n5     167  5.6M      50,000+  Free     0       Everyone   \n6     178   19M      50,000+  Free     0       Everyone   \n7   36815   29M   1,000,000+  Free     0       Everyone   \n8   13791   33M   1,000,000+  Free     0       Everyone   \n9     121  3.1M      10,000+  Free     0       Everyone   \n\n                      Genres        Last Updated         Current Ver   \n0               Art & Design     January 7, 2018               1.0.0  \\\n1  Art & Design;Pretend Play    January 15, 2018               2.0.0   \n2               Art & Design      August 1, 2018               1.2.4   \n3               Art & Design        June 8, 2018  Varies with device   \n4    Art & Design;Creativity       June 20, 2018                 1.1   \n5               Art & Design      March 26, 2017                 1.0   \n6               Art & Design      April 26, 2018                 1.1   \n7               Art & Design       June 14, 2018            6.1.61.1   \n8               Art & Design  September 20, 2017               2.9.2   \n9    Art & Design;Creativity        July 3, 2018                 2.8   \n\n    Android Ver  \n0  4.0.3 and up  \n1  4.0.3 and up  \n2  4.0.3 and up  \n3    4.2 and up  \n4    4.4 and up  \n5    2.3 and up  \n6  4.0.3 and up  \n7    4.2 and up  \n8    3.0 and up  \n9  4.0.3 and up  ",
      "text/html": "<div>\n<style scoped>\n    .dataframe tbody tr th:only-of-type {\n        vertical-align: middle;\n    }\n\n    .dataframe tbody tr th {\n        vertical-align: top;\n    }\n\n    .dataframe thead th {\n        text-align: right;\n    }\n</style>\n<table border=\"1\" class=\"dataframe\">\n  <thead>\n    <tr style=\"text-align: right;\">\n      <th></th>\n      <th>App</th>\n      <th>Category</th>\n      <th>Rating</th>\n      <th>Reviews</th>\n      <th>Size</th>\n      <th>Installs</th>\n      <th>Type</th>\n      <th>Price</th>\n      <th>Content Rating</th>\n      <th>Genres</th>\n      <th>Last Updated</th>\n      <th>Current Ver</th>\n      <th>Android Ver</th>\n    </tr>\n  </thead>\n  <tbody>\n    <tr>\n      <th>0</th>\n      <td>Photo Editor &amp; Candy Camera &amp; Grid &amp; ScrapBook</td>\n      <td>ART_AND_DESIGN</td>\n      <td>4.1</td>\n      <td>159</td>\n      <td>19M</td>\n      <td>10,000+</td>\n      <td>Free</td>\n      <td>0</td>\n      <td>Everyone</td>\n      <td>Art &amp; Design</td>\n      <td>January 7, 2018</td>\n      <td>1.0.0</td>\n      <td>4.0.3 and up</td>\n    </tr>\n    <tr>\n      <th>1</th>\n      <td>Coloring book moana</td>\n      <td>ART_AND_DESIGN</td>\n      <td>3.9</td>\n      <td>967</td>\n      <td>14M</td>\n      <td>500,000+</td>\n      <td>Free</td>\n      <td>0</td>\n      <td>Everyone</td>\n      <td>Art &amp; Design;Pretend Play</td>\n      <td>January 15, 2018</td>\n      <td>2.0.0</td>\n      <td>4.0.3 and up</td>\n    </tr>\n    <tr>\n      <th>2</th>\n      <td>U Launcher Lite – FREE Live Cool Themes, Hide ...</td>\n      <td>ART_AND_DESIGN</td>\n      <td>4.7</td>\n      <td>87510</td>\n      <td>8.7M</td>\n      <td>5,000,000+</td>\n      <td>Free</td>\n      <td>0</td>\n      <td>Everyone</td>\n      <td>Art &amp; Design</td>\n      <td>August 1, 2018</td>\n      <td>1.2.4</td>\n      <td>4.0.3 and up</td>\n    </tr>\n    <tr>\n      <th>3</th>\n      <td>Sketch - Draw &amp; Paint</td>\n      <td>ART_AND_DESIGN</td>\n      <td>4.5</td>\n      <td>215644</td>\n      <td>25M</td>\n      <td>50,000,000+</td>\n      <td>Free</td>\n      <td>0</td>\n      <td>Teen</td>\n      <td>Art &amp; Design</td>\n      <td>June 8, 2018</td>\n      <td>Varies with device</td>\n      <td>4.2 and up</td>\n    </tr>\n    <tr>\n      <th>4</th>\n      <td>Pixel Draw - Number Art Coloring Book</td>\n      <td>ART_AND_DESIGN</td>\n      <td>4.3</td>\n      <td>967</td>\n      <td>2.8M</td>\n      <td>100,000+</td>\n      <td>Free</td>\n      <td>0</td>\n      <td>Everyone</td>\n      <td>Art &amp; Design;Creativity</td>\n      <td>June 20, 2018</td>\n      <td>1.1</td>\n      <td>4.4 and up</td>\n    </tr>\n    <tr>\n      <th>5</th>\n      <td>Paper flowers instructions</td>\n      <td>ART_AND_DESIGN</td>\n      <td>4.4</td>\n      <td>167</td>\n      <td>5.6M</td>\n      <td>50,000+</td>\n      <td>Free</td>\n      <td>0</td>\n      <td>Everyone</td>\n      <td>Art &amp; Design</td>\n      <td>March 26, 2017</td>\n      <td>1.0</td>\n      <td>2.3 and up</td>\n    </tr>\n    <tr>\n      <th>6</th>\n      <td>Smoke Effect Photo Maker - Smoke Editor</td>\n      <td>ART_AND_DESIGN</td>\n      <td>3.8</td>\n      <td>178</td>\n      <td>19M</td>\n      <td>50,000+</td>\n      <td>Free</td>\n      <td>0</td>\n      <td>Everyone</td>\n      <td>Art &amp; Design</td>\n      <td>April 26, 2018</td>\n      <td>1.1</td>\n      <td>4.0.3 and up</td>\n    </tr>\n    <tr>\n      <th>7</th>\n      <td>Infinite Painter</td>\n      <td>ART_AND_DESIGN</td>\n      <td>4.1</td>\n      <td>36815</td>\n      <td>29M</td>\n      <td>1,000,000+</td>\n      <td>Free</td>\n      <td>0</td>\n      <td>Everyone</td>\n      <td>Art &amp; Design</td>\n      <td>June 14, 2018</td>\n      <td>6.1.61.1</td>\n      <td>4.2 and up</td>\n    </tr>\n    <tr>\n      <th>8</th>\n      <td>Garden Coloring Book</td>\n      <td>ART_AND_DESIGN</td>\n      <td>4.4</td>\n      <td>13791</td>\n      <td>33M</td>\n      <td>1,000,000+</td>\n      <td>Free</td>\n      <td>0</td>\n      <td>Everyone</td>\n      <td>Art &amp; Design</td>\n      <td>September 20, 2017</td>\n      <td>2.9.2</td>\n      <td>3.0 and up</td>\n    </tr>\n    <tr>\n      <th>9</th>\n      <td>Kids Paint Free - Drawing Fun</td>\n      <td>ART_AND_DESIGN</td>\n      <td>4.7</td>\n      <td>121</td>\n      <td>3.1M</td>\n      <td>10,000+</td>\n      <td>Free</td>\n      <td>0</td>\n      <td>Everyone</td>\n      <td>Art &amp; Design;Creativity</td>\n      <td>July 3, 2018</td>\n      <td>2.8</td>\n      <td>4.0.3 and up</td>\n    </tr>\n  </tbody>\n</table>\n</div>"
     },
     "execution_count": 4,
     "metadata": {},
     "output_type": "execute_result"
    }
   ],
   "source": [
    "gps.limit(10).toPandas()"
   ]
  },
  {
   "cell_type": "markdown",
   "metadata": {},
   "source": [
    "As well as the schema to make sure all the column types were correctly infered"
   ]
  },
  {
   "cell_type": "code",
   "execution_count": null,
   "metadata": {},
   "outputs": [],
   "source": [
    "# Done above"
   ]
  },
  {
   "cell_type": "markdown",
   "metadata": {},
   "source": [
    "Looks like we need to edit some of the datatypes. We need to update Rating, Reviews and Price as integer (float for Rating) values for now, since the Size and Installs variables will need a bit more cleaning. Since we haven't been over this yet, I'm going to provide the code for you here so you can get a quick look at how it used (and how often we need it!).\n",
    "\n",
    "**make sure to change the df name to whatever you named your df**"
   ]
  },
  {
   "cell_type": "code",
   "execution_count": 76,
   "metadata": {
    "ExecuteTime": {
     "end_time": "2023-05-22T15:10:05.103988400Z",
     "start_time": "2023-05-22T15:10:04.967435Z"
    }
   },
   "outputs": [
    {
     "name": "stdout",
     "output_type": "stream",
     "text": [
      "root\n",
      " |-- App: string (nullable = true)\n",
      " |-- Category: string (nullable = true)\n",
      " |-- Rating: float (nullable = true)\n",
      " |-- Reviews: integer (nullable = true)\n",
      " |-- Size: string (nullable = true)\n",
      " |-- Installs: string (nullable = true)\n",
      " |-- Type: string (nullable = true)\n",
      " |-- Price: integer (nullable = true)\n",
      " |-- Content Rating: string (nullable = true)\n",
      " |-- Genres: string (nullable = true)\n",
      " |-- Last Updated: string (nullable = true)\n",
      " |-- Current Ver: string (nullable = true)\n",
      " |-- Android Ver: string (nullable = true)\n",
      "\n",
      "None\n"
     ]
    },
    {
     "data": {
      "text/plain": "                                                 App        Category  Rating   \n0     Photo Editor & Candy Camera & Grid & ScrapBook  ART_AND_DESIGN     4.1  \\\n1                                Coloring book moana  ART_AND_DESIGN     3.9   \n2  U Launcher Lite – FREE Live Cool Themes, Hide ...  ART_AND_DESIGN     4.7   \n3                              Sketch - Draw & Paint  ART_AND_DESIGN     4.5   \n4              Pixel Draw - Number Art Coloring Book  ART_AND_DESIGN     4.3   \n\n   Reviews  Size     Installs  Type  Price Content Rating   \n0      159   19M      10,000+  Free      0       Everyone  \\\n1      967   14M     500,000+  Free      0       Everyone   \n2    87510  8.7M   5,000,000+  Free      0       Everyone   \n3   215644   25M  50,000,000+  Free      0           Teen   \n4      967  2.8M     100,000+  Free      0       Everyone   \n\n                      Genres      Last Updated         Current Ver   \n0               Art & Design   January 7, 2018               1.0.0  \\\n1  Art & Design;Pretend Play  January 15, 2018               2.0.0   \n2               Art & Design    August 1, 2018               1.2.4   \n3               Art & Design      June 8, 2018  Varies with device   \n4    Art & Design;Creativity     June 20, 2018                 1.1   \n\n    Android Ver  \n0  4.0.3 and up  \n1  4.0.3 and up  \n2  4.0.3 and up  \n3    4.2 and up  \n4    4.4 and up  ",
      "text/html": "<div>\n<style scoped>\n    .dataframe tbody tr th:only-of-type {\n        vertical-align: middle;\n    }\n\n    .dataframe tbody tr th {\n        vertical-align: top;\n    }\n\n    .dataframe thead th {\n        text-align: right;\n    }\n</style>\n<table border=\"1\" class=\"dataframe\">\n  <thead>\n    <tr style=\"text-align: right;\">\n      <th></th>\n      <th>App</th>\n      <th>Category</th>\n      <th>Rating</th>\n      <th>Reviews</th>\n      <th>Size</th>\n      <th>Installs</th>\n      <th>Type</th>\n      <th>Price</th>\n      <th>Content Rating</th>\n      <th>Genres</th>\n      <th>Last Updated</th>\n      <th>Current Ver</th>\n      <th>Android Ver</th>\n    </tr>\n  </thead>\n  <tbody>\n    <tr>\n      <th>0</th>\n      <td>Photo Editor &amp; Candy Camera &amp; Grid &amp; ScrapBook</td>\n      <td>ART_AND_DESIGN</td>\n      <td>4.1</td>\n      <td>159</td>\n      <td>19M</td>\n      <td>10,000+</td>\n      <td>Free</td>\n      <td>0</td>\n      <td>Everyone</td>\n      <td>Art &amp; Design</td>\n      <td>January 7, 2018</td>\n      <td>1.0.0</td>\n      <td>4.0.3 and up</td>\n    </tr>\n    <tr>\n      <th>1</th>\n      <td>Coloring book moana</td>\n      <td>ART_AND_DESIGN</td>\n      <td>3.9</td>\n      <td>967</td>\n      <td>14M</td>\n      <td>500,000+</td>\n      <td>Free</td>\n      <td>0</td>\n      <td>Everyone</td>\n      <td>Art &amp; Design;Pretend Play</td>\n      <td>January 15, 2018</td>\n      <td>2.0.0</td>\n      <td>4.0.3 and up</td>\n    </tr>\n    <tr>\n      <th>2</th>\n      <td>U Launcher Lite – FREE Live Cool Themes, Hide ...</td>\n      <td>ART_AND_DESIGN</td>\n      <td>4.7</td>\n      <td>87510</td>\n      <td>8.7M</td>\n      <td>5,000,000+</td>\n      <td>Free</td>\n      <td>0</td>\n      <td>Everyone</td>\n      <td>Art &amp; Design</td>\n      <td>August 1, 2018</td>\n      <td>1.2.4</td>\n      <td>4.0.3 and up</td>\n    </tr>\n    <tr>\n      <th>3</th>\n      <td>Sketch - Draw &amp; Paint</td>\n      <td>ART_AND_DESIGN</td>\n      <td>4.5</td>\n      <td>215644</td>\n      <td>25M</td>\n      <td>50,000,000+</td>\n      <td>Free</td>\n      <td>0</td>\n      <td>Teen</td>\n      <td>Art &amp; Design</td>\n      <td>June 8, 2018</td>\n      <td>Varies with device</td>\n      <td>4.2 and up</td>\n    </tr>\n    <tr>\n      <th>4</th>\n      <td>Pixel Draw - Number Art Coloring Book</td>\n      <td>ART_AND_DESIGN</td>\n      <td>4.3</td>\n      <td>967</td>\n      <td>2.8M</td>\n      <td>100,000+</td>\n      <td>Free</td>\n      <td>0</td>\n      <td>Everyone</td>\n      <td>Art &amp; Design;Creativity</td>\n      <td>June 20, 2018</td>\n      <td>1.1</td>\n      <td>4.4 and up</td>\n    </tr>\n  </tbody>\n</table>\n</div>"
     },
     "execution_count": 76,
     "metadata": {},
     "output_type": "execute_result"
    }
   ],
   "source": [
    "from pyspark.sql.types import IntegerType, FloatType\n",
    "\n",
    "new_gps = gps.withColumn(\"Rating\", gps[\"Rating\"].cast(FloatType())) \\\n",
    "            .withColumn(\"Reviews\", gps[\"Reviews\"].cast(IntegerType())) \\\n",
    "            .withColumn(\"Price\", gps[\"Price\"].cast(IntegerType()))\n",
    "print(new_gps.printSchema())\n",
    "new_gps.limit(5).toPandas()"
   ]
  },
  {
   "cell_type": "markdown",
   "metadata": {},
   "source": [
    "Looks like that worked! Great! Let's dig in. "
   ]
  },
  {
   "cell_type": "markdown",
   "metadata": {},
   "source": [
    "## 1. Create Tempview\n",
    "\n",
    "Go ahead and create a tempview of the dataframe so we can work with it in spark sql."
   ]
  },
  {
   "cell_type": "code",
   "execution_count": 77,
   "metadata": {
    "ExecuteTime": {
     "end_time": "2023-05-22T15:11:09.427701900Z",
     "start_time": "2023-05-22T15:11:09.379775100Z"
    }
   },
   "outputs": [],
   "source": [
    "new_gps.createOrReplaceTempView(\"NEWGPS\")"
   ]
  },
  {
   "cell_type": "markdown",
   "metadata": {},
   "source": [
    "## 2. Select all apps with ratings above 4.1\n",
    "\n",
    "Use your tempview to select all apps with ratings above 4.1"
   ]
  },
  {
   "cell_type": "code",
   "execution_count": 78,
   "metadata": {
    "ExecuteTime": {
     "end_time": "2023-05-22T15:11:16.885956700Z",
     "start_time": "2023-05-22T15:11:16.760759800Z"
    }
   },
   "outputs": [
    {
     "data": {
      "text/plain": "                                                 App        Category  Rating   \n0  U Launcher Lite – FREE Live Cool Themes, Hide ...  ART_AND_DESIGN     4.7  \\\n1                              Sketch - Draw & Paint  ART_AND_DESIGN     4.5   \n2              Pixel Draw - Number Art Coloring Book  ART_AND_DESIGN     4.3   \n3                         Paper flowers instructions  ART_AND_DESIGN     4.4   \n4                               Garden Coloring Book  ART_AND_DESIGN     4.4   \n\n   Reviews  Size     Installs  Type  Price Content Rating   \n0    87510  8.7M   5,000,000+  Free      0       Everyone  \\\n1   215644   25M  50,000,000+  Free      0           Teen   \n2      967  2.8M     100,000+  Free      0       Everyone   \n3      167  5.6M      50,000+  Free      0       Everyone   \n4    13791   33M   1,000,000+  Free      0       Everyone   \n\n                    Genres        Last Updated         Current Ver   \n0             Art & Design      August 1, 2018               1.2.4  \\\n1             Art & Design        June 8, 2018  Varies with device   \n2  Art & Design;Creativity       June 20, 2018                 1.1   \n3             Art & Design      March 26, 2017                 1.0   \n4             Art & Design  September 20, 2017               2.9.2   \n\n    Android Ver  \n0  4.0.3 and up  \n1    4.2 and up  \n2    4.4 and up  \n3    2.3 and up  \n4    3.0 and up  ",
      "text/html": "<div>\n<style scoped>\n    .dataframe tbody tr th:only-of-type {\n        vertical-align: middle;\n    }\n\n    .dataframe tbody tr th {\n        vertical-align: top;\n    }\n\n    .dataframe thead th {\n        text-align: right;\n    }\n</style>\n<table border=\"1\" class=\"dataframe\">\n  <thead>\n    <tr style=\"text-align: right;\">\n      <th></th>\n      <th>App</th>\n      <th>Category</th>\n      <th>Rating</th>\n      <th>Reviews</th>\n      <th>Size</th>\n      <th>Installs</th>\n      <th>Type</th>\n      <th>Price</th>\n      <th>Content Rating</th>\n      <th>Genres</th>\n      <th>Last Updated</th>\n      <th>Current Ver</th>\n      <th>Android Ver</th>\n    </tr>\n  </thead>\n  <tbody>\n    <tr>\n      <th>0</th>\n      <td>U Launcher Lite – FREE Live Cool Themes, Hide ...</td>\n      <td>ART_AND_DESIGN</td>\n      <td>4.7</td>\n      <td>87510</td>\n      <td>8.7M</td>\n      <td>5,000,000+</td>\n      <td>Free</td>\n      <td>0</td>\n      <td>Everyone</td>\n      <td>Art &amp; Design</td>\n      <td>August 1, 2018</td>\n      <td>1.2.4</td>\n      <td>4.0.3 and up</td>\n    </tr>\n    <tr>\n      <th>1</th>\n      <td>Sketch - Draw &amp; Paint</td>\n      <td>ART_AND_DESIGN</td>\n      <td>4.5</td>\n      <td>215644</td>\n      <td>25M</td>\n      <td>50,000,000+</td>\n      <td>Free</td>\n      <td>0</td>\n      <td>Teen</td>\n      <td>Art &amp; Design</td>\n      <td>June 8, 2018</td>\n      <td>Varies with device</td>\n      <td>4.2 and up</td>\n    </tr>\n    <tr>\n      <th>2</th>\n      <td>Pixel Draw - Number Art Coloring Book</td>\n      <td>ART_AND_DESIGN</td>\n      <td>4.3</td>\n      <td>967</td>\n      <td>2.8M</td>\n      <td>100,000+</td>\n      <td>Free</td>\n      <td>0</td>\n      <td>Everyone</td>\n      <td>Art &amp; Design;Creativity</td>\n      <td>June 20, 2018</td>\n      <td>1.1</td>\n      <td>4.4 and up</td>\n    </tr>\n    <tr>\n      <th>3</th>\n      <td>Paper flowers instructions</td>\n      <td>ART_AND_DESIGN</td>\n      <td>4.4</td>\n      <td>167</td>\n      <td>5.6M</td>\n      <td>50,000+</td>\n      <td>Free</td>\n      <td>0</td>\n      <td>Everyone</td>\n      <td>Art &amp; Design</td>\n      <td>March 26, 2017</td>\n      <td>1.0</td>\n      <td>2.3 and up</td>\n    </tr>\n    <tr>\n      <th>4</th>\n      <td>Garden Coloring Book</td>\n      <td>ART_AND_DESIGN</td>\n      <td>4.4</td>\n      <td>13791</td>\n      <td>33M</td>\n      <td>1,000,000+</td>\n      <td>Free</td>\n      <td>0</td>\n      <td>Everyone</td>\n      <td>Art &amp; Design</td>\n      <td>September 20, 2017</td>\n      <td>2.9.2</td>\n      <td>3.0 and up</td>\n    </tr>\n  </tbody>\n</table>\n</div>"
     },
     "execution_count": 78,
     "metadata": {},
     "output_type": "execute_result"
    }
   ],
   "source": [
    "spark.sql(\n",
    "    \"\"\"\n",
    "    SELECT *\n",
    "    FROM NEWGPS\n",
    "    WHERE Rating > 4.1\n",
    "    \"\"\"\n",
    ").limit(5).toPandas()"
   ]
  },
  {
   "cell_type": "markdown",
   "metadata": {},
   "source": [
    "## 3. Now pass your results to an object \n",
    "(ie create a spark dataframe)\n",
    "\n",
    "Select just the App and Rating column where the Category is in the Comic category and the Rating is above 4.5."
   ]
  },
  {
   "cell_type": "code",
   "execution_count": 80,
   "metadata": {
    "ExecuteTime": {
     "end_time": "2023-05-22T15:12:46.463671500Z",
     "start_time": "2023-05-22T15:12:46.303659700Z"
    }
   },
   "outputs": [
    {
     "name": "stdout",
     "output_type": "stream",
     "text": [
      "root\n",
      " |-- App: string (nullable = true)\n",
      " |-- Category: string (nullable = true)\n",
      " |-- Rating: float (nullable = true)\n",
      " |-- Reviews: integer (nullable = true)\n",
      " |-- Size: string (nullable = true)\n",
      " |-- Installs: string (nullable = true)\n",
      " |-- Type: string (nullable = true)\n",
      " |-- Price: integer (nullable = true)\n",
      " |-- Content Rating: string (nullable = true)\n",
      " |-- Genres: string (nullable = true)\n",
      " |-- Last Updated: string (nullable = true)\n",
      " |-- Current Ver: string (nullable = true)\n",
      " |-- Android Ver: string (nullable = true)\n",
      "\n"
     ]
    },
    {
     "data": {
      "text/plain": "                                                 App  Rating\n0           Manga Master - Best manga & comic reader     4.6\n1  GANMA! - All original stories free of charge f...     4.7\n2                          Röhrich Werner Soundboard     4.7\n3                    Unicorn Pokez - Color By Number     4.8\n4                      Manga - read Thai translation     4.6",
      "text/html": "<div>\n<style scoped>\n    .dataframe tbody tr th:only-of-type {\n        vertical-align: middle;\n    }\n\n    .dataframe tbody tr th {\n        vertical-align: top;\n    }\n\n    .dataframe thead th {\n        text-align: right;\n    }\n</style>\n<table border=\"1\" class=\"dataframe\">\n  <thead>\n    <tr style=\"text-align: right;\">\n      <th></th>\n      <th>App</th>\n      <th>Rating</th>\n    </tr>\n  </thead>\n  <tbody>\n    <tr>\n      <th>0</th>\n      <td>Manga Master - Best manga &amp; comic reader</td>\n      <td>4.6</td>\n    </tr>\n    <tr>\n      <th>1</th>\n      <td>GANMA! - All original stories free of charge f...</td>\n      <td>4.7</td>\n    </tr>\n    <tr>\n      <th>2</th>\n      <td>Röhrich Werner Soundboard</td>\n      <td>4.7</td>\n    </tr>\n    <tr>\n      <th>3</th>\n      <td>Unicorn Pokez - Color By Number</td>\n      <td>4.8</td>\n    </tr>\n    <tr>\n      <th>4</th>\n      <td>Manga - read Thai translation</td>\n      <td>4.6</td>\n    </tr>\n  </tbody>\n</table>\n</div>"
     },
     "execution_count": 80,
     "metadata": {},
     "output_type": "execute_result"
    }
   ],
   "source": [
    "above45 = spark.sql(\n",
    "    \"\"\"\n",
    "    SELECT *\n",
    "    FROM NEWGPS\n",
    "    WHERE Rating > 4.1\n",
    "    \"\"\"\n",
    ")\n",
    "\n",
    "above45.printSchema()\n",
    "\n",
    "above45.createOrReplaceTempView(\n",
    "    \"ABOVE45\"\n",
    ")\n",
    "\n",
    "above45.select(\n",
    "    above45.App,\n",
    "    above45.Rating,\n",
    ").where(\n",
    "    (above45.Category.isin([\"COMICS\"])) &\n",
    "    (above45.Rating > 4.5)\n",
    ").limit(5).toPandas()"
   ]
  },
  {
   "cell_type": "code",
   "execution_count": 81,
   "outputs": [
    {
     "data": {
      "text/plain": "                                                 App  Rating\n0           Manga Master - Best manga & comic reader     4.6\n1  GANMA! - All original stories free of charge f...     4.7\n2                          Röhrich Werner Soundboard     4.7\n3                    Unicorn Pokez - Color By Number     4.8\n4                      Manga - read Thai translation     4.6",
      "text/html": "<div>\n<style scoped>\n    .dataframe tbody tr th:only-of-type {\n        vertical-align: middle;\n    }\n\n    .dataframe tbody tr th {\n        vertical-align: top;\n    }\n\n    .dataframe thead th {\n        text-align: right;\n    }\n</style>\n<table border=\"1\" class=\"dataframe\">\n  <thead>\n    <tr style=\"text-align: right;\">\n      <th></th>\n      <th>App</th>\n      <th>Rating</th>\n    </tr>\n  </thead>\n  <tbody>\n    <tr>\n      <th>0</th>\n      <td>Manga Master - Best manga &amp; comic reader</td>\n      <td>4.6</td>\n    </tr>\n    <tr>\n      <th>1</th>\n      <td>GANMA! - All original stories free of charge f...</td>\n      <td>4.7</td>\n    </tr>\n    <tr>\n      <th>2</th>\n      <td>Röhrich Werner Soundboard</td>\n      <td>4.7</td>\n    </tr>\n    <tr>\n      <th>3</th>\n      <td>Unicorn Pokez - Color By Number</td>\n      <td>4.8</td>\n    </tr>\n    <tr>\n      <th>4</th>\n      <td>Manga - read Thai translation</td>\n      <td>4.6</td>\n    </tr>\n  </tbody>\n</table>\n</div>"
     },
     "execution_count": 81,
     "metadata": {},
     "output_type": "execute_result"
    }
   ],
   "source": [
    "spark.sql(\n",
    "    \"\"\"\n",
    "    SELECT App, Rating\n",
    "    FROM ABOVE45\n",
    "    WHERE Category LIKE 'COMICS' AND Rating > 4.5\n",
    "    \"\"\"\n",
    ").limit(5).toPandas()"
   ],
   "metadata": {
    "collapsed": false,
    "ExecuteTime": {
     "end_time": "2023-05-22T15:12:53.763823400Z",
     "start_time": "2023-05-22T15:12:53.648697900Z"
    }
   }
  },
  {
   "cell_type": "markdown",
   "metadata": {},
   "source": [
    "## 4. Which category has the most cumulative reviews\n",
    "\n",
    "Only select the one category with the most reivews. \n",
    "\n",
    "*Note: will require adding all the review together for each category*"
   ]
  },
  {
   "cell_type": "code",
   "execution_count": 90,
   "metadata": {
    "ExecuteTime": {
     "end_time": "2023-05-22T15:15:55.813545100Z",
     "start_time": "2023-05-22T15:15:55.458689700Z"
    }
   },
   "outputs": [
    {
     "data": {
      "text/plain": "               Category  sum(Reviews)\n0                EVENTS  6.665000e+04\n1                COMICS  3.148919e+06\n2                SPORTS  6.261762e+07\n3               WEATHER  1.425710e+07\n4         VIDEO_PLAYERS  1.071419e+08\n5     AUTO_AND_VEHICLES  1.136069e+06\n6             PARENTING  9.095690e+05\n7         ENTERTAINMENT  5.160514e+07\n8       PERSONALIZATION  8.805141e+07\n9    HEALTH_AND_FITNESS  3.653788e+07\n10     TRAVEL_AND_LOCAL  6.078726e+07\n11  BOOKS_AND_REFERENCE  1.936210e+07\n12       FOOD_AND_DRINK  7.343168e+06\n13          PHOTOGRAPHY  2.095909e+08\n14             BUSINESS  1.050132e+07\n15               FAMILY  3.880077e+08\n16             SHOPPING  1.132498e+08\n17       HOUSE_AND_HOME  3.659491e+06\n18                 GAME  1.546773e+09\n19                  1.9           NaN\n20            EDUCATION  3.923378e+07\n21         PRODUCTIVITY  1.106774e+08\n22                TOOLS  2.679220e+08\n23            LIFESTYLE  8.686997e+06\n24   NEWS_AND_MAGAZINES  4.838490e+07\n25              MEDICAL  1.530033e+06\n26        COMMUNICATION  5.983334e+08\n27  MAPS_AND_NAVIGATION  2.995166e+07\n28               DATING  3.594322e+06\n29   LIBRARIES_AND_DEMO  7.196830e+05\n30               BEAUTY  2.246130e+05\n31               SOCIAL  3.836680e+08\n32              FINANCE  1.615017e+07\n33       ART_AND_DESIGN  1.633869e+06",
      "text/html": "<div>\n<style scoped>\n    .dataframe tbody tr th:only-of-type {\n        vertical-align: middle;\n    }\n\n    .dataframe tbody tr th {\n        vertical-align: top;\n    }\n\n    .dataframe thead th {\n        text-align: right;\n    }\n</style>\n<table border=\"1\" class=\"dataframe\">\n  <thead>\n    <tr style=\"text-align: right;\">\n      <th></th>\n      <th>Category</th>\n      <th>sum(Reviews)</th>\n    </tr>\n  </thead>\n  <tbody>\n    <tr>\n      <th>0</th>\n      <td>EVENTS</td>\n      <td>6.665000e+04</td>\n    </tr>\n    <tr>\n      <th>1</th>\n      <td>COMICS</td>\n      <td>3.148919e+06</td>\n    </tr>\n    <tr>\n      <th>2</th>\n      <td>SPORTS</td>\n      <td>6.261762e+07</td>\n    </tr>\n    <tr>\n      <th>3</th>\n      <td>WEATHER</td>\n      <td>1.425710e+07</td>\n    </tr>\n    <tr>\n      <th>4</th>\n      <td>VIDEO_PLAYERS</td>\n      <td>1.071419e+08</td>\n    </tr>\n    <tr>\n      <th>5</th>\n      <td>AUTO_AND_VEHICLES</td>\n      <td>1.136069e+06</td>\n    </tr>\n    <tr>\n      <th>6</th>\n      <td>PARENTING</td>\n      <td>9.095690e+05</td>\n    </tr>\n    <tr>\n      <th>7</th>\n      <td>ENTERTAINMENT</td>\n      <td>5.160514e+07</td>\n    </tr>\n    <tr>\n      <th>8</th>\n      <td>PERSONALIZATION</td>\n      <td>8.805141e+07</td>\n    </tr>\n    <tr>\n      <th>9</th>\n      <td>HEALTH_AND_FITNESS</td>\n      <td>3.653788e+07</td>\n    </tr>\n    <tr>\n      <th>10</th>\n      <td>TRAVEL_AND_LOCAL</td>\n      <td>6.078726e+07</td>\n    </tr>\n    <tr>\n      <th>11</th>\n      <td>BOOKS_AND_REFERENCE</td>\n      <td>1.936210e+07</td>\n    </tr>\n    <tr>\n      <th>12</th>\n      <td>FOOD_AND_DRINK</td>\n      <td>7.343168e+06</td>\n    </tr>\n    <tr>\n      <th>13</th>\n      <td>PHOTOGRAPHY</td>\n      <td>2.095909e+08</td>\n    </tr>\n    <tr>\n      <th>14</th>\n      <td>BUSINESS</td>\n      <td>1.050132e+07</td>\n    </tr>\n    <tr>\n      <th>15</th>\n      <td>FAMILY</td>\n      <td>3.880077e+08</td>\n    </tr>\n    <tr>\n      <th>16</th>\n      <td>SHOPPING</td>\n      <td>1.132498e+08</td>\n    </tr>\n    <tr>\n      <th>17</th>\n      <td>HOUSE_AND_HOME</td>\n      <td>3.659491e+06</td>\n    </tr>\n    <tr>\n      <th>18</th>\n      <td>GAME</td>\n      <td>1.546773e+09</td>\n    </tr>\n    <tr>\n      <th>19</th>\n      <td>1.9</td>\n      <td>NaN</td>\n    </tr>\n    <tr>\n      <th>20</th>\n      <td>EDUCATION</td>\n      <td>3.923378e+07</td>\n    </tr>\n    <tr>\n      <th>21</th>\n      <td>PRODUCTIVITY</td>\n      <td>1.106774e+08</td>\n    </tr>\n    <tr>\n      <th>22</th>\n      <td>TOOLS</td>\n      <td>2.679220e+08</td>\n    </tr>\n    <tr>\n      <th>23</th>\n      <td>LIFESTYLE</td>\n      <td>8.686997e+06</td>\n    </tr>\n    <tr>\n      <th>24</th>\n      <td>NEWS_AND_MAGAZINES</td>\n      <td>4.838490e+07</td>\n    </tr>\n    <tr>\n      <th>25</th>\n      <td>MEDICAL</td>\n      <td>1.530033e+06</td>\n    </tr>\n    <tr>\n      <th>26</th>\n      <td>COMMUNICATION</td>\n      <td>5.983334e+08</td>\n    </tr>\n    <tr>\n      <th>27</th>\n      <td>MAPS_AND_NAVIGATION</td>\n      <td>2.995166e+07</td>\n    </tr>\n    <tr>\n      <th>28</th>\n      <td>DATING</td>\n      <td>3.594322e+06</td>\n    </tr>\n    <tr>\n      <th>29</th>\n      <td>LIBRARIES_AND_DEMO</td>\n      <td>7.196830e+05</td>\n    </tr>\n    <tr>\n      <th>30</th>\n      <td>BEAUTY</td>\n      <td>2.246130e+05</td>\n    </tr>\n    <tr>\n      <th>31</th>\n      <td>SOCIAL</td>\n      <td>3.836680e+08</td>\n    </tr>\n    <tr>\n      <th>32</th>\n      <td>FINANCE</td>\n      <td>1.615017e+07</td>\n    </tr>\n    <tr>\n      <th>33</th>\n      <td>ART_AND_DESIGN</td>\n      <td>1.633869e+06</td>\n    </tr>\n  </tbody>\n</table>\n</div>"
     },
     "execution_count": 90,
     "metadata": {},
     "output_type": "execute_result"
    }
   ],
   "source": [
    "above45.select(\n",
    "    \"Category\",\n",
    "    \"Reviews\",\n",
    ").groupBy(\n",
    "    \"Category\"\n",
    ").agg(\n",
    "    F.sum(\"Reviews\"),\n",
    ").toPandas()"
   ]
  },
  {
   "cell_type": "code",
   "execution_count": 88,
   "outputs": [
    {
     "data": {
      "text/plain": "               Category  sum(Reviews)\n0                EVENTS  6.665000e+04\n1                COMICS  3.148919e+06\n2                SPORTS  6.261762e+07\n3               WEATHER  1.425710e+07\n4         VIDEO_PLAYERS  1.071419e+08\n5     AUTO_AND_VEHICLES  1.136069e+06\n6             PARENTING  9.095690e+05\n7         ENTERTAINMENT  5.160514e+07\n8       PERSONALIZATION  8.805141e+07\n9    HEALTH_AND_FITNESS  3.653788e+07\n10     TRAVEL_AND_LOCAL  6.078726e+07\n11  BOOKS_AND_REFERENCE  1.936210e+07\n12       FOOD_AND_DRINK  7.343168e+06\n13          PHOTOGRAPHY  2.095909e+08\n14             BUSINESS  1.050132e+07\n15               FAMILY  3.880077e+08\n16             SHOPPING  1.132498e+08\n17       HOUSE_AND_HOME  3.659491e+06\n18                 GAME  1.546773e+09\n19                  1.9           NaN\n20            EDUCATION  3.923378e+07\n21         PRODUCTIVITY  1.106774e+08\n22                TOOLS  2.679220e+08\n23            LIFESTYLE  8.686997e+06\n24   NEWS_AND_MAGAZINES  4.838490e+07\n25              MEDICAL  1.530033e+06\n26        COMMUNICATION  5.983334e+08\n27  MAPS_AND_NAVIGATION  2.995166e+07\n28               DATING  3.594322e+06\n29   LIBRARIES_AND_DEMO  7.196830e+05\n30               BEAUTY  2.246130e+05\n31               SOCIAL  3.836680e+08\n32              FINANCE  1.615017e+07\n33       ART_AND_DESIGN  1.633869e+06",
      "text/html": "<div>\n<style scoped>\n    .dataframe tbody tr th:only-of-type {\n        vertical-align: middle;\n    }\n\n    .dataframe tbody tr th {\n        vertical-align: top;\n    }\n\n    .dataframe thead th {\n        text-align: right;\n    }\n</style>\n<table border=\"1\" class=\"dataframe\">\n  <thead>\n    <tr style=\"text-align: right;\">\n      <th></th>\n      <th>Category</th>\n      <th>sum(Reviews)</th>\n    </tr>\n  </thead>\n  <tbody>\n    <tr>\n      <th>0</th>\n      <td>EVENTS</td>\n      <td>6.665000e+04</td>\n    </tr>\n    <tr>\n      <th>1</th>\n      <td>COMICS</td>\n      <td>3.148919e+06</td>\n    </tr>\n    <tr>\n      <th>2</th>\n      <td>SPORTS</td>\n      <td>6.261762e+07</td>\n    </tr>\n    <tr>\n      <th>3</th>\n      <td>WEATHER</td>\n      <td>1.425710e+07</td>\n    </tr>\n    <tr>\n      <th>4</th>\n      <td>VIDEO_PLAYERS</td>\n      <td>1.071419e+08</td>\n    </tr>\n    <tr>\n      <th>5</th>\n      <td>AUTO_AND_VEHICLES</td>\n      <td>1.136069e+06</td>\n    </tr>\n    <tr>\n      <th>6</th>\n      <td>PARENTING</td>\n      <td>9.095690e+05</td>\n    </tr>\n    <tr>\n      <th>7</th>\n      <td>ENTERTAINMENT</td>\n      <td>5.160514e+07</td>\n    </tr>\n    <tr>\n      <th>8</th>\n      <td>PERSONALIZATION</td>\n      <td>8.805141e+07</td>\n    </tr>\n    <tr>\n      <th>9</th>\n      <td>HEALTH_AND_FITNESS</td>\n      <td>3.653788e+07</td>\n    </tr>\n    <tr>\n      <th>10</th>\n      <td>TRAVEL_AND_LOCAL</td>\n      <td>6.078726e+07</td>\n    </tr>\n    <tr>\n      <th>11</th>\n      <td>BOOKS_AND_REFERENCE</td>\n      <td>1.936210e+07</td>\n    </tr>\n    <tr>\n      <th>12</th>\n      <td>FOOD_AND_DRINK</td>\n      <td>7.343168e+06</td>\n    </tr>\n    <tr>\n      <th>13</th>\n      <td>PHOTOGRAPHY</td>\n      <td>2.095909e+08</td>\n    </tr>\n    <tr>\n      <th>14</th>\n      <td>BUSINESS</td>\n      <td>1.050132e+07</td>\n    </tr>\n    <tr>\n      <th>15</th>\n      <td>FAMILY</td>\n      <td>3.880077e+08</td>\n    </tr>\n    <tr>\n      <th>16</th>\n      <td>SHOPPING</td>\n      <td>1.132498e+08</td>\n    </tr>\n    <tr>\n      <th>17</th>\n      <td>HOUSE_AND_HOME</td>\n      <td>3.659491e+06</td>\n    </tr>\n    <tr>\n      <th>18</th>\n      <td>GAME</td>\n      <td>1.546773e+09</td>\n    </tr>\n    <tr>\n      <th>19</th>\n      <td>1.9</td>\n      <td>NaN</td>\n    </tr>\n    <tr>\n      <th>20</th>\n      <td>EDUCATION</td>\n      <td>3.923378e+07</td>\n    </tr>\n    <tr>\n      <th>21</th>\n      <td>PRODUCTIVITY</td>\n      <td>1.106774e+08</td>\n    </tr>\n    <tr>\n      <th>22</th>\n      <td>TOOLS</td>\n      <td>2.679220e+08</td>\n    </tr>\n    <tr>\n      <th>23</th>\n      <td>LIFESTYLE</td>\n      <td>8.686997e+06</td>\n    </tr>\n    <tr>\n      <th>24</th>\n      <td>NEWS_AND_MAGAZINES</td>\n      <td>4.838490e+07</td>\n    </tr>\n    <tr>\n      <th>25</th>\n      <td>MEDICAL</td>\n      <td>1.530033e+06</td>\n    </tr>\n    <tr>\n      <th>26</th>\n      <td>COMMUNICATION</td>\n      <td>5.983334e+08</td>\n    </tr>\n    <tr>\n      <th>27</th>\n      <td>MAPS_AND_NAVIGATION</td>\n      <td>2.995166e+07</td>\n    </tr>\n    <tr>\n      <th>28</th>\n      <td>DATING</td>\n      <td>3.594322e+06</td>\n    </tr>\n    <tr>\n      <th>29</th>\n      <td>LIBRARIES_AND_DEMO</td>\n      <td>7.196830e+05</td>\n    </tr>\n    <tr>\n      <th>30</th>\n      <td>BEAUTY</td>\n      <td>2.246130e+05</td>\n    </tr>\n    <tr>\n      <th>31</th>\n      <td>SOCIAL</td>\n      <td>3.836680e+08</td>\n    </tr>\n    <tr>\n      <th>32</th>\n      <td>FINANCE</td>\n      <td>1.615017e+07</td>\n    </tr>\n    <tr>\n      <th>33</th>\n      <td>ART_AND_DESIGN</td>\n      <td>1.633869e+06</td>\n    </tr>\n  </tbody>\n</table>\n</div>"
     },
     "execution_count": 88,
     "metadata": {},
     "output_type": "execute_result"
    }
   ],
   "source": [
    "spark.sql(\n",
    "    \"\"\"\n",
    "    SELECT Category, SUM(Reviews)\n",
    "    FROM ABOVE45\n",
    "    GROUP BY Category\n",
    "    \"\"\"\n",
    ").toPandas()"
   ],
   "metadata": {
    "collapsed": false,
    "ExecuteTime": {
     "end_time": "2023-05-22T15:15:27.075808600Z",
     "start_time": "2023-05-22T15:15:26.802746200Z"
    }
   }
  },
  {
   "cell_type": "markdown",
   "metadata": {},
   "source": [
    "## 5. Which App has the most reviews?\n",
    "\n",
    "Display ONLY the top result\n",
    "\n",
    "Include only the App column and the Reviews column."
   ]
  },
  {
   "cell_type": "code",
   "execution_count": 91,
   "metadata": {
    "ExecuteTime": {
     "end_time": "2023-05-22T15:16:09.034332400Z",
     "start_time": "2023-05-22T15:16:08.759145800Z"
    }
   },
   "outputs": [
    {
     "data": {
      "text/plain": "                  App   Reviews\n0  WhatsApp Messenger  69119316",
      "text/html": "<div>\n<style scoped>\n    .dataframe tbody tr th:only-of-type {\n        vertical-align: middle;\n    }\n\n    .dataframe tbody tr th {\n        vertical-align: top;\n    }\n\n    .dataframe thead th {\n        text-align: right;\n    }\n</style>\n<table border=\"1\" class=\"dataframe\">\n  <thead>\n    <tr style=\"text-align: right;\">\n      <th></th>\n      <th>App</th>\n      <th>Reviews</th>\n    </tr>\n  </thead>\n  <tbody>\n    <tr>\n      <th>0</th>\n      <td>WhatsApp Messenger</td>\n      <td>69119316</td>\n    </tr>\n  </tbody>\n</table>\n</div>"
     },
     "execution_count": 91,
     "metadata": {},
     "output_type": "execute_result"
    }
   ],
   "source": [
    "above45.select(\n",
    "    \"App\",\n",
    "    \"Reviews\",\n",
    ").orderBy(\n",
    "    F.desc(\"Reviews\"),\n",
    ").limit(1).toPandas()"
   ]
  },
  {
   "cell_type": "code",
   "execution_count": 93,
   "outputs": [
    {
     "data": {
      "text/plain": "                  App   Reviews\n0  WhatsApp Messenger  69119316",
      "text/html": "<div>\n<style scoped>\n    .dataframe tbody tr th:only-of-type {\n        vertical-align: middle;\n    }\n\n    .dataframe tbody tr th {\n        vertical-align: top;\n    }\n\n    .dataframe thead th {\n        text-align: right;\n    }\n</style>\n<table border=\"1\" class=\"dataframe\">\n  <thead>\n    <tr style=\"text-align: right;\">\n      <th></th>\n      <th>App</th>\n      <th>Reviews</th>\n    </tr>\n  </thead>\n  <tbody>\n    <tr>\n      <th>0</th>\n      <td>WhatsApp Messenger</td>\n      <td>69119316</td>\n    </tr>\n  </tbody>\n</table>\n</div>"
     },
     "execution_count": 93,
     "metadata": {},
     "output_type": "execute_result"
    }
   ],
   "source": [
    "spark.sql(\n",
    "    \"\"\"\n",
    "    SELECT App, Reviews\n",
    "    FROM ABOVE45\n",
    "    ORDER BY Reviews DESC\n",
    "    \"\"\"\n",
    ").limit(1).toPandas()"
   ],
   "metadata": {
    "collapsed": false,
    "ExecuteTime": {
     "end_time": "2023-05-22T15:16:32.216537100Z",
     "start_time": "2023-05-22T15:16:32.059936300Z"
    }
   }
  },
  {
   "cell_type": "markdown",
   "metadata": {},
   "source": [
    "## 5. Select all apps that contain the word 'dating' anywhere in the title\n",
    "\n",
    "*Note: we did not cover this in the lecture. You'll have to use your SQL knowledge :) Google it if you need to.*"
   ]
  },
  {
   "cell_type": "code",
   "execution_count": 0,
   "metadata": {},
   "outputs": [],
   "source": [
    "above45.select(\n",
    "    \"App\"\n",
    ").where(\n",
    "    F.col(\"App\").contains(\"dating\")\n",
    ").toPandas()"
   ]
  },
  {
   "cell_type": "code",
   "execution_count": 96,
   "outputs": [
    {
     "data": {
      "text/plain": "                                             App\n0      Friend Find: free chat + flirt dating app\n1                          Spine- The dating app\n2  Princess Closet : Otome games free dating sim\n3                       happn – Local dating app",
      "text/html": "<div>\n<style scoped>\n    .dataframe tbody tr th:only-of-type {\n        vertical-align: middle;\n    }\n\n    .dataframe tbody tr th {\n        vertical-align: top;\n    }\n\n    .dataframe thead th {\n        text-align: right;\n    }\n</style>\n<table border=\"1\" class=\"dataframe\">\n  <thead>\n    <tr style=\"text-align: right;\">\n      <th></th>\n      <th>App</th>\n    </tr>\n  </thead>\n  <tbody>\n    <tr>\n      <th>0</th>\n      <td>Friend Find: free chat + flirt dating app</td>\n    </tr>\n    <tr>\n      <th>1</th>\n      <td>Spine- The dating app</td>\n    </tr>\n    <tr>\n      <th>2</th>\n      <td>Princess Closet : Otome games free dating sim</td>\n    </tr>\n    <tr>\n      <th>3</th>\n      <td>happn – Local dating app</td>\n    </tr>\n  </tbody>\n</table>\n</div>"
     },
     "execution_count": 96,
     "metadata": {},
     "output_type": "execute_result"
    }
   ],
   "source": [
    "spark.sql(\n",
    "    \"\"\"\n",
    "    SELECT App\n",
    "    FROM ABOVE45\n",
    "    WHERE App LIKE \"%dating%\"\n",
    "    \"\"\"\n",
    ").toPandas()"
   ],
   "metadata": {
    "collapsed": false,
    "ExecuteTime": {
     "end_time": "2023-05-22T15:20:00.705314900Z",
     "start_time": "2023-05-22T15:20:00.414184400Z"
    }
   }
  },
  {
   "cell_type": "markdown",
   "metadata": {},
   "source": [
    "## 6. Use SQL Transformer to display how many free apps there are in this list"
   ]
  },
  {
   "cell_type": "code",
   "execution_count": 101,
   "metadata": {
    "ExecuteTime": {
     "end_time": "2023-05-22T15:23:20.474367300Z",
     "start_time": "2023-05-22T15:23:20.212457700Z"
    }
   },
   "outputs": [
    {
     "data": {
      "text/plain": "   count(APP)\n0        6939",
      "text/html": "<div>\n<style scoped>\n    .dataframe tbody tr th:only-of-type {\n        vertical-align: middle;\n    }\n\n    .dataframe tbody tr th {\n        vertical-align: top;\n    }\n\n    .dataframe thead th {\n        text-align: right;\n    }\n</style>\n<table border=\"1\" class=\"dataframe\">\n  <thead>\n    <tr style=\"text-align: right;\">\n      <th></th>\n      <th>count(APP)</th>\n    </tr>\n  </thead>\n  <tbody>\n    <tr>\n      <th>0</th>\n      <td>6939</td>\n    </tr>\n  </tbody>\n</table>\n</div>"
     },
     "execution_count": 101,
     "metadata": {},
     "output_type": "execute_result"
    }
   ],
   "source": [
    "from pyspark.ml.feature import SQLTransformer\n",
    "\n",
    "trans = SQLTransformer(\n",
    "    statement=\"\"\"\n",
    "    SELECT COUNT(APP)\n",
    "    FROM __THIS__\n",
    "    WHERE PRICE = 0\n",
    "    \"\"\"\n",
    ")\n",
    "\n",
    "trans.transform(above45).toPandas()"
   ]
  },
  {
   "cell_type": "markdown",
   "metadata": {},
   "source": [
    "## 7. What is the most popular Genre?\n",
    "\n",
    "Which genre appears most often in the dataframe. Show only the top result."
   ]
  },
  {
   "cell_type": "code",
   "execution_count": 109,
   "metadata": {
    "ExecuteTime": {
     "end_time": "2023-05-22T15:27:51.156121500Z",
     "start_time": "2023-05-22T15:27:50.750895600Z"
    }
   },
   "outputs": [
    {
     "data": {
      "text/plain": "  Genres  Count\n0  Tools    511",
      "text/html": "<div>\n<style scoped>\n    .dataframe tbody tr th:only-of-type {\n        vertical-align: middle;\n    }\n\n    .dataframe tbody tr th {\n        vertical-align: top;\n    }\n\n    .dataframe thead th {\n        text-align: right;\n    }\n</style>\n<table border=\"1\" class=\"dataframe\">\n  <thead>\n    <tr style=\"text-align: right;\">\n      <th></th>\n      <th>Genres</th>\n      <th>Count</th>\n    </tr>\n  </thead>\n  <tbody>\n    <tr>\n      <th>0</th>\n      <td>Tools</td>\n      <td>511</td>\n    </tr>\n  </tbody>\n</table>\n</div>"
     },
     "execution_count": 109,
     "metadata": {},
     "output_type": "execute_result"
    }
   ],
   "source": [
    "above45.select(\n",
    "    \"Genres\",\n",
    ").groupBy(\n",
    "    \"Genres\",\n",
    ").agg(\n",
    "    F.count(\"Genres\").alias(\"Count\"),\n",
    ").orderBy(\n",
    "    F.desc(F.col(\"Count\"))\n",
    ").limit(1).toPandas()"
   ]
  },
  {
   "cell_type": "code",
   "execution_count": 112,
   "outputs": [
    {
     "data": {
      "text/plain": "  Genres  Count\n0  Tools    511",
      "text/html": "<div>\n<style scoped>\n    .dataframe tbody tr th:only-of-type {\n        vertical-align: middle;\n    }\n\n    .dataframe tbody tr th {\n        vertical-align: top;\n    }\n\n    .dataframe thead th {\n        text-align: right;\n    }\n</style>\n<table border=\"1\" class=\"dataframe\">\n  <thead>\n    <tr style=\"text-align: right;\">\n      <th></th>\n      <th>Genres</th>\n      <th>Count</th>\n    </tr>\n  </thead>\n  <tbody>\n    <tr>\n      <th>0</th>\n      <td>Tools</td>\n      <td>511</td>\n    </tr>\n  </tbody>\n</table>\n</div>"
     },
     "execution_count": 112,
     "metadata": {},
     "output_type": "execute_result"
    }
   ],
   "source": [
    "spark.sql(\n",
    "    \"\"\"\n",
    "    SELECT Genres, COUNT(Genres) AS Count\n",
    "    FROM ABOVE45\n",
    "    GROUP BY Genres\n",
    "    ORDER BY Count DESC\n",
    "    \"\"\"\n",
    ").limit(1).toPandas()"
   ],
   "metadata": {
    "collapsed": false,
    "ExecuteTime": {
     "end_time": "2023-05-22T15:28:29.934372200Z",
     "start_time": "2023-05-22T15:28:29.469728Z"
    }
   }
  },
  {
   "cell_type": "markdown",
   "metadata": {},
   "source": [
    "## 8. Select all the apps in the 'Tools' genre that have more than 100 reviews"
   ]
  },
  {
   "cell_type": "code",
   "execution_count": 0,
   "metadata": {},
   "outputs": [],
   "source": [
    "above45.select(\n",
    "    \"App\",\n",
    "    \"Reviews\",\n",
    "    \"Genres\",\n",
    ").where(\n",
    "    (above45.Genres == \"Tools\") &\n",
    "    (above45.Reviews > 100)\n",
    ").toPandas()"
   ]
  },
  {
   "cell_type": "code",
   "execution_count": 116,
   "outputs": [
    {
     "data": {
      "text/plain": "                                                   App   Reviews Genres\n0                                               Google   8033493  Tools\n1                                     Google Translate   5745093  Tools\n2                                         Moto Display     18239  Tools\n3                                       Motorola Alert     24199  Tools\n4    Cache Cleaner-DU Speed Booster (booster & clea...  12759663  Tools\n..                                                 ...       ...    ...\n312                           Fingerprint Quick Action      8484  Tools\n313                            Finger Scanner Gestures      2531  Tools\n314                                      ChopAssistant       455  Tools\n315                           Reindeer VPN - Proxy VPN      7339  Tools\n316   Inf VPN - Global Proxy & Unlimited Free WIFI VPN     61445  Tools\n\n[317 rows x 3 columns]",
      "text/html": "<div>\n<style scoped>\n    .dataframe tbody tr th:only-of-type {\n        vertical-align: middle;\n    }\n\n    .dataframe tbody tr th {\n        vertical-align: top;\n    }\n\n    .dataframe thead th {\n        text-align: right;\n    }\n</style>\n<table border=\"1\" class=\"dataframe\">\n  <thead>\n    <tr style=\"text-align: right;\">\n      <th></th>\n      <th>App</th>\n      <th>Reviews</th>\n      <th>Genres</th>\n    </tr>\n  </thead>\n  <tbody>\n    <tr>\n      <th>0</th>\n      <td>Google</td>\n      <td>8033493</td>\n      <td>Tools</td>\n    </tr>\n    <tr>\n      <th>1</th>\n      <td>Google Translate</td>\n      <td>5745093</td>\n      <td>Tools</td>\n    </tr>\n    <tr>\n      <th>2</th>\n      <td>Moto Display</td>\n      <td>18239</td>\n      <td>Tools</td>\n    </tr>\n    <tr>\n      <th>3</th>\n      <td>Motorola Alert</td>\n      <td>24199</td>\n      <td>Tools</td>\n    </tr>\n    <tr>\n      <th>4</th>\n      <td>Cache Cleaner-DU Speed Booster (booster &amp; clea...</td>\n      <td>12759663</td>\n      <td>Tools</td>\n    </tr>\n    <tr>\n      <th>...</th>\n      <td>...</td>\n      <td>...</td>\n      <td>...</td>\n    </tr>\n    <tr>\n      <th>312</th>\n      <td>Fingerprint Quick Action</td>\n      <td>8484</td>\n      <td>Tools</td>\n    </tr>\n    <tr>\n      <th>313</th>\n      <td>Finger Scanner Gestures</td>\n      <td>2531</td>\n      <td>Tools</td>\n    </tr>\n    <tr>\n      <th>314</th>\n      <td>ChopAssistant</td>\n      <td>455</td>\n      <td>Tools</td>\n    </tr>\n    <tr>\n      <th>315</th>\n      <td>Reindeer VPN - Proxy VPN</td>\n      <td>7339</td>\n      <td>Tools</td>\n    </tr>\n    <tr>\n      <th>316</th>\n      <td>Inf VPN - Global Proxy &amp; Unlimited Free WIFI VPN</td>\n      <td>61445</td>\n      <td>Tools</td>\n    </tr>\n  </tbody>\n</table>\n<p>317 rows × 3 columns</p>\n</div>"
     },
     "execution_count": 116,
     "metadata": {},
     "output_type": "execute_result"
    }
   ],
   "source": [
    "spark.sql(\n",
    "    \"\"\"\n",
    "    SELECT App, Reviews, Genres\n",
    "    FROM ABOVE45\n",
    "    WHERE Genres LIKE \"Tools\" AND Reviews > 100\n",
    "    \"\"\"\n",
    ").toPandas()"
   ],
   "metadata": {
    "collapsed": false,
    "ExecuteTime": {
     "end_time": "2023-05-22T15:35:36.371161400Z",
     "start_time": "2023-05-22T15:35:36.216473600Z"
    }
   }
  },
  {
   "cell_type": "markdown",
   "metadata": {},
   "source": [
    "## That's all folks! Great job!"
   ]
  }
 ],
 "metadata": {
  "kernelspec": {
   "display_name": "Python 3",
   "language": "python",
   "name": "python3"
  },
  "language_info": {
   "codemirror_mode": {
    "name": "ipython",
    "version": 3
   },
   "file_extension": ".py",
   "mimetype": "text/x-python",
   "name": "python",
   "nbconvert_exporter": "python",
   "pygments_lexer": "ipython3",
   "version": "3.7.4"
  }
 },
 "nbformat": 4,
 "nbformat_minor": 2
}
