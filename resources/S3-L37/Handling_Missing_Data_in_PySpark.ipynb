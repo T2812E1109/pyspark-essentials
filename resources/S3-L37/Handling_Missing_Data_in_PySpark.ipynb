{
 "cells": [
  {
   "cell_type": "markdown",
   "metadata": {},
   "source": [
    "# Handling Missing Data in PySpark\n",
    "\n",
    "In the real world, most datasets you work with will be incomplete, which means you will have missing data. You have 2 basic options for filling in missing data (you will personally have to make the decision for what is the right approach):\n",
    "\n",
    "1. Drop the missing data points (including the possbily the entire row)\n",
    "2. Fill them in with some other value (like the average).\n",
    "\n",
    "There are also two different types of missing data to be aware of:\n",
    "\n",
    "1. null values represents \"no value\" or \"nothing\", it's not even an empty string or zero. It can be used to represent that nothing useful exists. \n",
    "2. NaN stands for \"Not a Number\", it's usually the result of a mathematical operation that doesn't make sense, e.g. 0.0/0.0 \n",
    "\n",
    "Let's cover examples of each of these methods!"
   ]
  },
  {
   "cell_type": "code",
   "execution_count": 1,
   "metadata": {
    "ExecuteTime": {
     "end_time": "2023-05-24T14:56:51.199256500Z",
     "start_time": "2023-05-24T14:56:44.709536400Z"
    }
   },
   "outputs": [
    {
     "name": "stdout",
     "output_type": "stream",
     "text": [
      "You are working with 1 core(s)\n"
     ]
    },
    {
     "data": {
      "text/plain": "<pyspark.sql.session.SparkSession at 0x241b0fc8820>",
      "text/html": "\n            <div>\n                <p><b>SparkSession - in-memory</b></p>\n                \n        <div>\n            <p><b>SparkContext</b></p>\n\n            <p><a href=\"http://host.docker.internal:4042\">Spark UI</a></p>\n\n            <dl>\n              <dt>Version</dt>\n                <dd><code>v3.2.4</code></dd>\n              <dt>Master</dt>\n                <dd><code>local[*]</code></dd>\n              <dt>AppName</dt>\n                <dd><code>nulls</code></dd>\n            </dl>\n        </div>\n        \n            </div>\n        "
     },
     "execution_count": 1,
     "metadata": {},
     "output_type": "execute_result"
    }
   ],
   "source": [
    "import findspark\n",
    "\n",
    "findspark.init()\n",
    "\n",
    "import pyspark  # only run after findspark.init()\n",
    "from pyspark.sql import SparkSession\n",
    "\n",
    "# May take awhile locally\n",
    "spark = SparkSession.builder.appName(\"nulls\").getOrCreate()\n",
    "\n",
    "cores = spark._jsc.sc().getExecutorMemoryStatus().keySet().size()\n",
    "print(\"You are working with\", cores, \"core(s)\")\n",
    "spark"
   ]
  },
  {
   "cell_type": "markdown",
   "metadata": {},
   "source": [
    "## Read in data for this Notebook"
   ]
  },
  {
   "cell_type": "code",
   "execution_count": 2,
   "metadata": {
    "ExecuteTime": {
     "end_time": "2023-05-24T14:57:42.677099500Z",
     "start_time": "2023-05-24T14:57:36.441008Z"
    }
   },
   "outputs": [],
   "source": [
    "# Start by reading a basic csv dataset\n",
    "# Let Spark know about the header and infer the Schema types!\n",
    "\n",
    "#Some csv data\n",
    "zomato = spark.read.csv('Datasets/zomato.csv', inferSchema=True, header=True)"
   ]
  },
  {
   "cell_type": "markdown",
   "metadata": {},
   "source": [
    "## About this dataset\n",
    "\n",
    "This dataset contains the aggregate rating of restaurant in Bengaluru India from Zomato. \n",
    "\n",
    "**Source:** https://www.kaggle.com/himanshupoddar/zomato-bangalore-restaurants"
   ]
  },
  {
   "cell_type": "code",
   "execution_count": 3,
   "metadata": {},
   "outputs": [
    {
     "name": "stdout",
     "output_type": "stream",
     "text": [
      "root\n",
      " |-- url: string (nullable = true)\n",
      " |-- address: string (nullable = true)\n",
      " |-- name: string (nullable = true)\n",
      " |-- online_order: string (nullable = true)\n",
      " |-- book_table: string (nullable = true)\n",
      " |-- rate: string (nullable = true)\n",
      " |-- votes: string (nullable = true)\n",
      " |-- phone: string (nullable = true)\n",
      " |-- location: string (nullable = true)\n",
      " |-- rest_type: string (nullable = true)\n",
      " |-- dish_liked: string (nullable = true)\n",
      " |-- cuisines: string (nullable = true)\n",
      " |-- approx_cost(for two people): string (nullable = true)\n",
      " |-- reviews_list: string (nullable = true)\n",
      " |-- menu_item: string (nullable = true)\n",
      " |-- listed_in(type): string (nullable = true)\n",
      " |-- listed_in(city): string (nullable = true)\n",
      "\n",
      "None\n"
     ]
    }
   ],
   "source": [
    "print(zomato.printSchema())"
   ]
  },
  {
   "cell_type": "code",
   "execution_count": 3,
   "metadata": {
    "ExecuteTime": {
     "end_time": "2023-05-24T14:58:51.293167800Z",
     "start_time": "2023-05-24T14:58:51.202587900Z"
    }
   },
   "outputs": [
    {
     "name": "stdout",
     "output_type": "stream",
     "text": [
      "root\n",
      " |-- url: string (nullable = true)\n",
      " |-- address: string (nullable = true)\n",
      " |-- name: string (nullable = true)\n",
      " |-- online_order: string (nullable = true)\n",
      " |-- book_table: string (nullable = true)\n",
      " |-- rate: string (nullable = true)\n",
      " |-- votes: integer (nullable = true)\n",
      " |-- phone: string (nullable = true)\n",
      " |-- location: string (nullable = true)\n",
      " |-- rest_type: string (nullable = true)\n",
      " |-- dish_liked: string (nullable = true)\n",
      " |-- cuisines: string (nullable = true)\n",
      " |-- approx_cost(for two people): integer (nullable = true)\n",
      " |-- reviews_list: string (nullable = true)\n",
      " |-- menu_item: string (nullable = true)\n",
      " |-- listed_in(type): string (nullable = true)\n",
      " |-- listed_in(city): string (nullable = true)\n",
      "\n",
      "None\n"
     ]
    }
   ],
   "source": [
    "# Edit some var types\n",
    "from pyspark.sql.types import *\n",
    "from pyspark.sql.functions import *\n",
    "\n",
    "df = zomato.withColumn(\"approx_cost(for two people)\", zomato[\"approx_cost(for two people)\"].cast(IntegerType())) \\\n",
    "    .withColumn(\"votes\", zomato[\"votes\"].cast(IntegerType()))\n",
    "#QA\n",
    "print(df.printSchema())"
   ]
  },
  {
   "cell_type": "code",
   "execution_count": 5,
   "metadata": {},
   "outputs": [
    {
     "data": {
      "text/html": [
       "<div>\n",
       "<style scoped>\n",
       "    .dataframe tbody tr th:only-of-type {\n",
       "        vertical-align: middle;\n",
       "    }\n",
       "\n",
       "    .dataframe tbody tr th {\n",
       "        vertical-align: top;\n",
       "    }\n",
       "\n",
       "    .dataframe thead th {\n",
       "        text-align: right;\n",
       "    }\n",
       "</style>\n",
       "<table border=\"1\" class=\"dataframe\">\n",
       "  <thead>\n",
       "    <tr style=\"text-align: right;\">\n",
       "      <th></th>\n",
       "      <th>url</th>\n",
       "      <th>address</th>\n",
       "      <th>name</th>\n",
       "      <th>online_order</th>\n",
       "      <th>book_table</th>\n",
       "      <th>rate</th>\n",
       "      <th>votes</th>\n",
       "      <th>phone</th>\n",
       "      <th>location</th>\n",
       "      <th>rest_type</th>\n",
       "      <th>dish_liked</th>\n",
       "      <th>cuisines</th>\n",
       "      <th>approx_cost(for two people)</th>\n",
       "      <th>reviews_list</th>\n",
       "      <th>menu_item</th>\n",
       "      <th>listed_in(type)</th>\n",
       "      <th>listed_in(city)</th>\n",
       "    </tr>\n",
       "  </thead>\n",
       "  <tbody>\n",
       "    <tr>\n",
       "      <td>0</td>\n",
       "      <td>https://www.zomato.com/bangalore/jalsa-banasha...</td>\n",
       "      <td>942, 21st Main Road, 2nd Stage, Banashankari, ...</td>\n",
       "      <td>Jalsa</td>\n",
       "      <td>Yes</td>\n",
       "      <td>Yes</td>\n",
       "      <td>4.1/5</td>\n",
       "      <td>775.0</td>\n",
       "      <td>080 42297555</td>\n",
       "      <td>None</td>\n",
       "      <td>None</td>\n",
       "      <td>None</td>\n",
       "      <td>None</td>\n",
       "      <td>NaN</td>\n",
       "      <td>None</td>\n",
       "      <td>None</td>\n",
       "      <td>None</td>\n",
       "      <td>None</td>\n",
       "    </tr>\n",
       "    <tr>\n",
       "      <td>1</td>\n",
       "      <td>+91 9743772233\"</td>\n",
       "      <td>Banashankari</td>\n",
       "      <td>Casual Dining</td>\n",
       "      <td>Pasta, Lunch Buffet, Masala Papad, Paneer Laja...</td>\n",
       "      <td>North Indian, Mughlai, Chinese</td>\n",
       "      <td>800</td>\n",
       "      <td>NaN</td>\n",
       "      <td>('Rated 4.0'</td>\n",
       "      <td>'RATED\\n  You canÃ\\x83Ã\\x83Ã\\x82Ã\\x82Ã\\x...</td>\n",
       "      <td>('Rated 5.0'</td>\n",
       "      <td>'RATED\\n  Overdelighted by the service and fo...</td>\n",
       "      <td>('Rated 4.0'</td>\n",
       "      <td>NaN</td>\n",
       "      <td>('Rated 4.0'</td>\n",
       "      <td>'RATED\\n  The place is nice and comfortable. ...</td>\n",
       "      <td>('Rated 4.0'</td>\n",
       "      <td>'RATED\\n  The place is nice and comfortable. ...</td>\n",
       "    </tr>\n",
       "    <tr>\n",
       "      <td>2</td>\n",
       "      <td>https://www.zomato.com/bangalore/spice-elephan...</td>\n",
       "      <td>2nd Floor, 80 Feet Road, Near Big Bazaar, 6th ...</td>\n",
       "      <td>Spice Elephant</td>\n",
       "      <td>Yes</td>\n",
       "      <td>No</td>\n",
       "      <td>4.1/5</td>\n",
       "      <td>787.0</td>\n",
       "      <td>080 41714161</td>\n",
       "      <td>Banashankari</td>\n",
       "      <td>Casual Dining</td>\n",
       "      <td>Momos, Lunch Buffet, Chocolate Nirvana, Thai G...</td>\n",
       "      <td>Chinese, North Indian, Thai</td>\n",
       "      <td>800.0</td>\n",
       "      <td>\"[('Rated 4.0', 'RATED\\n  Had been here for di...</td>\n",
       "      <td>rice was well cooked and overall was great\\n\\n...</td>\n",
       "      <td>('Rated 5.0'</td>\n",
       "      <td>'RATED\\n  This place just cool ? with good am...</td>\n",
       "    </tr>\n",
       "    <tr>\n",
       "      <td>3</td>\n",
       "      <td>https://www.zomato.com/SanchurroBangalore?cont...</td>\n",
       "      <td>1112, Next to KIMS Medical College, 17th Cross...</td>\n",
       "      <td>San Churro Cafe</td>\n",
       "      <td>Yes</td>\n",
       "      <td>No</td>\n",
       "      <td>3.8/5</td>\n",
       "      <td>918.0</td>\n",
       "      <td>+91 9663487993</td>\n",
       "      <td>Banashankari</td>\n",
       "      <td>Cafe, Casual Dining</td>\n",
       "      <td>Churros, Cannelloni, Minestrone Soup, Hot Choc...</td>\n",
       "      <td>Cafe, Mexican, Italian</td>\n",
       "      <td>800.0</td>\n",
       "      <td>\"[('Rated 3.0', \"\"RATED\\n  Ambience is not tha...</td>\n",
       "      <td>('Rated 3.0'</td>\n",
       "      <td>\"\"RATED\\n \\nWent there for a quick bite with ...</td>\n",
       "      <td>pasta churros and lasagne.\\n\\nNachos were pat...</td>\n",
       "    </tr>\n",
       "  </tbody>\n",
       "</table>\n",
       "</div>"
      ],
      "text/plain": [
       "                                                 url  \\\n",
       "0  https://www.zomato.com/bangalore/jalsa-banasha...   \n",
       "1                                    +91 9743772233\"   \n",
       "2  https://www.zomato.com/bangalore/spice-elephan...   \n",
       "3  https://www.zomato.com/SanchurroBangalore?cont...   \n",
       "\n",
       "                                             address             name  \\\n",
       "0  942, 21st Main Road, 2nd Stage, Banashankari, ...            Jalsa   \n",
       "1                                       Banashankari    Casual Dining   \n",
       "2  2nd Floor, 80 Feet Road, Near Big Bazaar, 6th ...   Spice Elephant   \n",
       "3  1112, Next to KIMS Medical College, 17th Cross...  San Churro Cafe   \n",
       "\n",
       "                                        online_order  \\\n",
       "0                                                Yes   \n",
       "1  Pasta, Lunch Buffet, Masala Papad, Paneer Laja...   \n",
       "2                                                Yes   \n",
       "3                                                Yes   \n",
       "\n",
       "                       book_table   rate  votes           phone  \\\n",
       "0                             Yes  4.1/5  775.0    080 42297555   \n",
       "1  North Indian, Mughlai, Chinese    800    NaN    ('Rated 4.0'   \n",
       "2                              No  4.1/5  787.0    080 41714161   \n",
       "3                              No  3.8/5  918.0  +91 9663487993   \n",
       "\n",
       "                                            location            rest_type  \\\n",
       "0                                               None                 None   \n",
       "1   'RATED\\n  You canÃ\\x83Ã\\x83Ã\\x82Ã\\x82Ã\\x...         ('Rated 5.0'   \n",
       "2                                       Banashankari        Casual Dining   \n",
       "3                                       Banashankari  Cafe, Casual Dining   \n",
       "\n",
       "                                          dish_liked  \\\n",
       "0                                               None   \n",
       "1   'RATED\\n  Overdelighted by the service and fo...   \n",
       "2  Momos, Lunch Buffet, Chocolate Nirvana, Thai G...   \n",
       "3  Churros, Cannelloni, Minestrone Soup, Hot Choc...   \n",
       "\n",
       "                      cuisines  approx_cost(for two people)  \\\n",
       "0                         None                          NaN   \n",
       "1                 ('Rated 4.0'                          NaN   \n",
       "2  Chinese, North Indian, Thai                        800.0   \n",
       "3       Cafe, Mexican, Italian                        800.0   \n",
       "\n",
       "                                        reviews_list  \\\n",
       "0                                               None   \n",
       "1                                       ('Rated 4.0'   \n",
       "2  \"[('Rated 4.0', 'RATED\\n  Had been here for di...   \n",
       "3  \"[('Rated 3.0', \"\"RATED\\n  Ambience is not tha...   \n",
       "\n",
       "                                           menu_item  \\\n",
       "0                                               None   \n",
       "1   'RATED\\n  The place is nice and comfortable. ...   \n",
       "2  rice was well cooked and overall was great\\n\\n...   \n",
       "3                                       ('Rated 3.0'   \n",
       "\n",
       "                                     listed_in(type)  \\\n",
       "0                                               None   \n",
       "1                                       ('Rated 4.0'   \n",
       "2                                       ('Rated 5.0'   \n",
       "3   \"\"RATED\\n \\nWent there for a quick bite with ...   \n",
       "\n",
       "                                     listed_in(city)  \n",
       "0                                               None  \n",
       "1   'RATED\\n  The place is nice and comfortable. ...  \n",
       "2   'RATED\\n  This place just cool ? with good am...  \n",
       "3   pasta churros and lasagne.\\n\\nNachos were pat...  "
      ]
     },
     "execution_count": 5,
     "metadata": {},
     "output_type": "execute_result"
    }
   ],
   "source": [
    "df.limit(4).toPandas()"
   ]
  },
  {
   "cell_type": "markdown",
   "metadata": {},
   "source": [
    "Note that nulls values appear as \"None\" in the Pandas print out above. If we show the null values for the cuisines variable in attempt to view that first restaurant \"Jalsa\", we can see it appear as \"null\" below."
   ]
  },
  {
   "cell_type": "code",
   "execution_count": 5,
   "metadata": {
    "ExecuteTime": {
     "end_time": "2023-05-24T15:00:09.833555100Z",
     "start_time": "2023-05-24T15:00:09.065770700Z"
    }
   },
   "outputs": [
    {
     "data": {
      "text/plain": "              name cuisines\n0            Jalsa     None\n1    Grand Village     None\n2    Casual Dining     None\n3  Timepass Dinner     None\n4    Casual Dining     None",
      "text/html": "<div>\n<style scoped>\n    .dataframe tbody tr th:only-of-type {\n        vertical-align: middle;\n    }\n\n    .dataframe tbody tr th {\n        vertical-align: top;\n    }\n\n    .dataframe thead th {\n        text-align: right;\n    }\n</style>\n<table border=\"1\" class=\"dataframe\">\n  <thead>\n    <tr style=\"text-align: right;\">\n      <th></th>\n      <th>name</th>\n      <th>cuisines</th>\n    </tr>\n  </thead>\n  <tbody>\n    <tr>\n      <th>0</th>\n      <td>Jalsa</td>\n      <td>None</td>\n    </tr>\n    <tr>\n      <th>1</th>\n      <td>Grand Village</td>\n      <td>None</td>\n    </tr>\n    <tr>\n      <th>2</th>\n      <td>Casual Dining</td>\n      <td>None</td>\n    </tr>\n    <tr>\n      <th>3</th>\n      <td>Timepass Dinner</td>\n      <td>None</td>\n    </tr>\n    <tr>\n      <th>4</th>\n      <td>Casual Dining</td>\n      <td>None</td>\n    </tr>\n  </tbody>\n</table>\n</div>"
     },
     "execution_count": 5,
     "metadata": {},
     "output_type": "execute_result"
    }
   ],
   "source": [
    "from pyspark.sql import functions as F\n",
    "\n",
    "# zomato.filter(\"cuisines='None'\").agg(F.count(zomato.name)).show()\n",
    "df.filter(df.cuisines.isNull()).select(['name', 'cuisines']).limit(5).toPandas()"
   ]
  },
  {
   "cell_type": "markdown",
   "metadata": {},
   "source": [
    "## Missing Data Statistics\n",
    "\n",
    "It is always valualuable to know how much missing data you are going to be working with before you take any action like filling missing values with an average or dropping rows completly. Here is a good script to get you started. We will also explore more later on in this notebook."
   ]
  },
  {
   "cell_type": "code",
   "execution_count": 9,
   "metadata": {},
   "outputs": [
    {
     "data": {
      "text/plain": "                    Column_Name  Null_Values_Count  Null_Value_Percent\n0                          name                 85            0.118500\n1                  online_order               8111           11.307682\n2                    book_table                  2            0.002788\n3                          rate               7775           10.839258\n4                         votes              20018           27.907431\n5                         phone               1227            1.710581\n6                      location              20054           27.957619\n7                     rest_type              20165           28.112366\n8                    dish_liked              46841           65.301826\n9                      cuisines              27305           38.066360\n10  approx_cost(for two people)              43611           60.798829\n11                 reviews_list              28185           39.293183\n12                    menu_item              28611           39.887077\n13              listed_in(type)              28983           40.405688\n14              listed_in(city)              29344           40.908964",
      "text/html": "<div>\n<style scoped>\n    .dataframe tbody tr th:only-of-type {\n        vertical-align: middle;\n    }\n\n    .dataframe tbody tr th {\n        vertical-align: top;\n    }\n\n    .dataframe thead th {\n        text-align: right;\n    }\n</style>\n<table border=\"1\" class=\"dataframe\">\n  <thead>\n    <tr style=\"text-align: right;\">\n      <th></th>\n      <th>Column_Name</th>\n      <th>Null_Values_Count</th>\n      <th>Null_Value_Percent</th>\n    </tr>\n  </thead>\n  <tbody>\n    <tr>\n      <th>0</th>\n      <td>name</td>\n      <td>85</td>\n      <td>0.118500</td>\n    </tr>\n    <tr>\n      <th>1</th>\n      <td>online_order</td>\n      <td>8111</td>\n      <td>11.307682</td>\n    </tr>\n    <tr>\n      <th>2</th>\n      <td>book_table</td>\n      <td>2</td>\n      <td>0.002788</td>\n    </tr>\n    <tr>\n      <th>3</th>\n      <td>rate</td>\n      <td>7775</td>\n      <td>10.839258</td>\n    </tr>\n    <tr>\n      <th>4</th>\n      <td>votes</td>\n      <td>20018</td>\n      <td>27.907431</td>\n    </tr>\n    <tr>\n      <th>5</th>\n      <td>phone</td>\n      <td>1227</td>\n      <td>1.710581</td>\n    </tr>\n    <tr>\n      <th>6</th>\n      <td>location</td>\n      <td>20054</td>\n      <td>27.957619</td>\n    </tr>\n    <tr>\n      <th>7</th>\n      <td>rest_type</td>\n      <td>20165</td>\n      <td>28.112366</td>\n    </tr>\n    <tr>\n      <th>8</th>\n      <td>dish_liked</td>\n      <td>46841</td>\n      <td>65.301826</td>\n    </tr>\n    <tr>\n      <th>9</th>\n      <td>cuisines</td>\n      <td>27305</td>\n      <td>38.066360</td>\n    </tr>\n    <tr>\n      <th>10</th>\n      <td>approx_cost(for two people)</td>\n      <td>43611</td>\n      <td>60.798829</td>\n    </tr>\n    <tr>\n      <th>11</th>\n      <td>reviews_list</td>\n      <td>28185</td>\n      <td>39.293183</td>\n    </tr>\n    <tr>\n      <th>12</th>\n      <td>menu_item</td>\n      <td>28611</td>\n      <td>39.887077</td>\n    </tr>\n    <tr>\n      <th>13</th>\n      <td>listed_in(type)</td>\n      <td>28983</td>\n      <td>40.405688</td>\n    </tr>\n    <tr>\n      <th>14</th>\n      <td>listed_in(city)</td>\n      <td>29344</td>\n      <td>40.908964</td>\n    </tr>\n  </tbody>\n</table>\n</div>"
     },
     "execution_count": 8,
     "metadata": {},
     "output_type": "execute_result"
    },
    {
     "data": {
      "text/plain": "                    Column_Name  Null_Values_Count  Null_Value_Percent\n0                          name                 85            0.118500\n1                  online_order               8111           11.307682\n2                    book_table                  2            0.002788\n3                          rate               7775           10.839258\n4                         votes              20018           27.907431\n5                         phone               1227            1.710581\n6                      location              20054           27.957619\n7                     rest_type              20165           28.112366\n8                    dish_liked              46841           65.301826\n9                      cuisines              27305           38.066360\n10  approx_cost(for two people)              43611           60.798829\n11                 reviews_list              28185           39.293183\n12                    menu_item              28611           39.887077\n13              listed_in(type)              28983           40.405688\n14              listed_in(city)              29344           40.908964",
      "text/html": "<div>\n<style scoped>\n    .dataframe tbody tr th:only-of-type {\n        vertical-align: middle;\n    }\n\n    .dataframe tbody tr th {\n        vertical-align: top;\n    }\n\n    .dataframe thead th {\n        text-align: right;\n    }\n</style>\n<table border=\"1\" class=\"dataframe\">\n  <thead>\n    <tr style=\"text-align: right;\">\n      <th></th>\n      <th>Column_Name</th>\n      <th>Null_Values_Count</th>\n      <th>Null_Value_Percent</th>\n    </tr>\n  </thead>\n  <tbody>\n    <tr>\n      <th>0</th>\n      <td>name</td>\n      <td>85</td>\n      <td>0.118500</td>\n    </tr>\n    <tr>\n      <th>1</th>\n      <td>online_order</td>\n      <td>8111</td>\n      <td>11.307682</td>\n    </tr>\n    <tr>\n      <th>2</th>\n      <td>book_table</td>\n      <td>2</td>\n      <td>0.002788</td>\n    </tr>\n    <tr>\n      <th>3</th>\n      <td>rate</td>\n      <td>7775</td>\n      <td>10.839258</td>\n    </tr>\n    <tr>\n      <th>4</th>\n      <td>votes</td>\n      <td>20018</td>\n      <td>27.907431</td>\n    </tr>\n    <tr>\n      <th>5</th>\n      <td>phone</td>\n      <td>1227</td>\n      <td>1.710581</td>\n    </tr>\n    <tr>\n      <th>6</th>\n      <td>location</td>\n      <td>20054</td>\n      <td>27.957619</td>\n    </tr>\n    <tr>\n      <th>7</th>\n      <td>rest_type</td>\n      <td>20165</td>\n      <td>28.112366</td>\n    </tr>\n    <tr>\n      <th>8</th>\n      <td>dish_liked</td>\n      <td>46841</td>\n      <td>65.301826</td>\n    </tr>\n    <tr>\n      <th>9</th>\n      <td>cuisines</td>\n      <td>27305</td>\n      <td>38.066360</td>\n    </tr>\n    <tr>\n      <th>10</th>\n      <td>approx_cost(for two people)</td>\n      <td>43611</td>\n      <td>60.798829</td>\n    </tr>\n    <tr>\n      <th>11</th>\n      <td>reviews_list</td>\n      <td>28185</td>\n      <td>39.293183</td>\n    </tr>\n    <tr>\n      <th>12</th>\n      <td>menu_item</td>\n      <td>28611</td>\n      <td>39.887077</td>\n    </tr>\n    <tr>\n      <th>13</th>\n      <td>listed_in(type)</td>\n      <td>28983</td>\n      <td>40.405688</td>\n    </tr>\n    <tr>\n      <th>14</th>\n      <td>listed_in(city)</td>\n      <td>29344</td>\n      <td>40.908964</td>\n    </tr>\n  </tbody>\n</table>\n</div>"
     },
     "execution_count": 9,
     "metadata": {},
     "output_type": "execute_result"
    }
   ],
   "source": [
    "from pyspark.sql.functions import *\n",
    "\n",
    "\n",
    "def null_value_calc(df):\n",
    "    null_columns_counts = []\n",
    "    numRows = df.count()\n",
    "    for k in df.columns:\n",
    "        nullRows = df.where(col(k).isNull()).count()\n",
    "        if nullRows > 0:\n",
    "            temp = k, nullRows, (nullRows / numRows) * 100\n",
    "            null_columns_counts.append(temp)\n",
    "    return null_columns_counts\n",
    "\n",
    "null_columns_calc_list = null_value_calc(df)\n",
    "spark.createDataFrame(null_columns_calc_list, ['Column_Name', 'Null_Values_Count', 'Null_Value_Percent']).toPandas()"
   ]
  },
  {
   "cell_type": "code",
   "execution_count": 10,
   "metadata": {
    "ExecuteTime": {
     "end_time": "2023-05-24T15:08:12.857061500Z",
     "start_time": "2023-05-24T15:08:04.878839600Z"
    }
   },
   "outputs": [
    {
     "data": {
      "text/plain": "   url address name online_order book_table  rate  votes phone location   \n0    0       0   85         8111          2  7775  20018  1227    20054  \\\n1  0.0     0.0  0.1         11.3        0.0  10.8   27.9   1.7     28.0   \n\n  rest_type dish_liked cuisines approx_cost(for two people) reviews_list   \n0     20165      46841    27305                       43611        28185  \\\n1      28.1       65.3     38.1                        60.8         39.3   \n\n  menu_item listed_in(type) listed_in(city)  \n0     28611           28983           29344  \n1      39.9            40.4            40.9  ",
      "text/html": "<div>\n<style scoped>\n    .dataframe tbody tr th:only-of-type {\n        vertical-align: middle;\n    }\n\n    .dataframe tbody tr th {\n        vertical-align: top;\n    }\n\n    .dataframe thead th {\n        text-align: right;\n    }\n</style>\n<table border=\"1\" class=\"dataframe\">\n  <thead>\n    <tr style=\"text-align: right;\">\n      <th></th>\n      <th>url</th>\n      <th>address</th>\n      <th>name</th>\n      <th>online_order</th>\n      <th>book_table</th>\n      <th>rate</th>\n      <th>votes</th>\n      <th>phone</th>\n      <th>location</th>\n      <th>rest_type</th>\n      <th>dish_liked</th>\n      <th>cuisines</th>\n      <th>approx_cost(for two people)</th>\n      <th>reviews_list</th>\n      <th>menu_item</th>\n      <th>listed_in(type)</th>\n      <th>listed_in(city)</th>\n    </tr>\n  </thead>\n  <tbody>\n    <tr>\n      <th>0</th>\n      <td>0</td>\n      <td>0</td>\n      <td>85</td>\n      <td>8111</td>\n      <td>2</td>\n      <td>7775</td>\n      <td>20018</td>\n      <td>1227</td>\n      <td>20054</td>\n      <td>20165</td>\n      <td>46841</td>\n      <td>27305</td>\n      <td>43611</td>\n      <td>28185</td>\n      <td>28611</td>\n      <td>28983</td>\n      <td>29344</td>\n    </tr>\n    <tr>\n      <th>1</th>\n      <td>0.0</td>\n      <td>0.0</td>\n      <td>0.1</td>\n      <td>11.3</td>\n      <td>0.0</td>\n      <td>10.8</td>\n      <td>27.9</td>\n      <td>1.7</td>\n      <td>28.0</td>\n      <td>28.1</td>\n      <td>65.3</td>\n      <td>38.1</td>\n      <td>60.8</td>\n      <td>39.3</td>\n      <td>39.9</td>\n      <td>40.4</td>\n      <td>40.9</td>\n    </tr>\n  </tbody>\n</table>\n</div>"
     },
     "execution_count": 10,
     "metadata": {},
     "output_type": "execute_result"
    }
   ],
   "source": [
    "# Another way if you prefer\n",
    "from pyspark.sql.functions import isnan, when, count, col\n",
    "\n",
    "#first row: null count\n",
    "nulls = df.select(\n",
    "    [count(when(isnan(c) | col(c).isNull(), c)).alias(c) for c in df.columns]\n",
    ")\n",
    "# Second row: null percent\n",
    "percent = df.select(\n",
    "    [format_number(\n",
    "        ((count(when(isnan(c) | col(c).isNull(), c)) / df.count()) * 100), 1).alias(c) for c in df.columns])\n",
    "\n",
    "result = nulls.union(percent)\n",
    "\n",
    "result.toPandas()"
   ]
  },
  {
   "cell_type": "markdown",
   "metadata": {},
   "source": [
    "## Drop the missing data\n",
    "\n",
    "PySpark has a really handy .na function for working with missing data. The drop command has the following parameters:\n",
    "\n",
    "    df.na.drop(how='any', thresh=None, subset=None)"
   ]
  },
  {
   "cell_type": "code",
   "execution_count": 11,
   "metadata": {
    "ExecuteTime": {
     "end_time": "2023-05-24T15:11:59.192588200Z",
     "start_time": "2023-05-24T15:11:59.040793200Z"
    }
   },
   "outputs": [
    {
     "data": {
      "text/plain": "                                                 url   \n0  https://www.zomato.com/bangalore/spice-elephan...  \\\n1  https://www.zomato.com/SanchurroBangalore?cont...   \n2  https://www.zomato.com/bangalore/addhuri-udupi...   \n3  https://www.zomato.com/bangalore/cafe-shuffle-...   \n\n                                             address                   name   \n0  2nd Floor, 80 Feet Road, Near Big Bazaar, 6th ...         Spice Elephant  \\\n1  1112, Next to KIMS Medical College, 17th Cross...        San Churro Cafe   \n2  1st Floor, Annakuteera, 3rd Stage, Banashankar...  Addhuri Udupi Bhojana   \n3  941, 3rd FLOOR, 21st Main, 22nd Cross, Banasha...           Cafe Shuffle   \n\n  online_order book_table   rate  votes           phone      location   \n0          Yes         No  4.1/5    787    080 41714161  Banashankari  \\\n1          Yes         No  3.8/5    918  +91 9663487993  Banashankari   \n2           No         No  3.7/5     88  +91 9620009302  Banashankari   \n3          Yes        Yes  4.2/5    150  +91 9742166777  Banashankari   \n\n             rest_type                                         dish_liked   \n0        Casual Dining  Momos, Lunch Buffet, Chocolate Nirvana, Thai G...  \\\n1  Cafe, Casual Dining  Churros, Cannelloni, Minestrone Soup, Hot Choc...   \n2          Quick Bites                                        Masala Dosa   \n3                 Cafe  Mocktails, Peri Fries, Lasagne, Pizza, Chicken...   \n\n                      cuisines  approx_cost(for two people)   \n0  Chinese, North Indian, Thai                          800  \\\n1       Cafe, Mexican, Italian                          800   \n2   South Indian, North Indian                          300   \n3   Cafe, Italian, Continental                          600   \n\n                                        reviews_list   \n0  \"[('Rated 4.0', 'RATED\\n  Had been here for di...  \\\n1  \"[('Rated 3.0', \"\"RATED\\n  Ambience is not tha...   \n2  \"[('Rated 4.0', \"\"RATED\\n  Great food and prop...   \n3  \"[('Rated 1.0', \"\"RATED\\n \\n\\nHorrible. Not ev...   \n\n                                           menu_item   \n0  rice was well cooked and overall was great\\n\\n...  \\\n1                                       ('Rated 3.0'   \n2                                       ('Rated 2.0'   \n3         you get it literally half an hour late.\"\")   \n\n                                     listed_in(type)   \n0                                       ('Rated 5.0'  \\\n1   \"\"RATED\\n \\nWent there for a quick bite with ...   \n2   'RATED\\n  Reached the place at 3pm on Saturda...   \n3                                       ('Rated 4.0'   \n\n                                     listed_in(city)  \n0   'RATED\\n  This place just cool ? with good am...  \n1   pasta churros and lasagne.\\n\\nNachos were pat...  \n2                                       ('Rated 4.0'  \n3   \"\"RATED\\n  While this place is more common fo...  ",
      "text/html": "<div>\n<style scoped>\n    .dataframe tbody tr th:only-of-type {\n        vertical-align: middle;\n    }\n\n    .dataframe tbody tr th {\n        vertical-align: top;\n    }\n\n    .dataframe thead th {\n        text-align: right;\n    }\n</style>\n<table border=\"1\" class=\"dataframe\">\n  <thead>\n    <tr style=\"text-align: right;\">\n      <th></th>\n      <th>url</th>\n      <th>address</th>\n      <th>name</th>\n      <th>online_order</th>\n      <th>book_table</th>\n      <th>rate</th>\n      <th>votes</th>\n      <th>phone</th>\n      <th>location</th>\n      <th>rest_type</th>\n      <th>dish_liked</th>\n      <th>cuisines</th>\n      <th>approx_cost(for two people)</th>\n      <th>reviews_list</th>\n      <th>menu_item</th>\n      <th>listed_in(type)</th>\n      <th>listed_in(city)</th>\n    </tr>\n  </thead>\n  <tbody>\n    <tr>\n      <th>0</th>\n      <td>https://www.zomato.com/bangalore/spice-elephan...</td>\n      <td>2nd Floor, 80 Feet Road, Near Big Bazaar, 6th ...</td>\n      <td>Spice Elephant</td>\n      <td>Yes</td>\n      <td>No</td>\n      <td>4.1/5</td>\n      <td>787</td>\n      <td>080 41714161</td>\n      <td>Banashankari</td>\n      <td>Casual Dining</td>\n      <td>Momos, Lunch Buffet, Chocolate Nirvana, Thai G...</td>\n      <td>Chinese, North Indian, Thai</td>\n      <td>800</td>\n      <td>\"[('Rated 4.0', 'RATED\\n  Had been here for di...</td>\n      <td>rice was well cooked and overall was great\\n\\n...</td>\n      <td>('Rated 5.0'</td>\n      <td>'RATED\\n  This place just cool ? with good am...</td>\n    </tr>\n    <tr>\n      <th>1</th>\n      <td>https://www.zomato.com/SanchurroBangalore?cont...</td>\n      <td>1112, Next to KIMS Medical College, 17th Cross...</td>\n      <td>San Churro Cafe</td>\n      <td>Yes</td>\n      <td>No</td>\n      <td>3.8/5</td>\n      <td>918</td>\n      <td>+91 9663487993</td>\n      <td>Banashankari</td>\n      <td>Cafe, Casual Dining</td>\n      <td>Churros, Cannelloni, Minestrone Soup, Hot Choc...</td>\n      <td>Cafe, Mexican, Italian</td>\n      <td>800</td>\n      <td>\"[('Rated 3.0', \"\"RATED\\n  Ambience is not tha...</td>\n      <td>('Rated 3.0'</td>\n      <td>\"\"RATED\\n \\nWent there for a quick bite with ...</td>\n      <td>pasta churros and lasagne.\\n\\nNachos were pat...</td>\n    </tr>\n    <tr>\n      <th>2</th>\n      <td>https://www.zomato.com/bangalore/addhuri-udupi...</td>\n      <td>1st Floor, Annakuteera, 3rd Stage, Banashankar...</td>\n      <td>Addhuri Udupi Bhojana</td>\n      <td>No</td>\n      <td>No</td>\n      <td>3.7/5</td>\n      <td>88</td>\n      <td>+91 9620009302</td>\n      <td>Banashankari</td>\n      <td>Quick Bites</td>\n      <td>Masala Dosa</td>\n      <td>South Indian, North Indian</td>\n      <td>300</td>\n      <td>\"[('Rated 4.0', \"\"RATED\\n  Great food and prop...</td>\n      <td>('Rated 2.0'</td>\n      <td>'RATED\\n  Reached the place at 3pm on Saturda...</td>\n      <td>('Rated 4.0'</td>\n    </tr>\n    <tr>\n      <th>3</th>\n      <td>https://www.zomato.com/bangalore/cafe-shuffle-...</td>\n      <td>941, 3rd FLOOR, 21st Main, 22nd Cross, Banasha...</td>\n      <td>Cafe Shuffle</td>\n      <td>Yes</td>\n      <td>Yes</td>\n      <td>4.2/5</td>\n      <td>150</td>\n      <td>+91 9742166777</td>\n      <td>Banashankari</td>\n      <td>Cafe</td>\n      <td>Mocktails, Peri Fries, Lasagne, Pizza, Chicken...</td>\n      <td>Cafe, Italian, Continental</td>\n      <td>600</td>\n      <td>\"[('Rated 1.0', \"\"RATED\\n \\n\\nHorrible. Not ev...</td>\n      <td>you get it literally half an hour late.\"\")</td>\n      <td>('Rated 4.0'</td>\n      <td>\"\"RATED\\n  While this place is more common fo...</td>\n    </tr>\n  </tbody>\n</table>\n</div>"
     },
     "execution_count": 11,
     "metadata": {},
     "output_type": "execute_result"
    }
   ],
   "source": [
    "# Drop any row that contains missing data across the whole dataset\n",
    "df.na.drop().limit(4).toPandas()\n",
    "\n",
    "# Note this statement is equivilant to the above:\n",
    "# df.na.drop(how='any').limit(4).toPandas() "
   ]
  },
  {
   "cell_type": "code",
   "execution_count": 12,
   "metadata": {
    "ExecuteTime": {
     "end_time": "2023-05-24T15:12:03.570653200Z",
     "start_time": "2023-05-24T15:12:02.568747800Z"
    }
   },
   "outputs": [
    {
     "name": "stdout",
     "output_type": "stream",
     "text": [
      "Total Rows Dropped: 63124\n",
      "Percentage of Rows Dropped 0.8800223058692318\n"
     ]
    }
   ],
   "source": [
    "# Of course you will want to know how many rows that affected before you actually execute it..\n",
    "og_len = df.count()\n",
    "drop_len = df.na.drop().count()\n",
    "print(\"Total Rows Dropped:\", og_len - drop_len)\n",
    "print(\"Percentage of Rows Dropped\", (og_len - drop_len) / og_len)"
   ]
  },
  {
   "cell_type": "markdown",
   "metadata": {},
   "source": [
    "Woah! 88% is a lot! We better figure out a better method."
   ]
  },
  {
   "cell_type": "code",
   "execution_count": 13,
   "metadata": {
    "ExecuteTime": {
     "end_time": "2023-05-24T15:12:22.605203600Z",
     "start_time": "2023-05-24T15:12:21.317258300Z"
    }
   },
   "outputs": [
    {
     "name": "stdout",
     "output_type": "stream",
     "text": [
      "Total Rows Dropped: 1694\n",
      "Percentage of Rows Dropped 0.023616339049212325\n"
     ]
    }
   ],
   "source": [
    "# Drop rows that have at least 8 NON-null values\n",
    "og_len = df.count()\n",
    "drop_len = df.na.drop(thresh=8).count()\n",
    "print(\"Total Rows Dropped:\", og_len - drop_len)\n",
    "print(\"Percentage of Rows Dropped\", (og_len - drop_len) / og_len)"
   ]
  },
  {
   "cell_type": "markdown",
   "metadata": {},
   "source": [
    "Way better!"
   ]
  },
  {
   "cell_type": "code",
   "execution_count": 14,
   "metadata": {
    "ExecuteTime": {
     "end_time": "2023-05-24T15:16:38.659958900Z",
     "start_time": "2023-05-24T15:16:37.832353800Z"
    }
   },
   "outputs": [
    {
     "name": "stdout",
     "output_type": "stream",
     "text": [
      "Total Rows Dropped: 20018\n",
      "Percentage of Rows Dropped 0.2790743064268786\n"
     ]
    }
   ],
   "source": [
    "# Only drop the rows whose values in the sales column are null\n",
    "og_len = df.count()\n",
    "drop_len = df.na.drop(subset=[\"votes\"]).count()\n",
    "print(\"Total Rows Dropped:\", og_len - drop_len)\n",
    "print(\"Percentage of Rows Dropped\", (og_len - drop_len) / og_len)"
   ]
  },
  {
   "cell_type": "code",
   "execution_count": 15,
   "metadata": {
    "ExecuteTime": {
     "end_time": "2023-05-24T15:16:52.524507100Z",
     "start_time": "2023-05-24T15:16:51.362760300Z"
    }
   },
   "outputs": [
    {
     "name": "stdout",
     "output_type": "stream",
     "text": [
      "Total Rows Dropped: 7775\n",
      "Percentage of Rows Dropped 0.10839258329848041\n"
     ]
    }
   ],
   "source": [
    "# Another way to do the above\n",
    "og_len = df.count()\n",
    "drop_len = df.filter(df.rate.isNotNull()).count()\n",
    "print(\"Total Rows Dropped:\", og_len - drop_len)\n",
    "print(\"Percentage of Rows Dropped\", (og_len - drop_len) / og_len)"
   ]
  },
  {
   "cell_type": "code",
   "execution_count": 16,
   "metadata": {
    "ExecuteTime": {
     "end_time": "2023-05-24T15:17:11.015191200Z",
     "start_time": "2023-05-24T15:17:09.694901200Z"
    }
   },
   "outputs": [
    {
     "name": "stdout",
     "output_type": "stream",
     "text": [
      "Total Rows Dropped: 0\n",
      "Percentage of Rows Dropped 0.0\n"
     ]
    }
   ],
   "source": [
    "# Drop a row only if ALL its values are null.\n",
    "og_len = df.count()\n",
    "drop_len = df.na.drop(how='all').count()\n",
    "print(\"Total Rows Dropped:\", og_len - drop_len)\n",
    "print(\"Percentage of Rows Dropped\", (og_len - drop_len) / og_len)"
   ]
  },
  {
   "cell_type": "markdown",
   "metadata": {},
   "source": [
    "## Fill the missing values\n",
    "\n",
    "We can also fill the missing values with new values. If you have multiple nulls across multiple data types, Spark is actually smart enough to match up the data types. For example:"
   ]
  },
  {
   "cell_type": "code",
   "execution_count": 17,
   "metadata": {
    "ExecuteTime": {
     "end_time": "2023-05-24T15:18:02.026804300Z",
     "start_time": "2023-05-24T15:18:01.836418800Z"
    }
   },
   "outputs": [
    {
     "data": {
      "text/plain": "                                                 url   \n0  https://www.zomato.com/bangalore/jalsa-banasha...  \\\n1                                    +91 9743772233\"   \n2  https://www.zomato.com/bangalore/spice-elephan...   \n3  https://www.zomato.com/SanchurroBangalore?cont...   \n\n                                             address             name   \n0  942, 21st Main Road, 2nd Stage, Banashankari, ...            Jalsa  \\\n1                                       Banashankari    Casual Dining   \n2  2nd Floor, 80 Feet Road, Near Big Bazaar, 6th ...   Spice Elephant   \n3  1112, Next to KIMS Medical College, 17th Cross...  San Churro Cafe   \n\n                                        online_order   \n0                                                Yes  \\\n1  Pasta, Lunch Buffet, Masala Papad, Paneer Laja...   \n2                                                Yes   \n3                                                Yes   \n\n                       book_table   rate  votes           phone   \n0                             Yes  4.1/5  775.0    080 42297555  \\\n1  North Indian, Mughlai, Chinese    800    NaN    ('Rated 4.0'   \n2                              No  4.1/5  787.0    080 41714161   \n3                              No  3.8/5  918.0  +91 9663487993   \n\n                                            location            rest_type   \n0                                            MISSING              MISSING  \\\n1   'RATED\\n  You canÃ\\x83Ã\\x83Ã\\x82Ã\\x82Ã\\x...         ('Rated 5.0'   \n2                                       Banashankari        Casual Dining   \n3                                       Banashankari  Cafe, Casual Dining   \n\n                                          dish_liked   \n0                                            MISSING  \\\n1   'RATED\\n  Overdelighted by the service and fo...   \n2  Momos, Lunch Buffet, Chocolate Nirvana, Thai G...   \n3  Churros, Cannelloni, Minestrone Soup, Hot Choc...   \n\n                      cuisines  approx_cost(for two people)   \n0                      MISSING                          NaN  \\\n1                 ('Rated 4.0'                          NaN   \n2  Chinese, North Indian, Thai                        800.0   \n3       Cafe, Mexican, Italian                        800.0   \n\n                                        reviews_list   \n0                                            MISSING  \\\n1                                       ('Rated 4.0'   \n2  \"[('Rated 4.0', 'RATED\\n  Had been here for di...   \n3  \"[('Rated 3.0', \"\"RATED\\n  Ambience is not tha...   \n\n                                           menu_item   \n0                                            MISSING  \\\n1   'RATED\\n  The place is nice and comfortable. ...   \n2  rice was well cooked and overall was great\\n\\n...   \n3                                       ('Rated 3.0'   \n\n                                     listed_in(type)   \n0                                            MISSING  \\\n1                                       ('Rated 4.0'   \n2                                       ('Rated 5.0'   \n3   \"\"RATED\\n \\nWent there for a quick bite with ...   \n\n                                     listed_in(city)  \n0                                            MISSING  \n1   'RATED\\n  The place is nice and comfortable. ...  \n2   'RATED\\n  This place just cool ? with good am...  \n3   pasta churros and lasagne.\\n\\nNachos were pat...  ",
      "text/html": "<div>\n<style scoped>\n    .dataframe tbody tr th:only-of-type {\n        vertical-align: middle;\n    }\n\n    .dataframe tbody tr th {\n        vertical-align: top;\n    }\n\n    .dataframe thead th {\n        text-align: right;\n    }\n</style>\n<table border=\"1\" class=\"dataframe\">\n  <thead>\n    <tr style=\"text-align: right;\">\n      <th></th>\n      <th>url</th>\n      <th>address</th>\n      <th>name</th>\n      <th>online_order</th>\n      <th>book_table</th>\n      <th>rate</th>\n      <th>votes</th>\n      <th>phone</th>\n      <th>location</th>\n      <th>rest_type</th>\n      <th>dish_liked</th>\n      <th>cuisines</th>\n      <th>approx_cost(for two people)</th>\n      <th>reviews_list</th>\n      <th>menu_item</th>\n      <th>listed_in(type)</th>\n      <th>listed_in(city)</th>\n    </tr>\n  </thead>\n  <tbody>\n    <tr>\n      <th>0</th>\n      <td>https://www.zomato.com/bangalore/jalsa-banasha...</td>\n      <td>942, 21st Main Road, 2nd Stage, Banashankari, ...</td>\n      <td>Jalsa</td>\n      <td>Yes</td>\n      <td>Yes</td>\n      <td>4.1/5</td>\n      <td>775.0</td>\n      <td>080 42297555</td>\n      <td>MISSING</td>\n      <td>MISSING</td>\n      <td>MISSING</td>\n      <td>MISSING</td>\n      <td>NaN</td>\n      <td>MISSING</td>\n      <td>MISSING</td>\n      <td>MISSING</td>\n      <td>MISSING</td>\n    </tr>\n    <tr>\n      <th>1</th>\n      <td>+91 9743772233\"</td>\n      <td>Banashankari</td>\n      <td>Casual Dining</td>\n      <td>Pasta, Lunch Buffet, Masala Papad, Paneer Laja...</td>\n      <td>North Indian, Mughlai, Chinese</td>\n      <td>800</td>\n      <td>NaN</td>\n      <td>('Rated 4.0'</td>\n      <td>'RATED\\n  You canÃ\\x83Ã\\x83Ã\\x82Ã\\x82Ã\\x...</td>\n      <td>('Rated 5.0'</td>\n      <td>'RATED\\n  Overdelighted by the service and fo...</td>\n      <td>('Rated 4.0'</td>\n      <td>NaN</td>\n      <td>('Rated 4.0'</td>\n      <td>'RATED\\n  The place is nice and comfortable. ...</td>\n      <td>('Rated 4.0'</td>\n      <td>'RATED\\n  The place is nice and comfortable. ...</td>\n    </tr>\n    <tr>\n      <th>2</th>\n      <td>https://www.zomato.com/bangalore/spice-elephan...</td>\n      <td>2nd Floor, 80 Feet Road, Near Big Bazaar, 6th ...</td>\n      <td>Spice Elephant</td>\n      <td>Yes</td>\n      <td>No</td>\n      <td>4.1/5</td>\n      <td>787.0</td>\n      <td>080 41714161</td>\n      <td>Banashankari</td>\n      <td>Casual Dining</td>\n      <td>Momos, Lunch Buffet, Chocolate Nirvana, Thai G...</td>\n      <td>Chinese, North Indian, Thai</td>\n      <td>800.0</td>\n      <td>\"[('Rated 4.0', 'RATED\\n  Had been here for di...</td>\n      <td>rice was well cooked and overall was great\\n\\n...</td>\n      <td>('Rated 5.0'</td>\n      <td>'RATED\\n  This place just cool ? with good am...</td>\n    </tr>\n    <tr>\n      <th>3</th>\n      <td>https://www.zomato.com/SanchurroBangalore?cont...</td>\n      <td>1112, Next to KIMS Medical College, 17th Cross...</td>\n      <td>San Churro Cafe</td>\n      <td>Yes</td>\n      <td>No</td>\n      <td>3.8/5</td>\n      <td>918.0</td>\n      <td>+91 9663487993</td>\n      <td>Banashankari</td>\n      <td>Cafe, Casual Dining</td>\n      <td>Churros, Cannelloni, Minestrone Soup, Hot Choc...</td>\n      <td>Cafe, Mexican, Italian</td>\n      <td>800.0</td>\n      <td>\"[('Rated 3.0', \"\"RATED\\n  Ambience is not tha...</td>\n      <td>('Rated 3.0'</td>\n      <td>\"\"RATED\\n \\nWent there for a quick bite with ...</td>\n      <td>pasta churros and lasagne.\\n\\nNachos were pat...</td>\n    </tr>\n  </tbody>\n</table>\n</div>"
     },
     "execution_count": 17,
     "metadata": {},
     "output_type": "execute_result"
    }
   ],
   "source": [
    "# Fill all nulls values with one common value (character value)\n",
    "df.na.fill('MISSING').limit(4).toPandas()"
   ]
  },
  {
   "cell_type": "code",
   "execution_count": 18,
   "metadata": {
    "ExecuteTime": {
     "end_time": "2023-05-24T15:18:13.483813Z",
     "start_time": "2023-05-24T15:18:13.326858500Z"
    }
   },
   "outputs": [
    {
     "data": {
      "text/plain": "                                                 url   \n0  https://www.zomato.com/bangalore/jalsa-banasha...  \\\n1                                    +91 9743772233\"   \n2  https://www.zomato.com/bangalore/spice-elephan...   \n3  https://www.zomato.com/SanchurroBangalore?cont...   \n4  https://www.zomato.com/bangalore/addhuri-udupi...   \n5  https://www.zomato.com/bangalore/grand-village...   \n6                                    +91 9901210005\"   \n7  https://www.zomato.com/bangalore/timepass-dinn...   \n8                                    +91 9980063005\"   \n9  https://www.zomato.com/bangalore/rosewood-inte...   \n\n                                             address   \n0  942, 21st Main Road, 2nd Stage, Banashankari, ...  \\\n1                                       Banashankari   \n2  2nd Floor, 80 Feet Road, Near Big Bazaar, 6th ...   \n3  1112, Next to KIMS Medical College, 17th Cross...   \n4  1st Floor, Annakuteera, 3rd Stage, Banashankar...   \n5  10, 3rd Floor, Lakshmi Associates, Gandhi Baza...   \n6                                       Basavanagudi   \n7  37, 5-1, 4th Floor, Bosco Court, Gandhi Bazaar...   \n8                                       Basavanagudi   \n9  19/1, New Timberyard Layout, Beside Satellite ...   \n\n                                              name   \n0                                            Jalsa  \\\n1                                    Casual Dining   \n2                                   Spice Elephant   \n3                                  San Churro Cafe   \n4                            Addhuri Udupi Bhojana   \n5                                    Grand Village   \n6                                    Casual Dining   \n7                                  Timepass Dinner   \n8                                    Casual Dining   \n9  Rosewood International Hotel - Bar & Restaurant   \n\n                                        online_order   \n0                                                Yes  \\\n1  Pasta, Lunch Buffet, Masala Papad, Paneer Laja...   \n2                                                Yes   \n3                                                Yes   \n4                                                 No   \n5                                                 No   \n6                                Panipuri, Gol Gappe   \n7                                                Yes   \n8  Onion Rings, Pasta, Kadhai Paneer, Salads, Sal...   \n9                                                 No   \n\n                       book_table   rate  votes           phone   \n0                             Yes  4.1/5    775    080 42297555  \\\n1  North Indian, Mughlai, Chinese    800    999    ('Rated 4.0'   \n2                              No  4.1/5    787    080 41714161   \n3                              No  3.8/5    918  +91 9663487993   \n4                              No  3.7/5     88  +91 9620009302   \n5                              No  3.8/5    166  +91 8026612447   \n6        North Indian, Rajasthani    600    999              []   \n7                              No  3.8/5    286  +91 9980040002   \n8                    North Indian    600    999              []   \n9                              No  3.6/5      8  +91 9731716688   \n\n                                            location            rest_type   \n0                                               None                 None  \\\n1   'RATED\\n  You canÃ\\x83Ã\\x83Ã\\x82Ã\\x82Ã\\x...         ('Rated 5.0'   \n2                                       Banashankari        Casual Dining   \n3                                       Banashankari  Cafe, Casual Dining   \n4                                       Banashankari          Quick Bites   \n5                                               None                 None   \n6                                             Buffet         Banashankari   \n7                                               None                 None   \n8                                             Buffet         Banashankari   \n9                                               None                 None   \n\n                                          dish_liked   \n0                                               None  \\\n1   'RATED\\n  Overdelighted by the service and fo...   \n2  Momos, Lunch Buffet, Chocolate Nirvana, Thai G...   \n3  Churros, Cannelloni, Minestrone Soup, Hot Choc...   \n4                                        Masala Dosa   \n5                                               None   \n6                                               None   \n7                                               None   \n8                                               None   \n9                                               None   \n\n                      cuisines  approx_cost(for two people)   \n0                         None                          999  \\\n1                 ('Rated 4.0'                          999   \n2  Chinese, North Indian, Thai                          800   \n3       Cafe, Mexican, Italian                          800   \n4   South Indian, North Indian                          300   \n5                         None                          999   \n6                         None                          999   \n7                         None                          999   \n8                         None                          999   \n9                         None                          999   \n\n                                        reviews_list   \n0                                               None  \\\n1                                       ('Rated 4.0'   \n2  \"[('Rated 4.0', 'RATED\\n  Had been here for di...   \n3  \"[('Rated 3.0', \"\"RATED\\n  Ambience is not tha...   \n4  \"[('Rated 4.0', \"\"RATED\\n  Great food and prop...   \n5                                               None   \n6                                               None   \n7                                               None   \n8                                               None   \n9                                               None   \n\n                                           menu_item   \n0                                               None  \\\n1   'RATED\\n  The place is nice and comfortable. ...   \n2  rice was well cooked and overall was great\\n\\n...   \n3                                       ('Rated 3.0'   \n4                                       ('Rated 2.0'   \n5                                               None   \n6                                               None   \n7                                               None   \n8                                               None   \n9                                               None   \n\n                                     listed_in(type)   \n0                                               None  \\\n1                                       ('Rated 4.0'   \n2                                       ('Rated 5.0'   \n3   \"\"RATED\\n \\nWent there for a quick bite with ...   \n4   'RATED\\n  Reached the place at 3pm on Saturda...   \n5                                               None   \n6                                               None   \n7                                               None   \n8                                               None   \n9                                               None   \n\n                                     listed_in(city)  \n0                                               None  \n1   'RATED\\n  The place is nice and comfortable. ...  \n2   'RATED\\n  This place just cool ? with good am...  \n3   pasta churros and lasagne.\\n\\nNachos were pat...  \n4                                       ('Rated 4.0'  \n5                                               None  \n6                                               None  \n7                                               None  \n8                                               None  \n9                                               None  ",
      "text/html": "<div>\n<style scoped>\n    .dataframe tbody tr th:only-of-type {\n        vertical-align: middle;\n    }\n\n    .dataframe tbody tr th {\n        vertical-align: top;\n    }\n\n    .dataframe thead th {\n        text-align: right;\n    }\n</style>\n<table border=\"1\" class=\"dataframe\">\n  <thead>\n    <tr style=\"text-align: right;\">\n      <th></th>\n      <th>url</th>\n      <th>address</th>\n      <th>name</th>\n      <th>online_order</th>\n      <th>book_table</th>\n      <th>rate</th>\n      <th>votes</th>\n      <th>phone</th>\n      <th>location</th>\n      <th>rest_type</th>\n      <th>dish_liked</th>\n      <th>cuisines</th>\n      <th>approx_cost(for two people)</th>\n      <th>reviews_list</th>\n      <th>menu_item</th>\n      <th>listed_in(type)</th>\n      <th>listed_in(city)</th>\n    </tr>\n  </thead>\n  <tbody>\n    <tr>\n      <th>0</th>\n      <td>https://www.zomato.com/bangalore/jalsa-banasha...</td>\n      <td>942, 21st Main Road, 2nd Stage, Banashankari, ...</td>\n      <td>Jalsa</td>\n      <td>Yes</td>\n      <td>Yes</td>\n      <td>4.1/5</td>\n      <td>775</td>\n      <td>080 42297555</td>\n      <td>None</td>\n      <td>None</td>\n      <td>None</td>\n      <td>None</td>\n      <td>999</td>\n      <td>None</td>\n      <td>None</td>\n      <td>None</td>\n      <td>None</td>\n    </tr>\n    <tr>\n      <th>1</th>\n      <td>+91 9743772233\"</td>\n      <td>Banashankari</td>\n      <td>Casual Dining</td>\n      <td>Pasta, Lunch Buffet, Masala Papad, Paneer Laja...</td>\n      <td>North Indian, Mughlai, Chinese</td>\n      <td>800</td>\n      <td>999</td>\n      <td>('Rated 4.0'</td>\n      <td>'RATED\\n  You canÃ\\x83Ã\\x83Ã\\x82Ã\\x82Ã\\x...</td>\n      <td>('Rated 5.0'</td>\n      <td>'RATED\\n  Overdelighted by the service and fo...</td>\n      <td>('Rated 4.0'</td>\n      <td>999</td>\n      <td>('Rated 4.0'</td>\n      <td>'RATED\\n  The place is nice and comfortable. ...</td>\n      <td>('Rated 4.0'</td>\n      <td>'RATED\\n  The place is nice and comfortable. ...</td>\n    </tr>\n    <tr>\n      <th>2</th>\n      <td>https://www.zomato.com/bangalore/spice-elephan...</td>\n      <td>2nd Floor, 80 Feet Road, Near Big Bazaar, 6th ...</td>\n      <td>Spice Elephant</td>\n      <td>Yes</td>\n      <td>No</td>\n      <td>4.1/5</td>\n      <td>787</td>\n      <td>080 41714161</td>\n      <td>Banashankari</td>\n      <td>Casual Dining</td>\n      <td>Momos, Lunch Buffet, Chocolate Nirvana, Thai G...</td>\n      <td>Chinese, North Indian, Thai</td>\n      <td>800</td>\n      <td>\"[('Rated 4.0', 'RATED\\n  Had been here for di...</td>\n      <td>rice was well cooked and overall was great\\n\\n...</td>\n      <td>('Rated 5.0'</td>\n      <td>'RATED\\n  This place just cool ? with good am...</td>\n    </tr>\n    <tr>\n      <th>3</th>\n      <td>https://www.zomato.com/SanchurroBangalore?cont...</td>\n      <td>1112, Next to KIMS Medical College, 17th Cross...</td>\n      <td>San Churro Cafe</td>\n      <td>Yes</td>\n      <td>No</td>\n      <td>3.8/5</td>\n      <td>918</td>\n      <td>+91 9663487993</td>\n      <td>Banashankari</td>\n      <td>Cafe, Casual Dining</td>\n      <td>Churros, Cannelloni, Minestrone Soup, Hot Choc...</td>\n      <td>Cafe, Mexican, Italian</td>\n      <td>800</td>\n      <td>\"[('Rated 3.0', \"\"RATED\\n  Ambience is not tha...</td>\n      <td>('Rated 3.0'</td>\n      <td>\"\"RATED\\n \\nWent there for a quick bite with ...</td>\n      <td>pasta churros and lasagne.\\n\\nNachos were pat...</td>\n    </tr>\n    <tr>\n      <th>4</th>\n      <td>https://www.zomato.com/bangalore/addhuri-udupi...</td>\n      <td>1st Floor, Annakuteera, 3rd Stage, Banashankar...</td>\n      <td>Addhuri Udupi Bhojana</td>\n      <td>No</td>\n      <td>No</td>\n      <td>3.7/5</td>\n      <td>88</td>\n      <td>+91 9620009302</td>\n      <td>Banashankari</td>\n      <td>Quick Bites</td>\n      <td>Masala Dosa</td>\n      <td>South Indian, North Indian</td>\n      <td>300</td>\n      <td>\"[('Rated 4.0', \"\"RATED\\n  Great food and prop...</td>\n      <td>('Rated 2.0'</td>\n      <td>'RATED\\n  Reached the place at 3pm on Saturda...</td>\n      <td>('Rated 4.0'</td>\n    </tr>\n    <tr>\n      <th>5</th>\n      <td>https://www.zomato.com/bangalore/grand-village...</td>\n      <td>10, 3rd Floor, Lakshmi Associates, Gandhi Baza...</td>\n      <td>Grand Village</td>\n      <td>No</td>\n      <td>No</td>\n      <td>3.8/5</td>\n      <td>166</td>\n      <td>+91 8026612447</td>\n      <td>None</td>\n      <td>None</td>\n      <td>None</td>\n      <td>None</td>\n      <td>999</td>\n      <td>None</td>\n      <td>None</td>\n      <td>None</td>\n      <td>None</td>\n    </tr>\n    <tr>\n      <th>6</th>\n      <td>+91 9901210005\"</td>\n      <td>Basavanagudi</td>\n      <td>Casual Dining</td>\n      <td>Panipuri, Gol Gappe</td>\n      <td>North Indian, Rajasthani</td>\n      <td>600</td>\n      <td>999</td>\n      <td>[]</td>\n      <td>Buffet</td>\n      <td>Banashankari</td>\n      <td>None</td>\n      <td>None</td>\n      <td>999</td>\n      <td>None</td>\n      <td>None</td>\n      <td>None</td>\n      <td>None</td>\n    </tr>\n    <tr>\n      <th>7</th>\n      <td>https://www.zomato.com/bangalore/timepass-dinn...</td>\n      <td>37, 5-1, 4th Floor, Bosco Court, Gandhi Bazaar...</td>\n      <td>Timepass Dinner</td>\n      <td>Yes</td>\n      <td>No</td>\n      <td>3.8/5</td>\n      <td>286</td>\n      <td>+91 9980040002</td>\n      <td>None</td>\n      <td>None</td>\n      <td>None</td>\n      <td>None</td>\n      <td>999</td>\n      <td>None</td>\n      <td>None</td>\n      <td>None</td>\n      <td>None</td>\n    </tr>\n    <tr>\n      <th>8</th>\n      <td>+91 9980063005\"</td>\n      <td>Basavanagudi</td>\n      <td>Casual Dining</td>\n      <td>Onion Rings, Pasta, Kadhai Paneer, Salads, Sal...</td>\n      <td>North Indian</td>\n      <td>600</td>\n      <td>999</td>\n      <td>[]</td>\n      <td>Buffet</td>\n      <td>Banashankari</td>\n      <td>None</td>\n      <td>None</td>\n      <td>999</td>\n      <td>None</td>\n      <td>None</td>\n      <td>None</td>\n      <td>None</td>\n    </tr>\n    <tr>\n      <th>9</th>\n      <td>https://www.zomato.com/bangalore/rosewood-inte...</td>\n      <td>19/1, New Timberyard Layout, Beside Satellite ...</td>\n      <td>Rosewood International Hotel - Bar &amp; Restaurant</td>\n      <td>No</td>\n      <td>No</td>\n      <td>3.6/5</td>\n      <td>8</td>\n      <td>+91 9731716688</td>\n      <td>None</td>\n      <td>None</td>\n      <td>None</td>\n      <td>None</td>\n      <td>999</td>\n      <td>None</td>\n      <td>None</td>\n      <td>None</td>\n      <td>None</td>\n    </tr>\n  </tbody>\n</table>\n</div>"
     },
     "execution_count": 18,
     "metadata": {},
     "output_type": "execute_result"
    }
   ],
   "source": [
    "# Fill all nulls values with one common value (numeric value)\n",
    "df.na.fill(999).limit(10).toPandas()"
   ]
  },
  {
   "cell_type": "markdown",
   "metadata": {},
   "source": [
    "Usually you should specify what columns you want to fill with the subset parameter"
   ]
  },
  {
   "cell_type": "code",
   "execution_count": 19,
   "metadata": {
    "ExecuteTime": {
     "end_time": "2023-05-24T15:18:51.536450Z",
     "start_time": "2023-05-24T15:18:51.358908200Z"
    }
   },
   "outputs": [
    {
     "data": {
      "text/plain": "               url            address     name   \n0  +91 9986692090\"                BTM  No Name  \\\n1    00 805074123\"                BTM  No Name   \n2  +91 8971051846\"  Bannerghatta Road  No Name   \n3    080 39457777\"  Bannerghatta Road  No Name   \n4  +91 8971051846\"  Bannerghatta Road  No Name   \n\n                                        online_order   \n0                                  Momos, Oreo Shake  \\\n1                                               None   \n2                                               None   \n3  Chicken Biryani, Hyderabadi Biryani, Rolls, Mu...   \n4                                               None   \n\n                              book_table rate  votes          phone   \n0  Mughlai, North Indian, Chinese, Momos  600    NaN   ('Rated 3.0'  \\\n1         North Indian, Chinese, Arabian  700    NaN             []   \n2                    Street Food, Burger  150    NaN             []   \n3                  Biryani, North Indian  500    NaN   ('Rated 3.0'   \n4                    Street Food, Burger  150    NaN             []   \n\n                                            location   \n0   'RATED\\n  Simple food with great north indian...  \\\n1                                           Delivery   \n2                                           Delivery   \n3             'RATED\\n  too much oil in rice items')   \n4                                           Dine-out   \n\n                                           rest_type   \n0  ['Fry Chicken Kabab [5 Pieces]', 'Fry Chicken ...  \\\n1                                  Bannerghatta Road   \n2                                  Bannerghatta Road   \n3                                       ('Rated 2.0'   \n4                                  Bannerghatta Road   \n\n                            dish_liked           cuisines   \n0                             Delivery  Bannerghatta Road  \\\n1                                 None               None   \n2                                 None               None   \n3   'RATED\\n  salan was not provided')       ('Rated 1.0'   \n4                                 None               None   \n\n   approx_cost(for two people)   reviews_list                   menu_item   \n0                          NaN           None                        None  \\\n1                          NaN           None                        None   \n2                          NaN           None                        None   \n3                          NaN   ('Rated 3.0'   'RATED\\n  ok ok biryani')   \n4                          NaN           None                        None   \n\n  listed_in(type)                                    listed_in(city)  \n0            None                                               None  \n1            None                                               None  \n2            None                                               None  \n3    ('Rated 1.0'   \"\"RATED\\n  poor test & quality... will never ...  \n4            None                                               None  ",
      "text/html": "<div>\n<style scoped>\n    .dataframe tbody tr th:only-of-type {\n        vertical-align: middle;\n    }\n\n    .dataframe tbody tr th {\n        vertical-align: top;\n    }\n\n    .dataframe thead th {\n        text-align: right;\n    }\n</style>\n<table border=\"1\" class=\"dataframe\">\n  <thead>\n    <tr style=\"text-align: right;\">\n      <th></th>\n      <th>url</th>\n      <th>address</th>\n      <th>name</th>\n      <th>online_order</th>\n      <th>book_table</th>\n      <th>rate</th>\n      <th>votes</th>\n      <th>phone</th>\n      <th>location</th>\n      <th>rest_type</th>\n      <th>dish_liked</th>\n      <th>cuisines</th>\n      <th>approx_cost(for two people)</th>\n      <th>reviews_list</th>\n      <th>menu_item</th>\n      <th>listed_in(type)</th>\n      <th>listed_in(city)</th>\n    </tr>\n  </thead>\n  <tbody>\n    <tr>\n      <th>0</th>\n      <td>+91 9986692090\"</td>\n      <td>BTM</td>\n      <td>No Name</td>\n      <td>Momos, Oreo Shake</td>\n      <td>Mughlai, North Indian, Chinese, Momos</td>\n      <td>600</td>\n      <td>NaN</td>\n      <td>('Rated 3.0'</td>\n      <td>'RATED\\n  Simple food with great north indian...</td>\n      <td>['Fry Chicken Kabab [5 Pieces]', 'Fry Chicken ...</td>\n      <td>Delivery</td>\n      <td>Bannerghatta Road</td>\n      <td>NaN</td>\n      <td>None</td>\n      <td>None</td>\n      <td>None</td>\n      <td>None</td>\n    </tr>\n    <tr>\n      <th>1</th>\n      <td>00 805074123\"</td>\n      <td>BTM</td>\n      <td>No Name</td>\n      <td>None</td>\n      <td>North Indian, Chinese, Arabian</td>\n      <td>700</td>\n      <td>NaN</td>\n      <td>[]</td>\n      <td>Delivery</td>\n      <td>Bannerghatta Road</td>\n      <td>None</td>\n      <td>None</td>\n      <td>NaN</td>\n      <td>None</td>\n      <td>None</td>\n      <td>None</td>\n      <td>None</td>\n    </tr>\n    <tr>\n      <th>2</th>\n      <td>+91 8971051846\"</td>\n      <td>Bannerghatta Road</td>\n      <td>No Name</td>\n      <td>None</td>\n      <td>Street Food, Burger</td>\n      <td>150</td>\n      <td>NaN</td>\n      <td>[]</td>\n      <td>Delivery</td>\n      <td>Bannerghatta Road</td>\n      <td>None</td>\n      <td>None</td>\n      <td>NaN</td>\n      <td>None</td>\n      <td>None</td>\n      <td>None</td>\n      <td>None</td>\n    </tr>\n    <tr>\n      <th>3</th>\n      <td>080 39457777\"</td>\n      <td>Bannerghatta Road</td>\n      <td>No Name</td>\n      <td>Chicken Biryani, Hyderabadi Biryani, Rolls, Mu...</td>\n      <td>Biryani, North Indian</td>\n      <td>500</td>\n      <td>NaN</td>\n      <td>('Rated 3.0'</td>\n      <td>'RATED\\n  too much oil in rice items')</td>\n      <td>('Rated 2.0'</td>\n      <td>'RATED\\n  salan was not provided')</td>\n      <td>('Rated 1.0'</td>\n      <td>NaN</td>\n      <td>('Rated 3.0'</td>\n      <td>'RATED\\n  ok ok biryani')</td>\n      <td>('Rated 1.0'</td>\n      <td>\"\"RATED\\n  poor test &amp; quality... will never ...</td>\n    </tr>\n    <tr>\n      <th>4</th>\n      <td>+91 8971051846\"</td>\n      <td>Bannerghatta Road</td>\n      <td>No Name</td>\n      <td>None</td>\n      <td>Street Food, Burger</td>\n      <td>150</td>\n      <td>NaN</td>\n      <td>[]</td>\n      <td>Dine-out</td>\n      <td>Bannerghatta Road</td>\n      <td>None</td>\n      <td>None</td>\n      <td>NaN</td>\n      <td>None</td>\n      <td>None</td>\n      <td>None</td>\n      <td>None</td>\n    </tr>\n  </tbody>\n</table>\n</div>"
     },
     "execution_count": 19,
     "metadata": {},
     "output_type": "execute_result"
    }
   ],
   "source": [
    "df.filter(df.name.isNull()).na.fill('No Name', subset=['name']).limit(5).toPandas()"
   ]
  },
  {
   "cell_type": "markdown",
   "metadata": {},
   "source": [
    "A very common practice is to fill values with the **mean value** for the column. Here is a fun function to that in an automatted way."
   ]
  },
  {
   "cell_type": "code",
   "execution_count": 25,
   "metadata": {
    "ExecuteTime": {
     "end_time": "2023-05-24T15:25:41.854094600Z",
     "start_time": "2023-05-24T15:25:38.538262400Z"
    }
   },
   "outputs": [
    {
     "name": "stdout",
     "output_type": "stream",
     "text": [
      "{'votes': 283.71422493811883, 'approx_cost(for two people)': 387.40837156371134}\n"
     ]
    },
    {
     "data": {
      "text/plain": "                                                     url   \n0      https://www.zomato.com/bangalore/jalsa-banasha...  \\\n1                                        +91 9743772233\"   \n2      https://www.zomato.com/bangalore/spice-elephan...   \n3      https://www.zomato.com/SanchurroBangalore?cont...   \n4      https://www.zomato.com/bangalore/addhuri-udupi...   \n...                                                  ...   \n71725  https://www.zomato.com/bangalore/best-brews-fo...   \n71726  https://www.zomato.com/bangalore/vinod-bar-and...   \n71727  https://www.zomato.com/bangalore/plunge-sherat...   \n71728  https://www.zomato.com/bangalore/chime-sherato...   \n71729  https://www.zomato.com/bangalore/the-nest-the-...   \n\n                                                 address   \n0      942, 21st Main Road, 2nd Stage, Banashankari, ...  \\\n1                                           Banashankari   \n2      2nd Floor, 80 Feet Road, Near Big Bazaar, 6th ...   \n3      1112, Next to KIMS Medical College, 17th Cross...   \n4      1st Floor, Annakuteera, 3rd Stage, Banashankar...   \n...                                                  ...   \n71725  Four Points by Sheraton Bengaluru, 43/3, White...   \n71726  Number 10, Garudachar Palya, Mahadevapura, Whi...   \n71727  Sheraton Grand Bengaluru Whitefield Hotel & Co...   \n71728  Sheraton Grand Bengaluru Whitefield Hotel & Co...   \n71729  ITPL Main Road, KIADB Export Promotion Industr...   \n\n                                                    name   \n0                                                  Jalsa  \\\n1                                          Casual Dining   \n2                                         Spice Elephant   \n3                                        San Churro Cafe   \n4                                  Addhuri Udupi Bhojana   \n...                                                  ...   \n71725  Best Brews - Four Points by Sheraton Bengaluru...   \n71726                           Vinod Bar And Restaurant   \n71727  Plunge - Sheraton Grand Bengaluru Whitefield H...   \n71728  Chime - Sheraton Grand Bengaluru Whitefield Ho...   \n71729                       The Nest - The Den Bengaluru   \n\n                                            online_order   \n0                                                    Yes  \\\n1      Pasta, Lunch Buffet, Masala Papad, Paneer Laja...   \n2                                                    Yes   \n3                                                    Yes   \n4                                                     No   \n...                                                  ...   \n71725                                                 No   \n71726                                                 No   \n71727                                                 No   \n71728                                                 No   \n71729                                                 No   \n\n                           book_table    rate  votes           phone   \n0                                 Yes   4.1/5    775    080 42297555  \\\n1      North Indian, Mughlai, Chinese     800    283    ('Rated 4.0'   \n2                                  No   4.1/5    787    080 41714161   \n3                                  No   3.8/5    918  +91 9663487993   \n4                                  No   3.7/5     88  +91 9620009302   \n...                               ...     ...    ...             ...   \n71725                              No  3.6 /5     27    080 40301477   \n71726                              No    None      0  +91 8197675843   \n71727                              No    None      0            None   \n71728                             Yes  4.3 /5    236    080 49652769   \n71729                              No  3.4 /5     13  +91 8071117272   \n\n                                                location            rest_type   \n0                                                   None                 None  \\\n1       'RATED\\n  You canÃ\\x83Ã\\x83Ã\\x82Ã\\x82Ã\\x...         ('Rated 5.0'   \n2                                           Banashankari        Casual Dining   \n3                                           Banashankari  Cafe, Casual Dining   \n4                                           Banashankari          Quick Bites   \n...                                                  ...                  ...   \n71725                                         Whitefield                  Bar   \n71726                                         Whitefield                  Bar   \n71727                                         Whitefield                  Bar   \n71728                         ITPL Main Road, Whitefield                  Bar   \n71729                         ITPL Main Road, Whitefield   Bar, Casual Dining   \n\n                                              dish_liked   \n0                                                   None  \\\n1       'RATED\\n  Overdelighted by the service and fo...   \n2      Momos, Lunch Buffet, Chocolate Nirvana, Thai G...   \n3      Churros, Cannelloni, Minestrone Soup, Hot Choc...   \n4                                            Masala Dosa   \n...                                                  ...   \n71725                                               None   \n71726                                               None   \n71727                                               None   \n71728                       Cocktails, Pizza, Buttermilk   \n71729                                               None   \n\n                                     cuisines  approx_cost(for two people)   \n0                                        None                          387  \\\n1                                ('Rated 4.0'                          387   \n2                 Chinese, North Indian, Thai                          800   \n3                      Cafe, Mexican, Italian                          800   \n4                  South Indian, North Indian                          300   \n...                                       ...                          ...   \n71725                             Continental                          387   \n71726                             Finger Food                          600   \n71727                             Finger Food                          387   \n71728                             Finger Food                          387   \n71729  Finger Food, North Indian, Continental                          387   \n\n                                            reviews_list   \n0                                                   None  \\\n1                                           ('Rated 4.0'   \n2      \"[('Rated 4.0', 'RATED\\n  Had been here for di...   \n3      \"[('Rated 3.0', \"\"RATED\\n  Ambience is not tha...   \n4      \"[('Rated 4.0', \"\"RATED\\n  Great food and prop...   \n...                                                  ...   \n71725  \"[('Rated 5.0', \"\"RATED\\n  Food and service ar...   \n71726                                                 []   \n71727                                                 []   \n71728  \"[('Rated 4.0', 'RATED\\n  Nice and friendly pl...   \n71729  [('Rated 5.0', 'RATED\\n  Great ambience , look...   \n\n                                               menu_item   \n0                                                   None  \\\n1       'RATED\\n  The place is nice and comfortable. ...   \n2      rice was well cooked and overall was great\\n\\n...   \n3                                           ('Rated 3.0'   \n4                                           ('Rated 2.0'   \n...                                                  ...   \n71725                                             polite   \n71726                                                 []   \n71727                                                 []   \n71728                                       ('Rated 5.0'   \n71729                                                 []   \n\n                                         listed_in(type)   \n0                                                   None  \\\n1                                           ('Rated 4.0'   \n2                                           ('Rated 5.0'   \n3       \"\"RATED\\n \\nWent there for a quick bite with ...   \n4       'RATED\\n  Reached the place at 3pm on Saturda...   \n...                                                  ...   \n71725   and always willing to go the extra mile to he...   \n71726                                      Pubs and bars   \n71727                                      Pubs and bars   \n71728   'RATED\\n  I visited chime bar at Sheraton hot...   \n71729                                      Pubs and bars   \n\n                                         listed_in(city)  \n0                                                   None  \n1       'RATED\\n  The place is nice and comfortable. ...  \n2       'RATED\\n  This place just cool ? with good am...  \n3       pasta churros and lasagne.\\n\\nNachos were pat...  \n4                                           ('Rated 4.0'  \n...                                                  ...  \n71725                                       ('Rated 3.5'  \n71726                                         Whitefield  \n71727                                         Whitefield  \n71728                                       ('Rated 4.0'  \n71729                                         Whitefield  \n\n[71730 rows x 17 columns]",
      "text/html": "<div>\n<style scoped>\n    .dataframe tbody tr th:only-of-type {\n        vertical-align: middle;\n    }\n\n    .dataframe tbody tr th {\n        vertical-align: top;\n    }\n\n    .dataframe thead th {\n        text-align: right;\n    }\n</style>\n<table border=\"1\" class=\"dataframe\">\n  <thead>\n    <tr style=\"text-align: right;\">\n      <th></th>\n      <th>url</th>\n      <th>address</th>\n      <th>name</th>\n      <th>online_order</th>\n      <th>book_table</th>\n      <th>rate</th>\n      <th>votes</th>\n      <th>phone</th>\n      <th>location</th>\n      <th>rest_type</th>\n      <th>dish_liked</th>\n      <th>cuisines</th>\n      <th>approx_cost(for two people)</th>\n      <th>reviews_list</th>\n      <th>menu_item</th>\n      <th>listed_in(type)</th>\n      <th>listed_in(city)</th>\n    </tr>\n  </thead>\n  <tbody>\n    <tr>\n      <th>0</th>\n      <td>https://www.zomato.com/bangalore/jalsa-banasha...</td>\n      <td>942, 21st Main Road, 2nd Stage, Banashankari, ...</td>\n      <td>Jalsa</td>\n      <td>Yes</td>\n      <td>Yes</td>\n      <td>4.1/5</td>\n      <td>775</td>\n      <td>080 42297555</td>\n      <td>None</td>\n      <td>None</td>\n      <td>None</td>\n      <td>None</td>\n      <td>387</td>\n      <td>None</td>\n      <td>None</td>\n      <td>None</td>\n      <td>None</td>\n    </tr>\n    <tr>\n      <th>1</th>\n      <td>+91 9743772233\"</td>\n      <td>Banashankari</td>\n      <td>Casual Dining</td>\n      <td>Pasta, Lunch Buffet, Masala Papad, Paneer Laja...</td>\n      <td>North Indian, Mughlai, Chinese</td>\n      <td>800</td>\n      <td>283</td>\n      <td>('Rated 4.0'</td>\n      <td>'RATED\\n  You canÃ\\x83Ã\\x83Ã\\x82Ã\\x82Ã\\x...</td>\n      <td>('Rated 5.0'</td>\n      <td>'RATED\\n  Overdelighted by the service and fo...</td>\n      <td>('Rated 4.0'</td>\n      <td>387</td>\n      <td>('Rated 4.0'</td>\n      <td>'RATED\\n  The place is nice and comfortable. ...</td>\n      <td>('Rated 4.0'</td>\n      <td>'RATED\\n  The place is nice and comfortable. ...</td>\n    </tr>\n    <tr>\n      <th>2</th>\n      <td>https://www.zomato.com/bangalore/spice-elephan...</td>\n      <td>2nd Floor, 80 Feet Road, Near Big Bazaar, 6th ...</td>\n      <td>Spice Elephant</td>\n      <td>Yes</td>\n      <td>No</td>\n      <td>4.1/5</td>\n      <td>787</td>\n      <td>080 41714161</td>\n      <td>Banashankari</td>\n      <td>Casual Dining</td>\n      <td>Momos, Lunch Buffet, Chocolate Nirvana, Thai G...</td>\n      <td>Chinese, North Indian, Thai</td>\n      <td>800</td>\n      <td>\"[('Rated 4.0', 'RATED\\n  Had been here for di...</td>\n      <td>rice was well cooked and overall was great\\n\\n...</td>\n      <td>('Rated 5.0'</td>\n      <td>'RATED\\n  This place just cool ? with good am...</td>\n    </tr>\n    <tr>\n      <th>3</th>\n      <td>https://www.zomato.com/SanchurroBangalore?cont...</td>\n      <td>1112, Next to KIMS Medical College, 17th Cross...</td>\n      <td>San Churro Cafe</td>\n      <td>Yes</td>\n      <td>No</td>\n      <td>3.8/5</td>\n      <td>918</td>\n      <td>+91 9663487993</td>\n      <td>Banashankari</td>\n      <td>Cafe, Casual Dining</td>\n      <td>Churros, Cannelloni, Minestrone Soup, Hot Choc...</td>\n      <td>Cafe, Mexican, Italian</td>\n      <td>800</td>\n      <td>\"[('Rated 3.0', \"\"RATED\\n  Ambience is not tha...</td>\n      <td>('Rated 3.0'</td>\n      <td>\"\"RATED\\n \\nWent there for a quick bite with ...</td>\n      <td>pasta churros and lasagne.\\n\\nNachos were pat...</td>\n    </tr>\n    <tr>\n      <th>4</th>\n      <td>https://www.zomato.com/bangalore/addhuri-udupi...</td>\n      <td>1st Floor, Annakuteera, 3rd Stage, Banashankar...</td>\n      <td>Addhuri Udupi Bhojana</td>\n      <td>No</td>\n      <td>No</td>\n      <td>3.7/5</td>\n      <td>88</td>\n      <td>+91 9620009302</td>\n      <td>Banashankari</td>\n      <td>Quick Bites</td>\n      <td>Masala Dosa</td>\n      <td>South Indian, North Indian</td>\n      <td>300</td>\n      <td>\"[('Rated 4.0', \"\"RATED\\n  Great food and prop...</td>\n      <td>('Rated 2.0'</td>\n      <td>'RATED\\n  Reached the place at 3pm on Saturda...</td>\n      <td>('Rated 4.0'</td>\n    </tr>\n    <tr>\n      <th>...</th>\n      <td>...</td>\n      <td>...</td>\n      <td>...</td>\n      <td>...</td>\n      <td>...</td>\n      <td>...</td>\n      <td>...</td>\n      <td>...</td>\n      <td>...</td>\n      <td>...</td>\n      <td>...</td>\n      <td>...</td>\n      <td>...</td>\n      <td>...</td>\n      <td>...</td>\n      <td>...</td>\n      <td>...</td>\n    </tr>\n    <tr>\n      <th>71725</th>\n      <td>https://www.zomato.com/bangalore/best-brews-fo...</td>\n      <td>Four Points by Sheraton Bengaluru, 43/3, White...</td>\n      <td>Best Brews - Four Points by Sheraton Bengaluru...</td>\n      <td>No</td>\n      <td>No</td>\n      <td>3.6 /5</td>\n      <td>27</td>\n      <td>080 40301477</td>\n      <td>Whitefield</td>\n      <td>Bar</td>\n      <td>None</td>\n      <td>Continental</td>\n      <td>387</td>\n      <td>\"[('Rated 5.0', \"\"RATED\\n  Food and service ar...</td>\n      <td>polite</td>\n      <td>and always willing to go the extra mile to he...</td>\n      <td>('Rated 3.5'</td>\n    </tr>\n    <tr>\n      <th>71726</th>\n      <td>https://www.zomato.com/bangalore/vinod-bar-and...</td>\n      <td>Number 10, Garudachar Palya, Mahadevapura, Whi...</td>\n      <td>Vinod Bar And Restaurant</td>\n      <td>No</td>\n      <td>No</td>\n      <td>None</td>\n      <td>0</td>\n      <td>+91 8197675843</td>\n      <td>Whitefield</td>\n      <td>Bar</td>\n      <td>None</td>\n      <td>Finger Food</td>\n      <td>600</td>\n      <td>[]</td>\n      <td>[]</td>\n      <td>Pubs and bars</td>\n      <td>Whitefield</td>\n    </tr>\n    <tr>\n      <th>71727</th>\n      <td>https://www.zomato.com/bangalore/plunge-sherat...</td>\n      <td>Sheraton Grand Bengaluru Whitefield Hotel &amp; Co...</td>\n      <td>Plunge - Sheraton Grand Bengaluru Whitefield H...</td>\n      <td>No</td>\n      <td>No</td>\n      <td>None</td>\n      <td>0</td>\n      <td>None</td>\n      <td>Whitefield</td>\n      <td>Bar</td>\n      <td>None</td>\n      <td>Finger Food</td>\n      <td>387</td>\n      <td>[]</td>\n      <td>[]</td>\n      <td>Pubs and bars</td>\n      <td>Whitefield</td>\n    </tr>\n    <tr>\n      <th>71728</th>\n      <td>https://www.zomato.com/bangalore/chime-sherato...</td>\n      <td>Sheraton Grand Bengaluru Whitefield Hotel &amp; Co...</td>\n      <td>Chime - Sheraton Grand Bengaluru Whitefield Ho...</td>\n      <td>No</td>\n      <td>Yes</td>\n      <td>4.3 /5</td>\n      <td>236</td>\n      <td>080 49652769</td>\n      <td>ITPL Main Road, Whitefield</td>\n      <td>Bar</td>\n      <td>Cocktails, Pizza, Buttermilk</td>\n      <td>Finger Food</td>\n      <td>387</td>\n      <td>\"[('Rated 4.0', 'RATED\\n  Nice and friendly pl...</td>\n      <td>('Rated 5.0'</td>\n      <td>'RATED\\n  I visited chime bar at Sheraton hot...</td>\n      <td>('Rated 4.0'</td>\n    </tr>\n    <tr>\n      <th>71729</th>\n      <td>https://www.zomato.com/bangalore/the-nest-the-...</td>\n      <td>ITPL Main Road, KIADB Export Promotion Industr...</td>\n      <td>The Nest - The Den Bengaluru</td>\n      <td>No</td>\n      <td>No</td>\n      <td>3.4 /5</td>\n      <td>13</td>\n      <td>+91 8071117272</td>\n      <td>ITPL Main Road, Whitefield</td>\n      <td>Bar, Casual Dining</td>\n      <td>None</td>\n      <td>Finger Food, North Indian, Continental</td>\n      <td>387</td>\n      <td>[('Rated 5.0', 'RATED\\n  Great ambience , look...</td>\n      <td>[]</td>\n      <td>Pubs and bars</td>\n      <td>Whitefield</td>\n    </tr>\n  </tbody>\n</table>\n<p>71730 rows × 17 columns</p>\n</div>"
     },
     "execution_count": 25,
     "metadata": {},
     "output_type": "execute_result"
    }
   ],
   "source": [
    "def fill_with_mean(df, include=None):\n",
    "    if include is None:\n",
    "        include = set()\n",
    "    stats = (\n",
    "        df.agg(\n",
    "            *(avg(c).alias(c) for c in df.columns if c in include))\n",
    "    )\n",
    "    print(stats.first().asDict())\n",
    "    return df.na.fill(stats.first().asDict())\n",
    "\n",
    "\n",
    "updated_df = fill_with_mean(df, [\"votes\", \"approx_cost(for two people)\"])\n",
    "updated_df.toPandas()"
   ]
  },
  {
   "cell_type": "markdown",
   "metadata": {},
   "source": [
    "## Keeping the missing data\n",
    "A few machine learning algorithms can easily deal with missing data. Just do your research and make sure the nulls values are not impacting the integrity of your analysis. "
   ]
  },
  {
   "cell_type": "markdown",
   "metadata": {},
   "source": [
    "That is all we need to know for now!"
   ]
  }
 ],
 "metadata": {
  "kernelspec": {
   "display_name": "Python 3",
   "language": "python",
   "name": "python3"
  },
  "language_info": {
   "codemirror_mode": {
    "name": "ipython",
    "version": 3
   },
   "file_extension": ".py",
   "mimetype": "text/x-python",
   "name": "python",
   "nbconvert_exporter": "python",
   "pygments_lexer": "ipython3",
   "version": "3.7.4"
  }
 },
 "nbformat": 4,
 "nbformat_minor": 2
}
